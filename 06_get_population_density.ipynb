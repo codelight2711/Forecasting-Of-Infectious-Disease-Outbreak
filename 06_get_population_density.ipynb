{
 "cells": [
  {
   "cell_type": "markdown",
   "metadata": {},
   "source": [
    "# Get population density\n",
    "\n",
    "Population density for the outbreak region used the [NASA Socioeconomic Data and Applications Center (SEDAC)](http://sedac.ciesin.columbia.edu/data/set/gpw-v4-population-density) Gridded Population and Population Density Map of the World. This is a `tif` file with population densities encoded in the file. \n",
    "\n",
    "Extraction of the relevant data requires `osgeo` which would only run in a separate python installation. Thus, the python code below is encapsulated in a script so that Jupyter did not also have to be installed in the osgeo-specific installation."
   ]
  },
  {
   "cell_type": "code",
   "execution_count": 1,
   "metadata": {
    "collapsed": false
   },
   "outputs": [
    {
     "name": "stdout",
     "output_type": "stream",
     "text": [
      "import pandas as pd\r\n",
      "import numpy as np\r\n",
      "from csv_pkl_sql import csv_it, sql_it\r\n",
      "import cPickle as pickle\r\n",
      "\r\n",
      "from osgeo import gdal\r\n",
      "\r\n",
      "# Import the latitude and longitude data\r\n",
      "lat_long_data = pd.read_csv('../csv/01_latitude_longitude_google.csv')\r\n",
      "\r\n",
      "\r\n",
      "# Import the geoTIF map\r\n",
      "ds = gdal.Open('../gpw_population_density/gpw-v4-population-density_2015.tif')\r\n",
      "\r\n",
      "rows = ds.RasterYSize\r\n",
      "cols = ds.RasterXSize\r\n",
      "\r\n",
      "transform = ds.GetGeoTransform()\r\n",
      "xOrigin = transform[0]\r\n",
      "yOrigin = transform[3]\r\n",
      "pixelWidth = transform[1]\r\n",
      "pixelHeight = transform[5]\r\n",
      "\r\n",
      "# My data has one band, otherwise would have to iterate through bands\r\n",
      "band = ds.GetRasterBand(1)\r\n",
      "\r\n",
      "\r\n",
      "def get_population_density(latitude, longitude, \r\n",
      "                           xOrigin=xOrigin, yOrigin=yOrigin,\r\n",
      "                           pixelWidth=pixelWidth, pixelHeight=pixelHeight,\r\n",
      "                           band=band):\r\n",
      "\r\n",
      "    # # Single point, x=longitude, y=latitude\r\n",
      "    # x = -155.662499999999824\r\n",
      "    # y = 19.0041666666754416\r\n",
      "    x = longitude\r\n",
      "    y = latitude\r\n",
      "\r\n",
      "    # This reads three pixels in x- and y- direction\r\n",
      "    try:\r\n",
      "        # Subtract one off the end because I want to read 3 x 3 region\r\n",
      "        size = 100\r\n",
      "\r\n",
      "        dist_matrix = np.meshgrid(np.arange(-size, size+1), \r\n",
      "                                  np.arange(-size, size+1))\r\n",
      "        dist_matrix = np.sqrt((dist_matrix[0]**2 + dist_matrix[1]**2))\r\n",
      "        sort_order = dist_matrix.ravel().argsort()\r\n",
      "\r\n",
      "        xOffset = int((x - xOrigin) / pixelWidth) - size\r\n",
      "        yOffset = int((y - yOrigin) / pixelHeight) - size\r\n",
      "\r\n",
      "        data = band.ReadAsArray(xOffset, yOffset, 2*size+1, 2*size+1)\r\n",
      "        data_sort = data.ravel()[sort_order]\r\n",
      "\r\n",
      "        density = data_sort[data_sort>0][:9].mean()\r\n",
      "    except:\r\n",
      "        density = np.NaN\r\n",
      "\r\n",
      "    return density\r\n",
      "\r\n",
      "\r\n",
      "lat_long_data['density_per_km'] = lat_long_data.apply(lambda x: get_population_density(x.latitude, x.longitude), axis=1)\r\n",
      "\r\n",
      "#lat_long_data[['location','density_per_km']].to_csv('../csv/06_population_density.csv')\r\n",
      "csv_it(lat_long_data[['location','density_per_km']], '06_population_density')\r\n",
      "\r\n",
      "with open('../pkl/06_population_density.pkl', 'w') as fh:\r\n",
      "    pickle.dump(lat_long_data[['location','density_per_km']], fh)\r\n",
      "\r\n",
      "sql_it(lat_long_data[['location','density_per_km']], '06_population_density')\r\n"
     ]
    }
   ],
   "source": [
    "! cat 06_get_population_density.py"
   ]
  },
  {
   "cell_type": "code",
   "execution_count": null,
   "metadata": {
    "collapsed": true
   },
   "outputs": [],
   "source": [
    "! ./06_get_population_density.py"
   ]
  }
 ],
 "metadata": {
  "anaconda-cloud": {},
  "kernelspec": {
   "display_name": "Python [conda env:scienv2]",
   "language": "python",
   "name": "conda-env-scienv2-py"
  },
  "language_info": {
   "codemirror_mode": {
    "name": "ipython",
    "version": 2
   },
   "file_extension": ".py",
   "mimetype": "text/x-python",
   "name": "python",
   "nbconvert_exporter": "python",
   "pygments_lexer": "ipython2",
   "version": "2.7.12"
  }
 },
 "nbformat": 4,
 "nbformat_minor": 1
}
