{
 "cells": [
  {
   "cell_type": "markdown",
   "metadata": {},
   "source": [
    "# Import sightings of Aedes aegypti mosquitos"
   ]
  },
  {
   "cell_type": "code",
   "execution_count": 49,
   "metadata": {
    "ExecuteTime": {
     "end_time": "2016-07-28T03:50:46.979077",
     "start_time": "2016-07-28T03:50:46.972167"
    },
    "collapsed": true
   },
   "outputs": [],
   "source": [
    "import pandas as pd\n",
    "import numpy as np\n",
    "import re\n",
    "\n",
    "from csv_pkl_sql import save_it, pkl_it"
   ]
  },
  {
   "cell_type": "markdown",
   "metadata": {},
   "source": [
    "## Load the mosquito data"
   ]
  },
  {
   "cell_type": "code",
   "execution_count": 69,
   "metadata": {
    "ExecuteTime": {
     "end_time": "2016-07-28T03:52:41.221342",
     "start_time": "2016-07-28T03:52:41.104834"
    },
    "collapsed": false
   },
   "outputs": [],
   "source": [
    "mosquito = pd.read_csv('../aegypti_albopictus/aegypti_albopictus.csv')\n",
    "\n",
    "mosquito.columns = [x.lower() for x in mosquito.columns]\n",
    "\n",
    "# according to the code book, x is longitude and y is latitude\n",
    "mosquito.rename(columns={'x':'longitude', 'y':'latitude'}, inplace=True)"
   ]
  },
  {
   "cell_type": "code",
   "execution_count": 70,
   "metadata": {
    "ExecuteTime": {
     "end_time": "2016-07-28T03:52:41.456767",
     "start_time": "2016-07-28T03:52:41.299299"
    },
    "collapsed": true
   },
   "outputs": [],
   "source": [
    "mosquito_clean = pd.concat([mosquito.loc[mosquito.year=='2006-2008'].assign(year=x) \n",
    "                      for x in ['2006', '2007', '2008']])\n",
    "\n",
    "mosquito_clean = pd.concat([mosquito.loc[mosquito.year!='2006-2008'], mosquito_clean])\n",
    "mosquito_clean = mosquito_clean.loc[mosquito_clean.year.notnull()]\n",
    "mosquito_clean['year'] = mosquito_clean.year.astype(int)\n",
    "mosquito_clean.sort_values('year',inplace=True)"
   ]
  },
  {
   "cell_type": "code",
   "execution_count": 71,
   "metadata": {
    "ExecuteTime": {
     "end_time": "2016-07-28T03:52:41.514555",
     "start_time": "2016-07-28T03:52:41.504350"
    },
    "collapsed": true
   },
   "outputs": [],
   "source": [
    "mosquito_clean = mosquito_clean.loc[mosquito_clean.year>=2006]"
   ]
  },
  {
   "cell_type": "markdown",
   "metadata": {},
   "source": [
    "## Compare to airport namings"
   ]
  },
  {
   "cell_type": "code",
   "execution_count": 82,
   "metadata": {
    "ExecuteTime": {
     "end_time": "2016-07-31T16:49:38.273285",
     "start_time": "2016-07-31T16:49:38.168521"
    },
    "collapsed": true
   },
   "outputs": [],
   "source": [
    "airport = pd.read_pickle('../pkl/02_airport_information_fallingrain.pkl')"
   ]
  },
  {
   "cell_type": "code",
   "execution_count": 73,
   "metadata": {
    "ExecuteTime": {
     "end_time": "2016-07-28T03:52:42.139875",
     "start_time": "2016-07-28T03:52:42.128623"
    },
    "collapsed": false
   },
   "outputs": [
    {
     "data": {
      "text/plain": [
       "array([ True,  True,  True, False, False,  True, False,  True,  True,\n",
       "        True, False, False], dtype=bool)"
      ]
     },
     "execution_count": 73,
     "metadata": {},
     "output_type": "execute_result"
    }
   ],
   "source": [
    "airport_list = airport.country.unique()\n",
    "mosquito_list = mosquito_clean.country.unique()\n",
    "\n",
    "np.in1d(airport_list, mosquito_list)"
   ]
  },
  {
   "cell_type": "code",
   "execution_count": 74,
   "metadata": {
    "ExecuteTime": {
     "end_time": "2016-07-28T03:52:50.675114",
     "start_time": "2016-07-28T03:52:50.666959"
    },
    "collapsed": false
   },
   "outputs": [
    {
     "data": {
      "text/plain": [
       "('United States',\n",
       " [u'Dominican Republic', u'Ecuador', u'Guatemala', u'Panama', 'United States'])"
      ]
     },
     "execution_count": 74,
     "metadata": {},
     "output_type": "execute_result"
    }
   ],
   "source": [
    "airport_list[-1], [x for x in airport_list if x not in mosquito_list]"
   ]
  },
  {
   "cell_type": "code",
   "execution_count": 75,
   "metadata": {
    "ExecuteTime": {
     "end_time": "2016-07-28T03:52:54.945857",
     "start_time": "2016-07-28T03:52:54.898317"
    },
    "collapsed": true
   },
   "outputs": [],
   "source": [
    "mask = mosquito_clean.country=='United States of America'\n",
    "mosquito_clean.loc[mask,'country'] = 'United States'"
   ]
  },
  {
   "cell_type": "code",
   "execution_count": 78,
   "metadata": {
    "ExecuteTime": {
     "end_time": "2016-07-28T03:53:22.351008",
     "start_time": "2016-07-28T03:53:22.333797"
    },
    "collapsed": false,
    "scrolled": true
   },
   "outputs": [
    {
     "data": {
      "text/plain": [
       "['Albania',\n",
       " 'Algeria',\n",
       " 'Antigua and Barbuda',\n",
       " 'Argentina',\n",
       " 'Australia',\n",
       " 'Austria',\n",
       " 'Bangladesh',\n",
       " 'Belgium',\n",
       " 'Belize',\n",
       " 'Bermuda',\n",
       " 'Bolivia',\n",
       " 'Bosnia and Herzegovina',\n",
       " 'Brazil',\n",
       " 'Brunei Darussalam',\n",
       " 'Bulgaria',\n",
       " \"C?te d'Ivoire\",\n",
       " 'Cameroon',\n",
       " 'Cayman Islands',\n",
       " 'Central African Republic',\n",
       " 'China',\n",
       " 'Colombia',\n",
       " 'Comoros',\n",
       " 'Congo',\n",
       " 'Costa Rica',\n",
       " 'Croatia',\n",
       " 'Cuba',\n",
       " 'Czech Republic',\n",
       " 'El Salvador',\n",
       " 'France',\n",
       " 'French Guiana',\n",
       " 'French Polynesia',\n",
       " 'Gabon',\n",
       " 'Georgia',\n",
       " 'Germany',\n",
       " 'Glorioso Island',\n",
       " 'Greece',\n",
       " 'Guadeloupe',\n",
       " 'Guam',\n",
       " 'Haiti',\n",
       " 'Hong Kong',\n",
       " 'India',\n",
       " 'Indonesia',\n",
       " 'Israel',\n",
       " 'Italy',\n",
       " 'Japan',\n",
       " 'Kenya',\n",
       " 'Korea, Republic of',\n",
       " \"Lao People's Democratic Republic\",\n",
       " 'Lebanon',\n",
       " 'Madagascar',\n",
       " 'Malaysia',\n",
       " 'Maldives',\n",
       " 'Malta',\n",
       " 'Marshall Islands',\n",
       " 'Martinique',\n",
       " 'Mauritius',\n",
       " 'Mayotte',\n",
       " 'Mexico',\n",
       " 'Montenegro',\n",
       " 'Myanmar',\n",
       " 'Nepal',\n",
       " 'Netherlands',\n",
       " 'New Caledonia',\n",
       " 'Nicaragua',\n",
       " 'Nigeria',\n",
       " 'Pakistan',\n",
       " 'Paraguay',\n",
       " 'Peru',\n",
       " 'Philippines',\n",
       " 'Puerto Rico',\n",
       " 'R?union',\n",
       " 'Romania',\n",
       " 'Russian Federation',\n",
       " 'Saint Kitts and Nevis',\n",
       " 'Saudi Arabia',\n",
       " 'Senegal',\n",
       " 'Serbia',\n",
       " 'Seychelles',\n",
       " 'Singapore',\n",
       " 'Slovakia',\n",
       " 'Slovenia',\n",
       " 'Spain',\n",
       " 'Sri Lanka',\n",
       " 'Sudan',\n",
       " 'Switzerland',\n",
       " 'Taiwan',\n",
       " 'Thailand',\n",
       " 'Tonga',\n",
       " 'Trinidad and Tobago',\n",
       " 'Turkey',\n",
       " 'Uganda',\n",
       " 'United States',\n",
       " 'Uruguay',\n",
       " 'Venezuela',\n",
       " 'Viet Nam',\n",
       " 'West Bank',\n",
       " 'Yemen',\n",
       " 'Zambia']"
      ]
     },
     "execution_count": 78,
     "metadata": {},
     "output_type": "execute_result"
    }
   ],
   "source": [
    "sorted(mosquito_clean.country.unique())"
   ]
  },
  {
   "cell_type": "code",
   "execution_count": 79,
   "metadata": {
    "ExecuteTime": {
     "end_time": "2016-07-28T03:53:52.522588",
     "start_time": "2016-07-28T03:53:52.511782"
    },
    "collapsed": false
   },
   "outputs": [
    {
     "data": {
      "text/plain": [
       "array([ True,  True,  True, False, False,  True, False,  True,  True,\n",
       "        True, False,  True], dtype=bool)"
      ]
     },
     "execution_count": 79,
     "metadata": {},
     "output_type": "execute_result"
    }
   ],
   "source": [
    "airport_list = airport.country.unique()\n",
    "mosquito_list = mosquito_clean.country.unique()\n",
    "\n",
    "np.in1d(airport_list, mosquito_list)"
   ]
  },
  {
   "cell_type": "code",
   "execution_count": 81,
   "metadata": {
    "ExecuteTime": {
     "end_time": "2016-07-28T04:01:24.636203",
     "start_time": "2016-07-28T03:54:16.960494"
    },
    "collapsed": false
   },
   "outputs": [],
   "source": [
    "save_it(mosquito_clean, '05_mosquito_sightings')"
   ]
  }
 ],
 "metadata": {
  "anaconda-cloud": {},
  "kernelspec": {
   "display_name": "Python [default]",
   "language": "python",
   "name": "python2"
  },
  "language_info": {
   "codemirror_mode": {
    "name": "ipython",
    "version": 2
   },
   "file_extension": ".py",
   "mimetype": "text/x-python",
   "name": "python",
   "nbconvert_exporter": "python",
   "pygments_lexer": "ipython2",
   "version": "2.7.12"
  }
 },
 "nbformat": 4,
 "nbformat_minor": 0
}
