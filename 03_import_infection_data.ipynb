{
 "cells": [
  {
   "cell_type": "markdown",
   "metadata": {},
   "source": [
    "# Load and clean Zika infection data\n",
    "Though the locations of Zika outbreaks were previously imported, the actual infection data was never imported. "
   ]
  },
  {
   "cell_type": "code",
   "execution_count": 57,
   "metadata": {
    "ExecuteTime": {
     "end_time": "2016-07-31T19:44:34.795119",
     "start_time": "2016-07-31T19:44:34.773435"
    },
    "collapsed": true
   },
   "outputs": [],
   "source": [
    "import pandas as pd\n",
    "import numpy as np\n",
    "import re\n",
    "import time\n",
    "from glob import glob\n",
    "from csv_pkl_sql import save_it\n",
    "\n",
    "import matplotlib.pyplot as plt\n",
    "\n",
    "%matplotlib inline"
   ]
  },
  {
   "cell_type": "markdown",
   "metadata": {},
   "source": [
    "## Import infection data"
   ]
  },
  {
   "cell_type": "code",
   "execution_count": 73,
   "metadata": {
    "ExecuteTime": {
     "end_time": "2016-08-01T04:38:14.388350",
     "start_time": "2016-08-01T04:38:12.942308"
    },
    "collapsed": false
   },
   "outputs": [],
   "source": [
    "data_file_locations = glob('../zika/*/*/data/*.csv')\n",
    "data = pd.concat([pd.read_csv(x)\n",
    "                            for x in data_file_locations], axis=0).reset_index(drop=True)\n",
    "\n",
    "data.drop(['time_period','time_period_type'], axis=1, inplace=True)\n",
    "\n",
    "data['report_date'] = data.report_date.str.replace('_','-')       \n",
    "data['report_date'] = pd.to_datetime(data.report_date)\n",
    "\n",
    "#save_it(data, '03_infection_data_initial_import')"
   ]
  },
  {
   "cell_type": "code",
   "execution_count": 74,
   "metadata": {
    "ExecuteTime": {
     "end_time": "2016-08-01T04:38:14.419739",
     "start_time": "2016-08-01T04:38:14.390285"
    },
    "collapsed": false
   },
   "outputs": [
    {
     "data": {
      "text/html": [
       "<div>\n",
       "<table border=\"1\" class=\"dataframe\">\n",
       "  <thead>\n",
       "    <tr style=\"text-align: right;\">\n",
       "      <th></th>\n",
       "      <th>report_date</th>\n",
       "      <th>location</th>\n",
       "      <th>location_type</th>\n",
       "      <th>data_field</th>\n",
       "      <th>data_field_code</th>\n",
       "      <th>value</th>\n",
       "      <th>unit</th>\n",
       "    </tr>\n",
       "  </thead>\n",
       "  <tbody>\n",
       "    <tr>\n",
       "      <th>0</th>\n",
       "      <td>2016-03-19</td>\n",
       "      <td>Argentina-Buenos_Aires</td>\n",
       "      <td>province</td>\n",
       "      <td>cumulative_confirmed_local_cases</td>\n",
       "      <td>AR0001</td>\n",
       "      <td>0</td>\n",
       "      <td>cases</td>\n",
       "    </tr>\n",
       "  </tbody>\n",
       "</table>\n",
       "</div>"
      ],
      "text/plain": [
       "  report_date                location location_type  \\\n",
       "0  2016-03-19  Argentina-Buenos_Aires      province   \n",
       "\n",
       "                         data_field data_field_code value   unit  \n",
       "0  cumulative_confirmed_local_cases          AR0001     0  cases  "
      ]
     },
     "execution_count": 74,
     "metadata": {},
     "output_type": "execute_result"
    }
   ],
   "source": [
    "data.head(1)"
   ]
  },
  {
   "cell_type": "code",
   "execution_count": 76,
   "metadata": {
    "ExecuteTime": {
     "end_time": "2016-08-01T04:38:15.671106",
     "start_time": "2016-08-01T04:38:15.664669"
    },
    "collapsed": false
   },
   "outputs": [
    {
     "data": {
      "text/plain": [
       "(106847, 7)"
      ]
     },
     "execution_count": 76,
     "metadata": {},
     "output_type": "execute_result"
    }
   ],
   "source": [
    "data.shape"
   ]
  },
  {
   "cell_type": "markdown",
   "metadata": {},
   "source": [
    "## Clean the data"
   ]
  },
  {
   "cell_type": "code",
   "execution_count": null,
   "metadata": {
    "collapsed": true
   },
   "outputs": [],
   "source": [
    "# Drop municipalities\n",
    "data = data.loc[data.unit!='municipalities']"
   ]
  },
  {
   "cell_type": "code",
   "execution_count": 77,
   "metadata": {
    "ExecuteTime": {
     "end_time": "2016-08-01T04:38:15.998385",
     "start_time": "2016-08-01T04:38:15.971618"
    },
    "collapsed": true
   },
   "outputs": [],
   "source": [
    "data = (data[['report_date', 'location', 'value', 'data_field']]\n",
    "             .rename(columns={'report_date':'date','value':'zika_cases'}))"
   ]
  },
  {
   "cell_type": "code",
   "execution_count": 78,
   "metadata": {
    "ExecuteTime": {
     "end_time": "2016-08-01T04:38:16.598723",
     "start_time": "2016-08-01T04:38:16.506284"
    },
    "collapsed": false
   },
   "outputs": [
    {
     "name": "stdout",
     "output_type": "stream",
     "text": [
      "(2414, '125*5')\n",
      "(2783, '149*5')\n",
      "(5192, '5*')\n"
     ]
    }
   ],
   "source": [
    "for x in data.zika_cases.iteritems():\n",
    "    try:\n",
    "        float(x[1])\n",
    "    except:\n",
    "        print(x)"
   ]
  },
  {
   "cell_type": "code",
   "execution_count": 79,
   "metadata": {
    "ExecuteTime": {
     "end_time": "2016-08-01T04:38:18.512669",
     "start_time": "2016-08-01T04:38:18.463964"
    },
    "collapsed": true
   },
   "outputs": [],
   "source": [
    "data.loc[2414, 'zika_cases'] = 0\n",
    "data.loc[2783, 'zika_cases'] = 0\n",
    "data.loc[5192, 'zika_cases'] = 0\n",
    "data['zika_cases'] = data.zika_cases.fillna(0)\n",
    "data['zika_cases'] = data.zika_cases.astype(int)"
   ]
  },
  {
   "cell_type": "code",
   "execution_count": 80,
   "metadata": {
    "ExecuteTime": {
     "end_time": "2016-08-01T04:38:21.630200",
     "start_time": "2016-08-01T04:38:21.612075"
    },
    "collapsed": false
   },
   "outputs": [
    {
     "data": {
      "text/plain": [
       "((36407, 4), (106847, 4))"
      ]
     },
     "execution_count": 80,
     "metadata": {},
     "output_type": "execute_result"
    }
   ],
   "source": [
    "data.query(\"zika_cases>0\").shape, data.shape"
   ]
  },
  {
   "cell_type": "code",
   "execution_count": 81,
   "metadata": {
    "ExecuteTime": {
     "end_time": "2016-08-01T04:38:22.543030",
     "start_time": "2016-08-01T04:38:22.519135"
    },
    "collapsed": false
   },
   "outputs": [
    {
     "name": "stdout",
     "output_type": "stream",
     "text": [
      "(3217, 61606, 5195700)\n"
     ]
    }
   ],
   "source": [
    "# Remove data that don't appear to be directly associated with Zika\n",
    "excluded_fields = ['cumulative_cases_discarded',\n",
    "'microcephaly_not',\n",
    "'gbs_reported',\n",
    "'zika_not',\n",
    "'confirmed_acute_fever',\n",
    "'confirmed_arthralgia',\n",
    "'confirmed_arthritis', \n",
    "'confirmed_rash', \n",
    "'confirmed_conjunctivitis',\n",
    "'confirmed_eyepain', \n",
    "'confirmed_headache', \n",
    "'confirmed_malaise',\n",
    "'zika_reported_travel',\n",
    "'yearly_reported_travel_cases']\n",
    "\n",
    "mask = data.data_field.isin(excluded_fields)\n",
    "print(mask.sum(), data.loc[mask, 'zika_cases'].sum(), data.zika_cases.sum())"
   ]
  },
  {
   "cell_type": "code",
   "execution_count": 82,
   "metadata": {
    "ExecuteTime": {
     "end_time": "2016-08-01T04:38:23.462322",
     "start_time": "2016-08-01T04:38:23.451252"
    },
    "collapsed": false
   },
   "outputs": [],
   "source": [
    "data = data.loc[mask.pipe(np.invert)]"
   ]
  },
  {
   "cell_type": "code",
   "execution_count": 83,
   "metadata": {
    "ExecuteTime": {
     "end_time": "2016-08-01T04:38:24.025026",
     "start_time": "2016-08-01T04:38:24.017060"
    },
    "collapsed": false
   },
   "outputs": [
    {
     "data": {
      "text/plain": [
       "(103630, 5134094)"
      ]
     },
     "execution_count": 83,
     "metadata": {},
     "output_type": "execute_result"
    }
   ],
   "source": [
    "data.shape[0], data.zika_cases.sum()"
   ]
  },
  {
   "cell_type": "code",
   "execution_count": 86,
   "metadata": {
    "ExecuteTime": {
     "end_time": "2016-08-01T04:39:06.093323",
     "start_time": "2016-08-01T04:39:06.083342"
    },
    "collapsed": false
   },
   "outputs": [
    {
     "data": {
      "text/plain": [
       "date          datetime64[ns]\n",
       "location              object\n",
       "zika_cases             int64\n",
       "data_field            object\n",
       "dtype: object"
      ]
     },
     "execution_count": 86,
     "metadata": {},
     "output_type": "execute_result"
    }
   ],
   "source": [
    "data.dtypes"
   ]
  },
  {
   "cell_type": "code",
   "execution_count": 88,
   "metadata": {
    "ExecuteTime": {
     "end_time": "2016-08-01T05:09:11.765671",
     "start_time": "2016-08-01T04:39:28.129116"
    },
    "collapsed": false
   },
   "outputs": [],
   "source": [
    "save_it(data, '03_infection_data_final')"
   ]
  }
 ],
 "metadata": {
  "anaconda-cloud": {},
  "kernelspec": {
   "display_name": "Python [default]",
   "language": "python",
   "name": "python2"
  },
  "language_info": {
   "codemirror_mode": {
    "name": "ipython",
    "version": 2
   },
   "file_extension": ".py",
   "mimetype": "text/x-python",
   "name": "python",
   "nbconvert_exporter": "python",
   "pygments_lexer": "ipython2",
   "version": "2.7.12"
  }
 },
 "nbformat": 4,
 "nbformat_minor": 0
}
