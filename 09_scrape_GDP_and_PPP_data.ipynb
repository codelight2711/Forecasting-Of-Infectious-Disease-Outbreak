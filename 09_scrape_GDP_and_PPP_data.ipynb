{
 "cells": [
  {
   "cell_type": "markdown",
   "metadata": {},
   "source": [
    "# Scrape world GDP and GDP based on purchase parity (PPP)\n",
    "\n",
    "World GDP and purchase parity adjusted GDP from 2015 were scraped from [Knoema](http://knoema.com)."
   ]
  },
  {
   "cell_type": "code",
   "execution_count": 14,
   "metadata": {
    "ExecuteTime": {
     "end_time": "2016-07-31T10:38:54.527144",
     "start_time": "2016-07-31T10:38:54.367824"
    },
    "collapsed": true,
    "run_control": {
     "marked": true
    }
   },
   "outputs": [],
   "source": [
    "import pandas as pd\n",
    "import numpy as np\n",
    "import requests\n",
    "\n",
    "import re\n",
    "import time\n",
    "from StringIO import StringIO\n",
    "\n",
    "from selenium import webdriver\n",
    "from selenium.webdriver.chrome.options import Options\n",
    "from bs4 import BeautifulSoup\n",
    "\n",
    "from csv_pkl_sql import save_it"
   ]
  },
  {
   "cell_type": "markdown",
   "metadata": {
    "run_control": {
     "marked": true
    }
   },
   "source": [
    "## Scrape the GDP tables"
   ]
  },
  {
   "cell_type": "code",
   "execution_count": 26,
   "metadata": {
    "ExecuteTime": {
     "end_time": "2016-07-31T10:52:17.532590",
     "start_time": "2016-07-31T10:52:15.093261"
    },
    "collapsed": true,
    "run_control": {
     "marked": true
    }
   },
   "outputs": [],
   "source": [
    "driver = webdriver.Chrome()"
   ]
  },
  {
   "cell_type": "code",
   "execution_count": 49,
   "metadata": {
    "ExecuteTime": {
     "end_time": "2016-07-31T11:45:27.011071",
     "start_time": "2016-07-31T11:45:22.584818"
    },
    "collapsed": true,
    "run_control": {
     "marked": true
    }
   },
   "outputs": [],
   "source": [
    "driver.get('https://knoema.com/nwnfkne/world-gdp-ranking-2015-data-and-charts')\n",
    "html = driver.page_source"
   ]
  },
  {
   "cell_type": "code",
   "execution_count": 54,
   "metadata": {
    "ExecuteTime": {
     "end_time": "2016-07-31T11:48:32.551603",
     "start_time": "2016-07-31T11:48:30.265238"
    },
    "collapsed": false
   },
   "outputs": [],
   "source": [
    "# For some reason, scraping this page only works when \n",
    "# I save it to a file first and then read it back\n",
    "with open('gdp.html', 'w') as fh:\n",
    "    fh.write(html.encode('utf-8'))\n",
    "    \n",
    "with open('gdp.html','r') as fh:\n",
    "    html = fh.read()\n",
    "    \n",
    "tables = pd.read_html(html)"
   ]
  },
  {
   "cell_type": "code",
   "execution_count": 58,
   "metadata": {
    "ExecuteTime": {
     "end_time": "2016-07-31T11:49:14.325914",
     "start_time": "2016-07-31T11:49:14.181852"
    },
    "collapsed": true
   },
   "outputs": [],
   "source": [
    "! rm -rf gdp.html gdp_files"
   ]
  },
  {
   "cell_type": "code",
   "execution_count": 62,
   "metadata": {
    "ExecuteTime": {
     "end_time": "2016-07-31T11:50:33.142784",
     "start_time": "2016-07-31T11:50:33.116582"
    },
    "collapsed": false
   },
   "outputs": [
    {
     "data": {
      "text/html": [
       "<div>\n",
       "<table border=\"1\" class=\"dataframe\">\n",
       "  <thead>\n",
       "    <tr style=\"text-align: right;\">\n",
       "      <th></th>\n",
       "      <th>country</th>\n",
       "      <th>units</th>\n",
       "      <th>2013</th>\n",
       "      <th>2014</th>\n",
       "      <th>2015</th>\n",
       "    </tr>\n",
       "  </thead>\n",
       "  <tbody>\n",
       "    <tr>\n",
       "      <th>0</th>\n",
       "      <td>United States</td>\n",
       "      <td>U.S. dollars (Billions)</td>\n",
       "      <td>16663.2</td>\n",
       "      <td>17348.1</td>\n",
       "      <td>17947.0</td>\n",
       "    </tr>\n",
       "  </tbody>\n",
       "</table>\n",
       "</div>"
      ],
      "text/plain": [
       "         country                    units     2013     2014     2015\n",
       "0  United States  U.S. dollars (Billions)  16663.2  17348.1  17947.0"
      ]
     },
     "execution_count": 62,
     "metadata": {},
     "output_type": "execute_result"
    }
   ],
   "source": [
    "gdp = tables[2].rename(columns={'Unnamed: 0':'country','Units':'units'})\n",
    "gdp.head(1)"
   ]
  },
  {
   "cell_type": "code",
   "execution_count": 63,
   "metadata": {
    "ExecuteTime": {
     "end_time": "2016-07-31T11:50:49.331491",
     "start_time": "2016-07-31T11:50:49.304161"
    },
    "collapsed": false
   },
   "outputs": [
    {
     "data": {
      "text/html": [
       "<div>\n",
       "<table border=\"1\" class=\"dataframe\">\n",
       "  <thead>\n",
       "    <tr style=\"text-align: right;\">\n",
       "      <th></th>\n",
       "      <th>country</th>\n",
       "      <th>units</th>\n",
       "      <th>2013</th>\n",
       "      <th>2014</th>\n",
       "      <th>2015</th>\n",
       "    </tr>\n",
       "  </thead>\n",
       "  <tbody>\n",
       "    <tr>\n",
       "      <th>0</th>\n",
       "      <td>China</td>\n",
       "      <td>Current international dollar (Billions)</td>\n",
       "      <td>16468.2</td>\n",
       "      <td>17960.7</td>\n",
       "      <td>19392.4</td>\n",
       "    </tr>\n",
       "  </tbody>\n",
       "</table>\n",
       "</div>"
      ],
      "text/plain": [
       "  country                                    units     2013     2014     2015\n",
       "0   China  Current international dollar (Billions)  16468.2  17960.7  19392.4"
      ]
     },
     "execution_count": 63,
     "metadata": {},
     "output_type": "execute_result"
    }
   ],
   "source": [
    "gdp_ppp = tables[3].rename(columns={'Unnamed: 0':'country','Units':'units'})\n",
    "gdp_ppp.head(1)"
   ]
  },
  {
   "cell_type": "markdown",
   "metadata": {},
   "source": [
    "Select just the countries of interest."
   ]
  },
  {
   "cell_type": "code",
   "execution_count": 64,
   "metadata": {
    "ExecuteTime": {
     "end_time": "2016-07-31T11:53:36.692724",
     "start_time": "2016-07-31T11:53:36.635502"
    },
    "collapsed": false
   },
   "outputs": [
    {
     "data": {
      "text/html": [
       "<div>\n",
       "<table border=\"1\" class=\"dataframe\">\n",
       "  <thead>\n",
       "    <tr style=\"text-align: right;\">\n",
       "      <th></th>\n",
       "      <th>location</th>\n",
       "      <th>location_type</th>\n",
       "      <th>country</th>\n",
       "      <th>province</th>\n",
       "      <th>county</th>\n",
       "      <th>city</th>\n",
       "    </tr>\n",
       "  </thead>\n",
       "  <tbody>\n",
       "    <tr>\n",
       "      <th>0</th>\n",
       "      <td>Argentina-Buenos_Aires</td>\n",
       "      <td>province</td>\n",
       "      <td>Argentina</td>\n",
       "      <td>Buenos Aires</td>\n",
       "      <td>None</td>\n",
       "      <td>None</td>\n",
       "    </tr>\n",
       "  </tbody>\n",
       "</table>\n",
       "</div>"
      ],
      "text/plain": [
       "                 location location_type    country      province county  city\n",
       "0  Argentina-Buenos_Aires      province  Argentina  Buenos Aires   None  None"
      ]
     },
     "execution_count": 64,
     "metadata": {},
     "output_type": "execute_result"
    }
   ],
   "source": [
    "locations = pd.read_pickle('../pkl/00_cleaned_city_names.pkl')\n",
    "locations.head(1)"
   ]
  },
  {
   "cell_type": "code",
   "execution_count": 68,
   "metadata": {
    "ExecuteTime": {
     "end_time": "2016-07-31T11:54:56.137479",
     "start_time": "2016-07-31T11:54:56.125091"
    },
    "collapsed": false
   },
   "outputs": [
    {
     "data": {
      "text/plain": [
       "(12, 5)"
      ]
     },
     "execution_count": 68,
     "metadata": {},
     "output_type": "execute_result"
    }
   ],
   "source": [
    "mask = gdp.country.isin(locations.country.unique())\n",
    "gdp = gdp.loc[mask]\n",
    "gdp.shape"
   ]
  },
  {
   "cell_type": "code",
   "execution_count": 69,
   "metadata": {
    "ExecuteTime": {
     "end_time": "2016-07-31T11:55:45.620389",
     "start_time": "2016-07-31T11:55:45.607995"
    },
    "collapsed": false
   },
   "outputs": [
    {
     "data": {
      "text/plain": [
       "(12, 5)"
      ]
     },
     "execution_count": 69,
     "metadata": {},
     "output_type": "execute_result"
    }
   ],
   "source": [
    "mask = gdp_ppp.country.isin(locations.country.unique())\n",
    "gdp_ppp = gdp_ppp.loc[mask]\n",
    "gdp_ppp.shape"
   ]
  },
  {
   "cell_type": "code",
   "execution_count": 71,
   "metadata": {
    "ExecuteTime": {
     "end_time": "2016-07-31T11:56:15.342888",
     "start_time": "2016-07-31T11:56:15.332608"
    },
    "collapsed": false
   },
   "outputs": [
    {
     "data": {
      "text/plain": [
       "country     object\n",
       "units       object\n",
       "2013       float64\n",
       "2014       float64\n",
       "2015       float64\n",
       "dtype: object"
      ]
     },
     "execution_count": 71,
     "metadata": {},
     "output_type": "execute_result"
    }
   ],
   "source": [
    "gdp_ppp.dtypes"
   ]
  },
  {
   "cell_type": "code",
   "execution_count": 72,
   "metadata": {
    "ExecuteTime": {
     "end_time": "2016-07-31T11:56:22.402580",
     "start_time": "2016-07-31T11:56:22.389699"
    },
    "collapsed": false
   },
   "outputs": [
    {
     "data": {
      "text/plain": [
       "country     object\n",
       "units       object\n",
       "2013       float64\n",
       "2014       float64\n",
       "2015       float64\n",
       "dtype: object"
      ]
     },
     "execution_count": 72,
     "metadata": {},
     "output_type": "execute_result"
    }
   ],
   "source": [
    "gdp.dtypes"
   ]
  },
  {
   "cell_type": "code",
   "execution_count": 74,
   "metadata": {
    "ExecuteTime": {
     "end_time": "2016-07-31T11:56:47.125864",
     "start_time": "2016-07-31T11:56:46.198604"
    },
    "collapsed": false
   },
   "outputs": [],
   "source": [
    "save_it(gdp, '09_GDP_table')"
   ]
  },
  {
   "cell_type": "code",
   "execution_count": 75,
   "metadata": {
    "ExecuteTime": {
     "end_time": "2016-07-31T11:57:25.716737",
     "start_time": "2016-07-31T11:57:24.886802"
    },
    "collapsed": true
   },
   "outputs": [],
   "source": [
    "save_it(gdp_ppp, '09_GDP_PPP_table')"
   ]
  }
 ],
 "metadata": {
  "anaconda-cloud": {},
  "kernelspec": {
   "display_name": "Python [default]",
   "language": "python",
   "name": "python2"
  },
  "language_info": {
   "codemirror_mode": {
    "name": "ipython",
    "version": 2
   },
   "file_extension": ".py",
   "mimetype": "text/x-python",
   "name": "python",
   "nbconvert_exporter": "python",
   "pygments_lexer": "ipython2",
   "version": "2.7.12"
  }
 },
 "nbformat": 4,
 "nbformat_minor": 0
}
