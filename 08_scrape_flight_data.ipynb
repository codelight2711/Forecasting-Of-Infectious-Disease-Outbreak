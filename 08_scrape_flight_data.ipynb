{
 "cells": [
  {
   "cell_type": "markdown",
   "metadata": {},
   "source": [
    "# Scrape flight information from [flightradar24.com](https://www.flightradar24.com)\n",
    "\n",
    "Flight data was scraped for the appropriate airports near to outbreak locations. However, this data wasn't incorporated into the model due to time limitations."
   ]
  },
  {
   "cell_type": "code",
   "execution_count": 33,
   "metadata": {
    "ExecuteTime": {
     "end_time": "2016-07-31T12:39:31.961394",
     "start_time": "2016-07-31T12:39:31.947138"
    },
    "collapsed": false
   },
   "outputs": [],
   "source": [
    "import pandas as pd\n",
    "import numpy as np\n",
    "import requests\n",
    "\n",
    "import re\n",
    "import time\n",
    "from StringIO import StringIO\n",
    "\n",
    "from selenium import webdriver\n",
    "from selenium.webdriver.chrome.options import Options\n",
    "from bs4 import BeautifulSoup\n",
    "\n",
    "from csv_pkl_sql import save_it"
   ]
  },
  {
   "cell_type": "code",
   "execution_count": 34,
   "metadata": {
    "ExecuteTime": {
     "end_time": "2016-07-31T12:39:32.360746",
     "start_time": "2016-07-31T12:39:32.298622"
    },
    "collapsed": false
   },
   "outputs": [
    {
     "data": {
      "text/html": [
       "<div>\n",
       "<table border=\"1\" class=\"dataframe\">\n",
       "  <thead>\n",
       "    <tr style=\"text-align: right;\">\n",
       "      <th></th>\n",
       "      <th>city</th>\n",
       "      <th>FAA</th>\n",
       "      <th>IATA</th>\n",
       "      <th>ICAO</th>\n",
       "      <th>kind</th>\n",
       "      <th>latitude</th>\n",
       "      <th>longitude</th>\n",
       "      <th>max_runway</th>\n",
       "      <th>name</th>\n",
       "      <th>country</th>\n",
       "      <th>state</th>\n",
       "    </tr>\n",
       "  </thead>\n",
       "  <tbody>\n",
       "    <tr>\n",
       "      <th>56</th>\n",
       "      <td>BAHIA BLANCA</td>\n",
       "      <td>NaN</td>\n",
       "      <td>BHI</td>\n",
       "      <td>SAZB</td>\n",
       "      <td>Medium</td>\n",
       "      <td>-38.725</td>\n",
       "      <td>-62.169</td>\n",
       "      <td>8579.0</td>\n",
       "      <td>COMANDANTE ESPORA</td>\n",
       "      <td>Argentina</td>\n",
       "      <td>NaN</td>\n",
       "    </tr>\n",
       "  </tbody>\n",
       "</table>\n",
       "</div>"
      ],
      "text/plain": [
       "            city  FAA IATA  ICAO    kind  latitude  longitude  max_runway  \\\n",
       "56  BAHIA BLANCA  NaN  BHI  SAZB  Medium   -38.725    -62.169      8579.0   \n",
       "\n",
       "                 name    country state  \n",
       "56  COMANDANTE ESPORA  Argentina   NaN  "
      ]
     },
     "execution_count": 34,
     "metadata": {},
     "output_type": "execute_result"
    }
   ],
   "source": [
    "airports = pd.read_pickle('../pkl/02_airport_information_fallingrain.pkl')\n",
    "airports.head(1)"
   ]
  },
  {
   "cell_type": "markdown",
   "metadata": {},
   "source": [
    "## Country URLs\n",
    "First get the urls for each country's airports."
   ]
  },
  {
   "cell_type": "code",
   "execution_count": 35,
   "metadata": {
    "ExecuteTime": {
     "end_time": "2016-07-31T12:39:41.326451",
     "start_time": "2016-07-31T12:39:33.641466"
    },
    "collapsed": true
   },
   "outputs": [],
   "source": [
    "# ! ssh -ND 8081 server1\n",
    "# ! ssh -ND 8082 server2\n",
    "# ! ssh -ND 8083 server3\n",
    "# ! ssh -ND 8084 sever4\n",
    "\n",
    "port_list = [8081, 8082, 8083, 8084]\n",
    "\n",
    "chrome_options1 = Options().add_argument(\"--proxy-server=socks5://127.0.0.1:\" + str(port_list[0]))\n",
    "chrome_options2 = Options().add_argument(\"--proxy-server=socks5://127.0.0.1:\" + str(port_list[1]))\n",
    "chrome_options3 = Options().add_argument(\"--proxy-server=socks5://127.0.0.1:\" + str(port_list[2]))\n",
    "chrome_options4 = Options().add_argument(\"--proxy-server=socks5://127.0.0.1:\" + str(port_list[3]))\n",
    "\n",
    "driver1 = webdriver.Chrome('/Volumes/Files/homebrew/bin/chromedriver', chrome_options=chrome_options1)\n",
    "driver2 = webdriver.Chrome('/Volumes/Files/homebrew/bin/chromedriver', chrome_options=chrome_options2)\n",
    "driver3 = webdriver.Chrome('/Volumes/Files/homebrew/bin/chromedriver', chrome_options=chrome_options3)\n",
    "driver4 = webdriver.Chrome('/Volumes/Files/homebrew/bin/chromedriver', chrome_options=chrome_options4)\n",
    "\n",
    "driver_list = [driver1, driver2, driver3, driver4]"
   ]
  },
  {
   "cell_type": "code",
   "execution_count": 36,
   "metadata": {
    "ExecuteTime": {
     "end_time": "2016-07-31T12:39:41.357678",
     "start_time": "2016-07-31T12:39:41.336917"
    },
    "collapsed": true
   },
   "outputs": [],
   "source": [
    "def get_table_rows(url, text=True, driver=driver1):\n",
    "    driver.get(url)\n",
    "    html = driver.page_source\n",
    "    soup = BeautifulSoup(html, 'lxml')\n",
    "    \n",
    "    a = soup.find('tbody').find_all('a')\n",
    "    if text:\n",
    "        links = [(x.text.strip(), x.get('href')) \n",
    "                 for x in a \n",
    "                 if (x.has_attr('href') and x.get('title') != 'Scroll to top')]\n",
    "        \n",
    "    else:\n",
    "        links = [(x.get('title'), x.get('href')) \n",
    "                 for x in a \n",
    "                 if (x.has_attr('href') and x.get('title') != 'Scroll to top')]\n",
    "    \n",
    "    return links"
   ]
  },
  {
   "cell_type": "code",
   "execution_count": 37,
   "metadata": {
    "ExecuteTime": {
     "end_time": "2016-07-31T12:39:46.225731",
     "start_time": "2016-07-31T12:39:41.362452"
    },
    "collapsed": false
   },
   "outputs": [
    {
     "data": {
      "text/html": [
       "<div>\n",
       "<table border=\"1\" class=\"dataframe\">\n",
       "  <thead>\n",
       "    <tr style=\"text-align: right;\">\n",
       "      <th></th>\n",
       "      <th>country</th>\n",
       "      <th>url</th>\n",
       "    </tr>\n",
       "  </thead>\n",
       "  <tbody>\n",
       "    <tr>\n",
       "      <th>0</th>\n",
       "      <td>Afghanistan</td>\n",
       "      <td>https://www.flightradar24.com/data/airports/af...</td>\n",
       "    </tr>\n",
       "  </tbody>\n",
       "</table>\n",
       "</div>"
      ],
      "text/plain": [
       "       country                                                url\n",
       "0  Afghanistan  https://www.flightradar24.com/data/airports/af..."
      ]
     },
     "execution_count": 37,
     "metadata": {},
     "output_type": "execute_result"
    }
   ],
   "source": [
    "countries = get_table_rows('https://www.flightradar24.com/data/airports', False)\n",
    "countries_df = pd.DataFrame(countries, columns=['country','url']).drop_duplicates()\n",
    "countries_df.head(1)"
   ]
  },
  {
   "cell_type": "markdown",
   "metadata": {},
   "source": [
    "## Airport URLs\n",
    "Get the URLs for each airport within the countries present."
   ]
  },
  {
   "cell_type": "code",
   "execution_count": 38,
   "metadata": {
    "ExecuteTime": {
     "end_time": "2016-07-31T12:39:47.881119",
     "start_time": "2016-07-31T12:39:47.871997"
    },
    "collapsed": false
   },
   "outputs": [
    {
     "data": {
      "text/plain": [
       "(12, 12)"
      ]
     },
     "execution_count": 38,
     "metadata": {},
     "output_type": "execute_result"
    }
   ],
   "source": [
    "airports.country.nunique(), countries_df.country.isin(airports.country.unique()).sum()"
   ]
  },
  {
   "cell_type": "code",
   "execution_count": 39,
   "metadata": {
    "ExecuteTime": {
     "end_time": "2016-07-31T12:39:48.322623",
     "start_time": "2016-07-31T12:39:48.315880"
    },
    "collapsed": true
   },
   "outputs": [],
   "source": [
    "mask = countries_df.country.isin(airports.country.unique())\n",
    "countries_df = countries_df.loc[mask]"
   ]
  },
  {
   "cell_type": "code",
   "execution_count": 40,
   "metadata": {
    "ExecuteTime": {
     "end_time": "2016-07-31T12:40:32.011762",
     "start_time": "2016-07-31T12:39:48.672136"
    },
    "collapsed": false
   },
   "outputs": [],
   "source": [
    "airport_flight_list = list()\n",
    "for row,dat in countries_df.iterrows():\n",
    "    country = dat.country\n",
    "    url = dat.url\n",
    "    df = pd.DataFrame(get_table_rows(url), columns=['airport','url'])\n",
    "    df['country'] = country\n",
    "    airport_flight_list.append(df)\n",
    "    time.sleep(1)"
   ]
  },
  {
   "cell_type": "code",
   "execution_count": 41,
   "metadata": {
    "ExecuteTime": {
     "end_time": "2016-07-31T12:40:32.029157",
     "start_time": "2016-07-31T12:40:32.014012"
    },
    "collapsed": false
   },
   "outputs": [],
   "source": [
    "airport_flight_df = pd.concat(airport_flight_list).reset_index(drop=True)"
   ]
  },
  {
   "cell_type": "code",
   "execution_count": 42,
   "metadata": {
    "ExecuteTime": {
     "end_time": "2016-07-31T12:40:32.054928",
     "start_time": "2016-07-31T12:40:32.031263"
    },
    "collapsed": false
   },
   "outputs": [],
   "source": [
    "airport_flight_df[['IATA','ICAO']] = airport_flight_df.airport.str.extract(r\"\"\"\\(([A-Z]+)\\/([A-Z]+)\\)\"\"\",expand=True)\n",
    "airport_flight_df['airport'] = airport_flight_df.airport.str.replace(r\"\"\" \\(.+\\)\"\"\", '').str.strip()"
   ]
  },
  {
   "cell_type": "code",
   "execution_count": 43,
   "metadata": {
    "ExecuteTime": {
     "end_time": "2016-07-31T12:40:32.085496",
     "start_time": "2016-07-31T12:40:32.057916"
    },
    "collapsed": false
   },
   "outputs": [
    {
     "data": {
      "text/html": [
       "<div>\n",
       "<table border=\"1\" class=\"dataframe\">\n",
       "  <thead>\n",
       "    <tr style=\"text-align: right;\">\n",
       "      <th></th>\n",
       "      <th>airport</th>\n",
       "      <th>url</th>\n",
       "      <th>country</th>\n",
       "      <th>IATA</th>\n",
       "      <th>ICAO</th>\n",
       "    </tr>\n",
       "  </thead>\n",
       "  <tbody>\n",
       "    <tr>\n",
       "      <th>0</th>\n",
       "      <td>Bahia Blanca Comandante Espora Airport</td>\n",
       "      <td>https://www.flightradar24.com/data/airports/bhi</td>\n",
       "      <td>Argentina</td>\n",
       "      <td>BHI</td>\n",
       "      <td>SAZB</td>\n",
       "    </tr>\n",
       "  </tbody>\n",
       "</table>\n",
       "</div>"
      ],
      "text/plain": [
       "                                  airport  \\\n",
       "0  Bahia Blanca Comandante Espora Airport   \n",
       "\n",
       "                                               url    country IATA  ICAO  \n",
       "0  https://www.flightradar24.com/data/airports/bhi  Argentina  BHI  SAZB  "
      ]
     },
     "execution_count": 43,
     "metadata": {},
     "output_type": "execute_result"
    }
   ],
   "source": [
    "airport_flight_df.head(1)"
   ]
  },
  {
   "cell_type": "code",
   "execution_count": 44,
   "metadata": {
    "ExecuteTime": {
     "end_time": "2016-07-31T12:40:32.117964",
     "start_time": "2016-07-31T12:40:32.089084"
    },
    "collapsed": false
   },
   "outputs": [],
   "source": [
    "airport_flight_url = pd.merge(airports[['country','name','kind','IATA','ICAO']],\n",
    "         airport_flight_df[['country','IATA','ICAO','url']],\n",
    "         on=['country','IATA','ICAO'],\n",
    "         how='right')"
   ]
  },
  {
   "cell_type": "code",
   "execution_count": 45,
   "metadata": {
    "ExecuteTime": {
     "end_time": "2016-07-31T12:40:32.133624",
     "start_time": "2016-07-31T12:40:32.122562"
    },
    "collapsed": false
   },
   "outputs": [
    {
     "data": {
      "text/plain": [
       "(840, 0)"
      ]
     },
     "execution_count": 45,
     "metadata": {},
     "output_type": "execute_result"
    }
   ],
   "source": [
    "airport_flight_url.shape[0], airport_flight_url.url.isnull().sum()"
   ]
  },
  {
   "cell_type": "code",
   "execution_count": 46,
   "metadata": {
    "ExecuteTime": {
     "end_time": "2016-07-31T12:40:32.166844",
     "start_time": "2016-07-31T12:40:32.137451"
    },
    "collapsed": false
   },
   "outputs": [
    {
     "data": {
      "text/html": [
       "<div>\n",
       "<table border=\"1\" class=\"dataframe\">\n",
       "  <thead>\n",
       "    <tr style=\"text-align: right;\">\n",
       "      <th></th>\n",
       "      <th>country</th>\n",
       "      <th>name</th>\n",
       "      <th>kind</th>\n",
       "      <th>IATA</th>\n",
       "      <th>ICAO</th>\n",
       "      <th>url</th>\n",
       "    </tr>\n",
       "  </thead>\n",
       "  <tbody>\n",
       "    <tr>\n",
       "      <th>0</th>\n",
       "      <td>Argentina</td>\n",
       "      <td>COMANDANTE ESPORA</td>\n",
       "      <td>Medium</td>\n",
       "      <td>BHI</td>\n",
       "      <td>SAZB</td>\n",
       "      <td>https://www.flightradar24.com/data/airports/bhi</td>\n",
       "    </tr>\n",
       "  </tbody>\n",
       "</table>\n",
       "</div>"
      ],
      "text/plain": [
       "     country               name    kind IATA  ICAO  \\\n",
       "0  Argentina  COMANDANTE ESPORA  Medium  BHI  SAZB   \n",
       "\n",
       "                                               url  \n",
       "0  https://www.flightradar24.com/data/airports/bhi  "
      ]
     },
     "execution_count": 46,
     "metadata": {},
     "output_type": "execute_result"
    }
   ],
   "source": [
    "airport_flight_url.head(1)"
   ]
  },
  {
   "cell_type": "code",
   "execution_count": 47,
   "metadata": {
    "ExecuteTime": {
     "end_time": "2016-07-31T12:40:32.195478",
     "start_time": "2016-07-31T12:40:32.170281"
    },
    "collapsed": false
   },
   "outputs": [
    {
     "data": {
      "text/plain": [
       "(840, 6)"
      ]
     },
     "execution_count": 47,
     "metadata": {},
     "output_type": "execute_result"
    }
   ],
   "source": [
    "airport_flight_url.shape"
   ]
  },
  {
   "cell_type": "code",
   "execution_count": 48,
   "metadata": {
    "ExecuteTime": {
     "end_time": "2016-07-31T12:40:32.248451",
     "start_time": "2016-07-31T12:40:32.198850"
    },
    "collapsed": false
   },
   "outputs": [
    {
     "data": {
      "text/plain": [
       "(648, 6)"
      ]
     },
     "execution_count": 48,
     "metadata": {},
     "output_type": "execute_result"
    }
   ],
   "source": [
    "mask = (airport_flight_url.IATA.isin(airports.IATA) | airport_flight_url.ICAO.isin(airports.ICAO))\n",
    "airport_flight_url = airport_flight_url.loc[mask]\n",
    "airport_flight_url.shape"
   ]
  },
  {
   "cell_type": "markdown",
   "metadata": {},
   "source": [
    "## Flight data for airports\n",
    "\n",
    "Now get flight schedules for each of the airports."
   ]
  },
  {
   "cell_type": "code",
   "execution_count": 58,
   "metadata": {
    "ExecuteTime": {
     "end_time": "2016-07-31T12:54:59.119312",
     "start_time": "2016-07-31T12:54:59.076218"
    },
    "collapsed": true
   },
   "outputs": [],
   "source": [
    "def get_arrivals(url, country, driver_list=driver_list):\n",
    "    \n",
    "    driver = np.random.choice(driver_list)\n",
    "    \n",
    "    try:\n",
    "        driver.get(url+'#arrivals')\n",
    "        time.sleep(1.5)\n",
    "        driver.find_element_by_xpath('//*[@id=\"tblFlightsArrivalsAll\"]/thead/tr[2]/td/button').click()\n",
    "        time.sleep(1.5)\n",
    "\n",
    "        html = driver1.page_source\n",
    "        soup = BeautifulSoup(html, 'lxml')\n",
    "        tr = soup.find_all('tr', attrs={'class':'ng-scope'})\n",
    "\n",
    "        attr_list = list()\n",
    "        first_date = False\n",
    "\n",
    "        for x in soup.find_all('tr'):\n",
    "            try:\n",
    "                attr_class = x.attrs['class'][0]\n",
    "\n",
    "                if attr_class=='row-date-separator':\n",
    "                    first_date = True\n",
    "                    date = x.text\n",
    "\n",
    "                elif attr_class=='ng-scope':\n",
    "                    td = x.find_all('td')\n",
    "                    if (len(td) > 0) and first_date:\n",
    "                        td_list = [td[2], td[1], td[0], td[6], td[4]]\n",
    "                        td_str = [re.sub(r\"\"\"[-\\t\\n]*\"\"\", '', x.text) for x in td_list]\n",
    "                        td_str.insert(0, date)\n",
    "                        attr_list.append(td_str)\n",
    "            except:\n",
    "                pass\n",
    "\n",
    "\n",
    "        flight_df = pd.DataFrame(attr_list, \n",
    "                     columns=['date', 'city_dept', 'flight',\n",
    "                              'time_dept', 'time_dest', 'aircraft'])\n",
    "\n",
    "        flight_df['code_dept'] = flight_df.city_dept.str.extract(r\"\"\"\\(([A-Z]+)\\)\"\"\", expand=False)\n",
    "        flight_df['city_dept'] = flight_df.city_dept.str.replace(r\"\"\"\\(([A-Z]+)\\)\"\"\", '')\n",
    "        flight_df['country_dest'] = country\n",
    "        flight_df['code_dest'] = url.split('/')[-1].upper()\n",
    "    except:\n",
    "        flight_df = pd.DataFrame([np.NaN]*10, columns=['date', 'city_dept', 'flight',\n",
    "                                                      'time_dept', 'time_dest', 'aircraft',\n",
    "                                                      'code_dept', 'city_dept', \n",
    "                                                      'country_dest', 'code_dest'])\n",
    "\n",
    "    return flight_df"
   ]
  },
  {
   "cell_type": "code",
   "execution_count": 59,
   "metadata": {
    "ExecuteTime": {
     "end_time": "2016-07-31T13:51:12.357270",
     "start_time": "2016-07-31T12:55:09.803421"
    },
    "collapsed": false
   },
   "outputs": [],
   "source": [
    "airport_flight_list = list()\n",
    "\n",
    "for row,df in airport_flight_url.iterrows():\n",
    "    url = df.url\n",
    "    country = df.country\n",
    "    airport_flight_list.append(get_arrivals(url, country))"
   ]
  },
  {
   "cell_type": "code",
   "execution_count": 75,
   "metadata": {
    "ExecuteTime": {
     "end_time": "2016-07-31T15:13:44.979364",
     "start_time": "2016-07-31T15:13:44.928408"
    },
    "collapsed": false
   },
   "outputs": [
    {
     "data": {
      "text/html": [
       "<div>\n",
       "<table border=\"1\" class=\"dataframe\">\n",
       "  <thead>\n",
       "    <tr style=\"text-align: right;\">\n",
       "      <th></th>\n",
       "      <th>date</th>\n",
       "      <th>flight</th>\n",
       "      <th>aircraft</th>\n",
       "      <th>time_dept</th>\n",
       "      <th>city_dept</th>\n",
       "      <th>IATA_dept</th>\n",
       "      <th>time_dest</th>\n",
       "      <th>country_dest</th>\n",
       "      <th>IATA_dest</th>\n",
       "    </tr>\n",
       "  </thead>\n",
       "  <tbody>\n",
       "    <tr>\n",
       "      <th>0</th>\n",
       "      <td>Sunday, Jul 31</td>\n",
       "      <td>AZ680</td>\n",
       "      <td>B772(EIDBL)</td>\n",
       "      <td>6:40 AM</td>\n",
       "      <td>Rome</td>\n",
       "      <td>FCO</td>\n",
       "      <td>Landed7:07 AM</td>\n",
       "      <td>Argentina</td>\n",
       "      <td>EZE</td>\n",
       "    </tr>\n",
       "  </tbody>\n",
       "</table>\n",
       "</div>"
      ],
      "text/plain": [
       "             date flight     aircraft time_dept city_dept IATA_dept  \\\n",
       "0  Sunday, Jul 31  AZ680  B772(EIDBL)   6:40 AM      Rome       FCO   \n",
       "\n",
       "       time_dest country_dest IATA_dest  \n",
       "0  Landed7:07 AM    Argentina       EZE  "
      ]
     },
     "execution_count": 75,
     "metadata": {},
     "output_type": "execute_result"
    }
   ],
   "source": [
    "airport_flight_df.head(1)"
   ]
  },
  {
   "cell_type": "code",
   "execution_count": 76,
   "metadata": {
    "ExecuteTime": {
     "end_time": "2016-07-31T15:14:05.373439",
     "start_time": "2016-07-31T15:14:05.143487"
    },
    "collapsed": false
   },
   "outputs": [],
   "source": [
    "airport_flight_df = pd.concat(airport_flight_list)[['date', 'flight', 'aircraft',\n",
    "                                'time_dept', 'city_dept', 'code_dept',\n",
    "                                'time_dest', 'country_dest', 'code_dest']]\n",
    "\n",
    "airport_flight_df.rename(columns={'code_dept':'IATA_dept', 'code_dest':'IATA_dest'}, inplace=True)"
   ]
  },
  {
   "cell_type": "code",
   "execution_count": 83,
   "metadata": {
    "ExecuteTime": {
     "end_time": "2016-07-31T15:17:44.682157",
     "start_time": "2016-07-31T15:17:33.458363"
    },
    "collapsed": false
   },
   "outputs": [],
   "source": [
    "date_mapper = {'Saturday, Jul 30' : '07/30/2016',\n",
    "               'Sunday, Jul 31'   : '07/31/2016',  \n",
    "               'Monday, Aug 01'   : '08/01/2016'}\n",
    "\n",
    "airport_flight_df['date_time'] = (airport_flight_df.date.apply(lambda x: date_mapper[x]) + ' ' + \n",
    "                                  airport_flight_df.time_dept)\n",
    "\n",
    "airport_flight_df['date_time'] = pd.to_datetime(airport_flight_df.date_time)"
   ]
  },
  {
   "cell_type": "code",
   "execution_count": 86,
   "metadata": {
    "ExecuteTime": {
     "end_time": "2016-07-31T15:18:01.216823",
     "start_time": "2016-07-31T15:18:01.186938"
    },
    "collapsed": false
   },
   "outputs": [
    {
     "data": {
      "text/html": [
       "<div>\n",
       "<table border=\"1\" class=\"dataframe\">\n",
       "  <thead>\n",
       "    <tr style=\"text-align: right;\">\n",
       "      <th></th>\n",
       "      <th>date</th>\n",
       "      <th>flight</th>\n",
       "      <th>aircraft</th>\n",
       "      <th>time_dept</th>\n",
       "      <th>city_dept</th>\n",
       "      <th>IATA_dept</th>\n",
       "      <th>time_dest</th>\n",
       "      <th>country_dest</th>\n",
       "      <th>IATA_dest</th>\n",
       "      <th>date_time</th>\n",
       "    </tr>\n",
       "  </thead>\n",
       "  <tbody>\n",
       "    <tr>\n",
       "      <th>0</th>\n",
       "      <td>Sunday, Jul 31</td>\n",
       "      <td>AZ680</td>\n",
       "      <td>B772(EIDBL)</td>\n",
       "      <td>6:40 AM</td>\n",
       "      <td>Rome</td>\n",
       "      <td>FCO</td>\n",
       "      <td>Landed7:07 AM</td>\n",
       "      <td>Argentina</td>\n",
       "      <td>EZE</td>\n",
       "      <td>2016-07-31 06:40:00</td>\n",
       "    </tr>\n",
       "  </tbody>\n",
       "</table>\n",
       "</div>"
      ],
      "text/plain": [
       "             date flight     aircraft time_dept city_dept IATA_dept  \\\n",
       "0  Sunday, Jul 31  AZ680  B772(EIDBL)   6:40 AM      Rome       FCO   \n",
       "\n",
       "       time_dest country_dest IATA_dest           date_time  \n",
       "0  Landed7:07 AM    Argentina       EZE 2016-07-31 06:40:00  "
      ]
     },
     "execution_count": 86,
     "metadata": {},
     "output_type": "execute_result"
    }
   ],
   "source": [
    "airport_flight_df.head(1)"
   ]
  },
  {
   "cell_type": "code",
   "execution_count": 94,
   "metadata": {
    "ExecuteTime": {
     "end_time": "2016-07-31T16:50:46.133650",
     "start_time": "2016-07-31T16:42:05.148858"
    },
    "collapsed": false
   },
   "outputs": [],
   "source": [
    "save_it(airport_flight_df, '08_flight_data')"
   ]
  }
 ],
 "metadata": {
  "anaconda-cloud": {},
  "kernelspec": {
   "display_name": "Python [default]",
   "language": "python",
   "name": "python2"
  },
  "language_info": {
   "codemirror_mode": {
    "name": "ipython",
    "version": 2
   },
   "file_extension": ".py",
   "mimetype": "text/x-python",
   "name": "python",
   "nbconvert_exporter": "python",
   "pygments_lexer": "ipython2",
   "version": "2.7.12"
  }
 },
 "nbformat": 4,
 "nbformat_minor": 0
}
