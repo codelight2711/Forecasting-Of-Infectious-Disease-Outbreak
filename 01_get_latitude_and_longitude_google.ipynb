{
 "cells": [
  {
   "cell_type": "markdown",
   "metadata": {},
   "source": [
    "# Scrape latitude and longitude data for outbreak locations\n",
    "\n",
    "Latitude and longitude data will be crucial for joining data from different sources, so it will need to be scraped for each location. In some cases, the data are a country, where the results are particularly ambiguous. For now, we will take whatever the search engine returns."
   ]
  },
  {
   "cell_type": "code",
   "execution_count": 1,
   "metadata": {
    "ExecuteTime": {
     "end_time": "2016-07-30T22:21:18.019376",
     "start_time": "2016-07-30T22:21:16.361825"
    },
    "collapsed": true
   },
   "outputs": [],
   "source": [
    "import pandas as pd\n",
    "import numpy as np\n",
    "import requests\n",
    "import json\n",
    "import re\n",
    "import time\n",
    "\n",
    "from selenium import webdriver\n",
    "from selenium.webdriver.chrome.options import Options\n",
    "\n",
    "from api_keys import GOOGLE_API_KEY\n",
    "from csv_pkl_sql import save_it, pkl_it\n",
    "\n",
    "pd.options.mode.chained_assignment = None\n",
    "\n",
    "import matplotlib.pyplot as plt\n",
    "%matplotlib inline"
   ]
  },
  {
   "cell_type": "markdown",
   "metadata": {},
   "source": [
    "## Load the location data"
   ]
  },
  {
   "cell_type": "code",
   "execution_count": 9,
   "metadata": {
    "ExecuteTime": {
     "end_time": "2016-07-31T16:44:12.055332",
     "start_time": "2016-07-31T16:44:11.996583"
    },
    "collapsed": false
   },
   "outputs": [
    {
     "data": {
      "text/plain": [
       "1606"
      ]
     },
     "execution_count": 9,
     "metadata": {},
     "output_type": "execute_result"
    }
   ],
   "source": [
    "location_key = pd.read_pickle('../pkl/00_cleaned_city_names.pkl')\n",
    "\n",
    "location_key.shape[0]"
   ]
  },
  {
   "cell_type": "code",
   "execution_count": 4,
   "metadata": {
    "ExecuteTime": {
     "end_time": "2016-07-30T22:21:32.385043",
     "start_time": "2016-07-30T22:21:32.356105"
    },
    "collapsed": false
   },
   "outputs": [
    {
     "data": {
      "text/html": [
       "<div>\n",
       "<table border=\"1\" class=\"dataframe\">\n",
       "  <thead>\n",
       "    <tr style=\"text-align: right;\">\n",
       "      <th></th>\n",
       "      <th>location</th>\n",
       "      <th>location_type</th>\n",
       "      <th>country</th>\n",
       "      <th>province</th>\n",
       "      <th>county</th>\n",
       "      <th>city</th>\n",
       "    </tr>\n",
       "  </thead>\n",
       "  <tbody>\n",
       "    <tr>\n",
       "      <th>0</th>\n",
       "      <td>Argentina-Buenos_Aires</td>\n",
       "      <td>province</td>\n",
       "      <td>Argentina</td>\n",
       "      <td>Buenos Aires</td>\n",
       "      <td>None</td>\n",
       "      <td>None</td>\n",
       "    </tr>\n",
       "    <tr>\n",
       "      <th>1</th>\n",
       "      <td>Argentina-CABA</td>\n",
       "      <td>province</td>\n",
       "      <td>Argentina</td>\n",
       "      <td>Ciudad de Buenos Aires</td>\n",
       "      <td>None</td>\n",
       "      <td>None</td>\n",
       "    </tr>\n",
       "  </tbody>\n",
       "</table>\n",
       "</div>"
      ],
      "text/plain": [
       "                 location location_type    country                province  \\\n",
       "0  Argentina-Buenos_Aires      province  Argentina            Buenos Aires   \n",
       "1          Argentina-CABA      province  Argentina  Ciudad de Buenos Aires   \n",
       "\n",
       "  county  city  \n",
       "0   None  None  \n",
       "1   None  None  "
      ]
     },
     "execution_count": 4,
     "metadata": {},
     "output_type": "execute_result"
    }
   ],
   "source": [
    "location_key.head(2)"
   ]
  },
  {
   "cell_type": "markdown",
   "metadata": {},
   "source": [
    "## First try Google Maps API"
   ]
  },
  {
   "cell_type": "code",
   "execution_count": 115,
   "metadata": {
    "ExecuteTime": {
     "end_time": "2016-07-30T15:28:24.592968",
     "start_time": "2016-07-30T15:28:24.569094"
    },
    "collapsed": true
   },
   "outputs": [],
   "source": [
    "def get_latitude_longitude(df_row):\n",
    "    subtype = df_row.location_type\n",
    "    second_str = df_row[subtype].replace(' ', '+')\n",
    "    country_str = df_row.country.replace(' ', '+')\n",
    "    \n",
    "    url = 'https://maps.googleapis.com/maps/api/geocode/json?address=+{},+{}&key={}'.format(second_str, \n",
    "                                                                                            country_str, \n",
    "                                                                                            GOOGLE_API_KEY)\n",
    "    \n",
    "    try:\n",
    "        response = requests.get(url).text\n",
    "        lat_lng = json.loads(response)['results'][0]['geometry']['location']\n",
    "        lat_lng_df = pd.Series({'lat':lat_lng['lat'], 'lng':lat_lng['lng']})\n",
    "    except:\n",
    "        lat_lng_df = pd.Series({'lat':np.NaN, 'lng':np.NaN})\n",
    "        \n",
    "    time.sleep(1)\n",
    "    return lat_lng_df"
   ]
  },
  {
   "cell_type": "code",
   "execution_count": null,
   "metadata": {
    "ExecuteTime": {
     "end_time": "2016-07-30T15:30:00.264915",
     "start_time": "2016-07-30T15:28:25.053624"
    },
    "collapsed": false
   },
   "outputs": [],
   "source": [
    "location_key[['latitude','longitude']] = location_key.apply(lambda x: get_latitude_longitude(x), axis=1)"
   ]
  },
  {
   "cell_type": "markdown",
   "metadata": {},
   "source": [
    "## Then scrape Google's first hit from a web search\n",
    "We tried to play nice. Now bring out the big guns for the non-matches."
   ]
  },
  {
   "cell_type": "code",
   "execution_count": null,
   "metadata": {
    "ExecuteTime": {
     "end_time": "2016-07-30T15:30:00.267313",
     "start_time": "2016-07-30T19:28:26.186Z"
    },
    "collapsed": false
   },
   "outputs": [],
   "source": [
    "def google_search_scrape(df_row, driver_list=driver_list):\n",
    "    \n",
    "    # If both are floats, it's because they're NaNs--thus we need to scrape\n",
    "    if isinstance(df_row.latitude_s, float) & isinstance(df_row.longitude_s, float):\n",
    "    \n",
    "        # Randomized driver selected from a list where each is running through\n",
    "        # different ports\n",
    "        driver = np.random.choice(driver_list)\n",
    "\n",
    "        subtype = df_row.location_type\n",
    "        second_str = df_row[subtype].replace(' ', '+')\n",
    "        country_str = df_row.country.replace(' ', '+')\n",
    "        total_str = country_str + '+' + second_str\n",
    "\n",
    "        url = 'https://www.google.com/search?client=safari&rls=en&q={}&ie=UTF-8&oe=UTF-8#q={}+latitude+longitude'.format(total_str, total_str)\n",
    "        try:\n",
    "            driver.get(url)\n",
    "            time.sleep(3)\n",
    "            text = driver.find_element_by_class_name('kp-header').text\n",
    "            time.sleep(5)\n",
    "            text_array = re.split(r\"\"\", \"\"\", text)\n",
    "        except:\n",
    "            print(total_str)\n",
    "            text_array = [np.NaN, np.NaN]\n",
    "            \n",
    "    else:\n",
    "        # Alread have this data so return existing values\n",
    "        text_array = [df_row.latitude_s, df_row.longitude_s]\n",
    "        \n",
    "    return pd.Series({'latitude_s':text_array[0], 'longitude_s':text_array[1]})"
   ]
  },
  {
   "cell_type": "code",
   "execution_count": null,
   "metadata": {
    "ExecuteTime": {
     "end_time": "2016-07-30T15:30:00.268301",
     "start_time": "2016-07-30T19:28:26.793Z"
    },
    "collapsed": false
   },
   "outputs": [],
   "source": [
    "location_key_scrape = location_key[(location_key.latitude.isnull()|location_key.longitude.isnull())]\n",
    "location_key_scrape['latitude_s'] = ''\n",
    "location_key_scrape['longitude_s'] = ''"
   ]
  },
  {
   "cell_type": "markdown",
   "metadata": {},
   "source": [
    "I had to used four proxies to keep myself from getting blocked by Google while scraping. This scraping was done on a Mac with Chromedriver, but the backend can be switched out for PhantomJS, too."
   ]
  },
  {
   "cell_type": "code",
   "execution_count": null,
   "metadata": {
    "ExecuteTime": {
     "end_time": "2016-07-30T15:30:00.269482",
     "start_time": "2016-07-30T19:28:28.443Z"
    },
    "collapsed": false,
    "scrolled": false
   },
   "outputs": [],
   "source": [
    "# ! ssh -ND 8081 server1\n",
    "# ! ssh -ND 8082 server2\n",
    "# ! ssh -ND 8083 server3\n",
    "# ! ssh -ND 8084 server4\n",
    "\n",
    "port_list = [8081, 8082, 8083, 8084]\n",
    "\n",
    "chrome_options1 = Options().add_argument(\"--proxy-server=socks5://127.0.0.1:\" + str(port_list[0]))\n",
    "chrome_options2 = Options().add_argument(\"--proxy-server=socks5://127.0.0.1:\" + str(port_list[1]))\n",
    "chrome_options3 = Options().add_argument(\"--proxy-server=socks5://127.0.0.1:\" + str(port_list[2]))\n",
    "chrome_options4 = Options().add_argument(\"--proxy-server=socks5://127.0.0.1:\" + str(port_list[3]))\n",
    "\n",
    "driver1 = webdriver.Chrome('/Volumes/Files/homebrew/bin/chromedriver', chrome_options=chrome_options1)\n",
    "driver2 = webdriver.Chrome('/Volumes/Files/homebrew/bin/chromedriver', chrome_options=chrome_options2)\n",
    "driver3 = webdriver.Chrome('/Volumes/Files/homebrew/bin/chromedriver', chrome_options=chrome_options3)\n",
    "driver4 = webdriver.Chrome('/Volumes/Files/homebrew/bin/chromedriver', chrome_options=chrome_options4)\n",
    "\n",
    "driver_list = [driver1, driver2, driver3, driver4]\n",
    "location_key_scrape[['latitude_s','longitude_s']] = location_key_scrape.apply(lambda x: google_search_scrape(x, driver_list), axis=1)"
   ]
  },
  {
   "cell_type": "code",
   "execution_count": null,
   "metadata": {
    "ExecuteTime": {
     "end_time": "2016-07-30T15:30:00.269919",
     "start_time": "2016-07-30T19:28:29.105Z"
    },
    "collapsed": false
   },
   "outputs": [],
   "source": [
    "# Save a temporary checkpoint of this dataframe\n",
    "pkl_it(location_key_scrape, '01_latitude_longitude_checkpoint_location_key_scrape')\n",
    "pkl_it(location_key, '01_latitude_longitude_checkpoint_location_key')"
   ]
  },
  {
   "cell_type": "code",
   "execution_count": null,
   "metadata": {
    "ExecuteTime": {
     "end_time": "2016-07-30T15:30:00.270464",
     "start_time": "2016-07-30T19:28:29.749Z"
    },
    "collapsed": false
   },
   "outputs": [],
   "source": [
    "# Convert the latitude and longitude strings to floats\n",
    "\n",
    "location_key_scrape['latitude_s'] = location_key_scrape.latitude_s.str.strip()\n",
    "location_key_scrape['longitude_s'] = location_key_scrape.longitude_s.str.strip()\n",
    "\n",
    "location_key_scrape['latitude'] = (location_key_scrape.latitude_s\n",
    "                                   .str.extract(r\"\"\"([0-9.-]+)\"\"\")\n",
    "                                   .astype(float))\n",
    "\n",
    "location_key_scrape['longitude'] = (location_key_scrape.longitude_s\n",
    "                                    .str.extract(r\"\"\"([0-9.-]+)\"\"\")\n",
    "                                    .astype(float))\n",
    "\n",
    "mask = (location_key_scrape.latitude_s.str[-1]=='S')\n",
    "location_key_scrape.loc[mask, 'latitude'] *= -1.0\n",
    "\n",
    "mask = (location_key_scrape.longitude_s.str[-1]=='W')\n",
    "location_key_scrape.loc[mask, 'longitude'] *= -1.0"
   ]
  },
  {
   "cell_type": "code",
   "execution_count": null,
   "metadata": {
    "ExecuteTime": {
     "end_time": "2016-07-30T15:30:00.270915",
     "start_time": "2016-07-30T19:28:30.367Z"
    },
    "collapsed": false,
    "scrolled": false
   },
   "outputs": [],
   "source": [
    "# Transfer the scraped data back to the main dataframe\n",
    "location_key.loc[location_key_scrape.index, 'latitude'] = location_key_scrape.latitude\n",
    "location_key.loc[location_key_scrape.index, 'longitude'] = location_key_scrape.longitude"
   ]
  },
  {
   "cell_type": "code",
   "execution_count": null,
   "metadata": {
    "ExecuteTime": {
     "end_time": "2016-07-30T15:30:00.271342",
     "start_time": "2016-07-30T19:28:30.925Z"
    },
    "collapsed": true
   },
   "outputs": [],
   "source": [
    "pkl_it(location_key, '01_latitude_longitude_checkpoint_location_key_2')"
   ]
  },
  {
   "cell_type": "markdown",
   "metadata": {},
   "source": [
    "## Frinally, scrape [www.latlong.net](http://www.latlong.net/)\n",
    "\n",
    "There are 104 locations left without a match. A few of these can be done manually (e.g. the United States locations), but let's try to get a few more with scraping.\n",
    "\n",
    "**NOTE:** for future reference, [distancesto.com](https://www.distancesto.com) looks like it could be scraped."
   ]
  },
  {
   "cell_type": "code",
   "execution_count": null,
   "metadata": {
    "ExecuteTime": {
     "end_time": "2016-07-30T15:30:00.272277",
     "start_time": "2016-07-30T19:28:32.794Z"
    },
    "collapsed": false
   },
   "outputs": [],
   "source": [
    "def scrape_latlong(the_location, driver_list=driver_list):\n",
    "    \n",
    "    driver = np.random.choice(driver_list)\n",
    "    \n",
    "    try:\n",
    "        # Load the web page\n",
    "        driver.get('http://www.latlong.net')\n",
    "        time.sleep(1.0)\n",
    "\n",
    "        # Enter the location\n",
    "        text_field = driver.find_element_by_id('gadres')\n",
    "        text_field.send_keys(the_location)\n",
    "        time.sleep(1.0)\n",
    "\n",
    "        # Click the find button\n",
    "        the_button = driver.find_element_by_xpath('//*[@id=\"latlongform\"]/button')\n",
    "        the_button.click()\n",
    "        time.sleep(1.5)\n",
    "\n",
    "        # Scrape the latitude and longitude\n",
    "        lat_long_str = driver.find_element_by_xpath('//*[@id=\"latlngspan\"]').text\n",
    "        lat_long_re = re.search(r\"\"\"\\(([0-9.-]+),\\s*([0-9.-]+)\\)\"\"\", lat_long_str)\n",
    "        latitude = float(lat_long_re.group(1))\n",
    "        longitude = float(lat_long_re.group(2))\n",
    "    except:\n",
    "        latitude = np.NaN\n",
    "        longitude = np.NaN\n",
    "\n",
    "    return pd.Series({'latitude':latitude, 'longitude':longitude})"
   ]
  },
  {
   "cell_type": "code",
   "execution_count": null,
   "metadata": {
    "ExecuteTime": {
     "end_time": "2016-07-30T15:30:00.272679",
     "start_time": "2016-07-30T19:28:33.459Z"
    },
    "collapsed": true
   },
   "outputs": [],
   "source": [
    "# Separate just the null records to scrape\n",
    "location_key_scrape = location_key.loc[location_key.latitude.isnull()].copy()"
   ]
  },
  {
   "cell_type": "code",
   "execution_count": null,
   "metadata": {
    "ExecuteTime": {
     "end_time": "2016-07-30T15:30:00.273112",
     "start_time": "2016-07-30T19:28:34.151Z"
    },
    "collapsed": false
   },
   "outputs": [],
   "source": [
    "# ! ssh -ND 8081 server1\n",
    "# ! ssh -ND 8082 server2\n",
    "# ! ssh -ND 8083 server3\n",
    "# ! ssh -ND 8084 server4\n",
    "\n",
    "port_list = [8081, 8082, 8083, 8084]\n",
    "\n",
    "chrome_options1 = Options().add_argument(\"--proxy-server=socks5://127.0.0.1:\" + str(port_list[0]))\n",
    "chrome_options2 = Options().add_argument(\"--proxy-server=socks5://127.0.0.1:\" + str(port_list[1]))\n",
    "chrome_options3 = Options().add_argument(\"--proxy-server=socks5://127.0.0.1:\" + str(port_list[2]))\n",
    "chrome_options4 = Options().add_argument(\"--proxy-server=socks5://127.0.0.1:\" + str(port_list[3]))\n",
    "\n",
    "driver1 = webdriver.Chrome('/Volumes/Files/homebrew/bin/chromedriver', chrome_options=chrome_options1)\n",
    "driver2 = webdriver.Chrome('/Volumes/Files/homebrew/bin/chromedriver', chrome_options=chrome_options2)\n",
    "driver3 = webdriver.Chrome('/Volumes/Files/homebrew/bin/chromedriver', chrome_options=chrome_options3)\n",
    "driver4 = webdriver.Chrome('/Volumes/Files/homebrew/bin/chromedriver', chrome_options=chrome_options4)\n",
    "\n",
    "driver_list = [driver1, driver2, driver3, driver4]\n",
    "\n",
    "location_key_scrape[['latitude','longitude']] = (location_key_scrape\n",
    "                                                 .apply(lambda x: scrape_latlong(x.location, driver_list), \n",
    "                                                        axis=1)\n",
    "                                                 )"
   ]
  },
  {
   "cell_type": "code",
   "execution_count": null,
   "metadata": {
    "ExecuteTime": {
     "end_time": "2016-07-30T15:30:00.273621",
     "start_time": "2016-07-30T19:28:34.749Z"
    },
    "collapsed": false
   },
   "outputs": [],
   "source": [
    "location_key_scrape.loc[location_key_scrape.latitude.isnull()]"
   ]
  },
  {
   "cell_type": "code",
   "execution_count": null,
   "metadata": {
    "ExecuteTime": {
     "end_time": "2016-07-30T15:30:00.274035",
     "start_time": "2016-07-30T19:28:35.332Z"
    },
    "collapsed": true
   },
   "outputs": [],
   "source": [
    "# Save temporary checkpoints\n",
    "pkl_it(location_key_scrape, '01_latitude_longitude_checkpoint_location_key_scrape_2')\n",
    "pkl_it(location_key, '01_latitude_longitude_checkpoint_location_key_2')"
   ]
  },
  {
   "cell_type": "markdown",
   "metadata": {},
   "source": [
    "## Clean up the results"
   ]
  },
  {
   "cell_type": "code",
   "execution_count": null,
   "metadata": {
    "ExecuteTime": {
     "end_time": "2016-07-30T15:30:00.274437",
     "start_time": "2016-07-30T19:28:35.821Z"
    },
    "collapsed": true
   },
   "outputs": [],
   "source": [
    "# Transfer the scraped data back to the main dataframe\n",
    "location_key.loc[location_key_scrape.index, 'latitude'] = location_key_scrape.latitude\n",
    "location_key.loc[location_key_scrape.index, 'longitude'] = location_key_scrape.longitude"
   ]
  },
  {
   "cell_type": "code",
   "execution_count": null,
   "metadata": {
    "ExecuteTime": {
     "end_time": "2016-07-30T15:30:00.274962",
     "start_time": "2016-07-30T19:28:37.621Z"
    },
    "collapsed": false
   },
   "outputs": [],
   "source": [
    "location_key.loc[location_key.latitude.isnull()]"
   ]
  },
  {
   "cell_type": "code",
   "execution_count": null,
   "metadata": {
    "ExecuteTime": {
     "end_time": "2016-07-30T15:30:00.275468",
     "start_time": "2016-07-30T19:28:38.523Z"
    },
    "collapsed": true
   },
   "outputs": [],
   "source": [
    "# Fill in the remaining ones manually\n",
    "mask = location_key.location == 'Colombia-Norte_Santander-La_Playa'\n",
    "location_key.loc[mask, ['latitude', 'longitude']] = [7.946283, -72.898807]\n",
    "\n",
    "mask = location_key.location == 'Colombia-Desconocido-Desconocido'\n",
    "location_key.loc[mask, ['latitude', 'longitude']] = [np.NaN , np.NaN]\n",
    "\n",
    "mask = location_key.location == 'Colombia-Bogota-Bosa_Tintal_Sur'\n",
    "location_key.loc[mask, ['latitude', 'longitude']] = [ 4.624335, -74.063644]\n",
    "\n",
    "mask = location_key.location == 'Dominican_Republic-Extranjera'\n",
    "location_key.loc[mask, ['latitude', 'longitude']] = [18.735693 , -70.16265099999998]\n",
    "\n",
    "mask = location_key.location == 'Dominican_Republic-Other'\n",
    "location_key.loc[mask, ['latitude', 'longitude']] = [18.735693 , -70.16265099999998]\n",
    "\n",
    "mask = location_key.location == 'Nicaragua-Other'\n",
    "location_key.loc[mask, ['latitude', 'longitude']] = [12.865416, -85.20722899999998]\n",
    "\n",
    "mask = location_key.location == 'Panama-Kuna_Yala-Acuatupu'\n",
    "location_key.loc[mask, ['latitude', 'longitude']] = [9.234439, -78.192625]\n",
    "\n",
    "mask = location_key.location == 'Panama-San_Miguelito-San_Jose'\n",
    "location_key.loc[mask, ['latitude', 'longitude']] = [9.070755, -79.481638]"
   ]
  },
  {
   "cell_type": "code",
   "execution_count": null,
   "metadata": {
    "ExecuteTime": {
     "end_time": "2016-07-30T15:30:00.275922",
     "start_time": "2016-07-30T19:28:39.515Z"
    },
    "collapsed": true
   },
   "outputs": [],
   "source": [
    "# Prune unwanted columns\n",
    "location_key_out = location_key[['location','latitude','longitude']]"
   ]
  },
  {
   "cell_type": "code",
   "execution_count": null,
   "metadata": {
    "ExecuteTime": {
     "end_time": "2016-07-30T15:30:00.276397",
     "start_time": "2016-07-30T19:28:39.957Z"
    },
    "collapsed": false
   },
   "outputs": [],
   "source": [
    "location_key_out.latitude.shape[0], location_key_out.latitude.isnull().sum()"
   ]
  },
  {
   "cell_type": "code",
   "execution_count": null,
   "metadata": {
    "ExecuteTime": {
     "end_time": "2016-07-30T15:30:00.276822",
     "start_time": "2016-07-30T19:28:40.552Z"
    },
    "collapsed": false
   },
   "outputs": [],
   "source": [
    "# Save unmatched entries to a CSV\n",
    "location_key_out.loc[location_key_out.latitude.isnull()].to_csv('../csv/01_latitude_longitude_unmatched.csv')"
   ]
  },
  {
   "cell_type": "markdown",
   "metadata": {},
   "source": [
    "## Sanity check the latitude and longitude data\n",
    "\n",
    "Sanity check the results by examining the maximum and minimum values for the latitude and longitude. Then plot the results to see if they make sense visually."
   ]
  },
  {
   "cell_type": "code",
   "execution_count": 119,
   "metadata": {
    "ExecuteTime": {
     "end_time": "2016-07-30T15:31:18.735964",
     "start_time": "2016-07-30T15:31:18.725282"
    },
    "collapsed": false
   },
   "outputs": [
    {
     "data": {
      "text/plain": [
       "(-54.805399800000004, 46.8797)"
      ]
     },
     "execution_count": 119,
     "metadata": {},
     "output_type": "execute_result"
    }
   ],
   "source": [
    "location_key_out.latitude.min(), location_key_out.latitude.max()"
   ]
  },
  {
   "cell_type": "code",
   "execution_count": 120,
   "metadata": {
    "ExecuteTime": {
     "end_time": "2016-07-30T15:31:20.367194",
     "start_time": "2016-07-30T15:31:20.359572"
    },
    "collapsed": false
   },
   "outputs": [
    {
     "data": {
      "text/plain": [
       "(-170.13220000000001, -36.781950500000001)"
      ]
     },
     "execution_count": 120,
     "metadata": {},
     "output_type": "execute_result"
    }
   ],
   "source": [
    "location_key_out.longitude.min(), location_key_out.longitude.max()"
   ]
  },
  {
   "cell_type": "code",
   "execution_count": 121,
   "metadata": {
    "ExecuteTime": {
     "end_time": "2016-07-30T15:31:21.541838",
     "start_time": "2016-07-30T15:31:21.465546"
    },
    "collapsed": false
   },
   "outputs": [
    {
     "data": {
      "text/html": [
       "<div>\n",
       "<table border=\"1\" class=\"dataframe\">\n",
       "  <thead>\n",
       "    <tr style=\"text-align: right;\">\n",
       "      <th></th>\n",
       "      <th>location</th>\n",
       "      <th>latitude</th>\n",
       "      <th>longitude</th>\n",
       "    </tr>\n",
       "  </thead>\n",
       "  <tbody>\n",
       "    <tr>\n",
       "      <th>1634</th>\n",
       "      <td>United_States-American_Samoa</td>\n",
       "      <td>-14.2710</td>\n",
       "      <td>-170.1322</td>\n",
       "    </tr>\n",
       "    <tr>\n",
       "      <th>1644</th>\n",
       "      <td>United_States-Hawaii</td>\n",
       "      <td>19.8968</td>\n",
       "      <td>-155.5828</td>\n",
       "    </tr>\n",
       "  </tbody>\n",
       "</table>\n",
       "</div>"
      ],
      "text/plain": [
       "                          location  latitude  longitude\n",
       "1634  United_States-American_Samoa  -14.2710  -170.1322\n",
       "1644          United_States-Hawaii   19.8968  -155.5828"
      ]
     },
     "execution_count": 121,
     "metadata": {},
     "output_type": "execute_result"
    }
   ],
   "source": [
    "mask = ((location_key_out.longitude<-140)|(location_key_out.longitude>-20))\n",
    "location_key_out.loc[mask]"
   ]
  },
  {
   "cell_type": "code",
   "execution_count": 122,
   "metadata": {
    "ExecuteTime": {
     "end_time": "2016-07-30T15:31:24.460307",
     "start_time": "2016-07-30T15:31:24.452049"
    },
    "collapsed": true
   },
   "outputs": [],
   "source": [
    "location_key_out.loc[1550, 'latitude'] = 8.5380\n",
    "location_key_out.loc[1550, 'longitude'] = -80.7821"
   ]
  },
  {
   "cell_type": "markdown",
   "metadata": {},
   "source": [
    "Looks like the results make sense--the outline of North and South America can be seen below."
   ]
  },
  {
   "cell_type": "code",
   "execution_count": 123,
   "metadata": {
    "ExecuteTime": {
     "end_time": "2016-07-30T15:31:28.733134",
     "start_time": "2016-07-30T15:31:28.381517"
    },
    "collapsed": false
   },
   "outputs": [
    {
     "data": {
      "text/plain": [
       "[<matplotlib.lines.Line2D at 0x11cf9fa10>]"
      ]
     },
     "execution_count": 123,
     "metadata": {},
     "output_type": "execute_result"
    },
    {
     "data": {
      "image/png": "[encoded data removed]",
      "text/plain": [
       "<matplotlib.figure.Figure at 0x11bf27090>"
      ]
     },
     "metadata": {},
     "output_type": "display_data"
    }
   ],
   "source": [
    "plt.plot(location_key_out.longitude, location_key_out.latitude, marker='o', ls='')"
   ]
  },
  {
   "cell_type": "code",
   "execution_count": 125,
   "metadata": {
    "ExecuteTime": {
     "end_time": "2016-07-30T15:32:12.022831",
     "start_time": "2016-07-30T15:31:42.690033"
    },
    "collapsed": false
   },
   "outputs": [],
   "source": [
    "save_it(location_key_out, '01_latitude_longitude_google')"
   ]
  }
 ],
 "metadata": {
  "anaconda-cloud": {},
  "kernelspec": {
   "display_name": "Python [default]",
   "language": "python",
   "name": "python2"
  },
  "language_info": {
   "codemirror_mode": {
    "name": "ipython",
    "version": 2
   },
   "file_extension": ".py",
   "mimetype": "text/x-python",
   "name": "python",
   "nbconvert_exporter": "python",
   "pygments_lexer": "ipython2",
   "version": "2.7.12"
  }
 },
 "nbformat": 4,
 "nbformat_minor": 0
}
