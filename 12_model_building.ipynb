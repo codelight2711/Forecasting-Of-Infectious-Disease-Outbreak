{
 "cells": [
  {
   "cell_type": "markdown",
   "metadata": {},
   "source": [
    "# Preliminary model building\n",
    "\n",
    "The various frameworks for determining which data were used for prediction were tested with supervised machine learning models. After testing, it appeared AdaBoost produced the best preliminary results. \n",
    "\n",
    "The data framework chosen was framework a with the features chosen from the date of first reported Zika case. The data frameworks are defined in depth in `10_class_balancing`."
   ]
  },
  {
   "cell_type": "code",
   "execution_count": 1,
   "metadata": {
    "ExecuteTime": {
     "end_time": "2016-08-03T05:47:49.535887",
     "start_time": "2016-08-03T05:47:49.512995"
    },
    "run_control": {
     "marked": true
    }
   },
   "outputs": [],
   "source": [
    "import pandas as pd\n",
    "import numpy as np\n",
    "import dill\n",
    "from sqlalchemy import create_engine\n",
    "from api_keys import POSTGRES_PWD\n",
    "\n",
    "from sklearn.preprocessing import Normalizer\n",
    "from sklearn.cross_validation import train_test_split, StratifiedShuffleSplit, KFold\n",
    "from sklearn.linear_model import LogisticRegressionCV\n",
    "from sklearn.ensemble import RandomForestClassifier, AdaBoostClassifier\n",
    "from sklearn.tree import DecisionTreeClassifier\n",
    "from sklearn.svm import SVC, LinearSVC\n",
    "from sklearn.grid_search import GridSearchCV\n",
    "from sklearn.metrics import confusion_matrix, f1_score, roc_auc_score, roc_curve\n",
    "from sklearn.metrics import auc, accuracy_score, precision_recall_curve\n",
    "from sklearn.metrics import precision_score, recall_score\n",
    "\n",
    "%matplotlib inline\n",
    "import matplotlib.pyplot as plt\n",
    "\n",
    "import seaborn as sns\n",
    "\n",
    "sns.set_context('talk')\n",
    "sns.set_palette('dark')\n",
    "sns.set_style('white')"
   ]
  },
  {
   "cell_type": "markdown",
   "metadata": {
    "run_control": {
     "marked": true
    }
   },
   "source": [
    "## Combine data\n",
    "\n",
    "First import and normalize the features."
   ]
  },
  {
   "cell_type": "code",
   "execution_count": 2,
   "metadata": {
    "collapsed": true
   },
   "outputs": [],
   "source": [
    "cnx = create_engine('postgresql://mlgill:{}@127.0.0.1:5432/zika'.format(POSTGRES_PWD))"
   ]
  },
  {
   "cell_type": "code",
   "execution_count": 3,
   "metadata": {
    "collapsed": true
   },
   "outputs": [],
   "source": [
    "features = pd.read_sql_query(r\"\"\"select * \n",
    "                                  from sql_11_feature_engineering_weather as w \n",
    "                                  left join sql_11_feature_engineering_population as p \n",
    "                                  on w.location = p.location \n",
    "                                  left join sql_11_feature_engineering_airport_distance as a \n",
    "                                  on w.location = a.location \n",
    "                                  left join sql_11_feature_engineering_mosquito_distance as m \n",
    "                                  on w.location = m.location \n",
    "                                  left join sql_11_feature_engineering_location as l \n",
    "                                  on w.location = l.location \n",
    "                                  left join sql_11_feature_engineering_gdp as g \n",
    "                                  on l.country = g.country;\n",
    "                               \"\"\", cnx)\n",
    "\n",
    "features = features.drop(['index', 'country'], axis=1).T.groupby(level=0).first().T.dropna()\n",
    "features['date'] = pd.to_datetime(features['date'])\n",
    "\n",
    "for col in features.columns:\n",
    "    if col not in ['date', 'location']:\n",
    "        features[col] = features[col].astype(np.float)"
   ]
  },
  {
   "cell_type": "code",
   "execution_count": 4,
   "metadata": {
    "ExecuteTime": {
     "end_time": "2016-08-03T05:47:52.566577",
     "start_time": "2016-08-03T05:47:51.811944"
    },
    "run_control": {
     "marked": true
    }
   },
   "outputs": [],
   "source": [
    "feat_cols = [x for x in features.columns if x not in ['date','location']]\n",
    "features[feat_cols] = Normalizer().fit_transform(features[feat_cols])"
   ]
  },
  {
   "cell_type": "markdown",
   "metadata": {
    "run_control": {
     "marked": true
    }
   },
   "source": [
    "Import the predictors."
   ]
  },
  {
   "cell_type": "code",
   "execution_count": 5,
   "metadata": {
    "ExecuteTime": {
     "end_time": "2016-08-03T05:47:52.593220",
     "start_time": "2016-08-03T05:47:52.569449"
    },
    "collapsed": true,
    "run_control": {
     "marked": true
    }
   },
   "outputs": [],
   "source": [
    "framework_b_first = pd.read_pickle('../pkl/10_class_balancing_framework_b_first.pkl')\n",
    "framework_b_max   = pd.read_pickle('../pkl/10_class_balancing_framework_b_max.pkl')\n",
    "\n",
    "framework_a_first = pd.read_pickle('../pkl/10_class_balancing_framework_a_first.pkl')\n",
    "framework_a_max   = pd.read_pickle('../pkl/10_class_balancing_framework_a_max.pkl')"
   ]
  },
  {
   "cell_type": "code",
   "execution_count": 8,
   "metadata": {
    "ExecuteTime": {
     "end_time": "2016-08-03T05:47:53.486003",
     "start_time": "2016-08-03T05:47:53.408640"
    },
    "run_control": {
     "marked": true
    }
   },
   "outputs": [
    {
     "name": "stdout",
     "output_type": "stream",
     "text": [
      "(1044, 3) 0\n",
      "(656, 27) 0\n",
      "1    330\n",
      "0    326\n",
      "Name: zika_bool, dtype: int64\n"
     ]
    }
   ],
   "source": [
    "print framework_b_first.shape, framework_b_first.isnull().sum().max()\n",
    "\n",
    "fwd_b_first = pd.merge(framework_b_first, \n",
    "                       features, \n",
    "                       on=['date','location'], how='left').dropna()\n",
    "\n",
    "print fwd_b_first.shape, fwd_b_first.isnull().sum().max()\n",
    "\n",
    "print fwd_b_first.zika_bool.value_counts()"
   ]
  },
  {
   "cell_type": "code",
   "execution_count": 9,
   "metadata": {
    "ExecuteTime": {
     "end_time": "2016-08-03T05:47:55.432690",
     "start_time": "2016-08-03T05:47:55.429168"
    },
    "run_control": {
     "marked": true
    }
   },
   "outputs": [],
   "source": [
    "#mask = framework_b_first.location.isin(features.location).pipe(np.invert)\n",
    "#framework_b_first.loc[mask, 'location']"
   ]
  },
  {
   "cell_type": "code",
   "execution_count": 10,
   "metadata": {
    "ExecuteTime": {
     "end_time": "2016-08-03T05:47:55.937840",
     "start_time": "2016-08-03T05:47:55.883340"
    },
    "run_control": {
     "marked": true
    }
   },
   "outputs": [
    {
     "name": "stdout",
     "output_type": "stream",
     "text": [
      "(1044, 3) 0\n",
      "(655, 27) 0\n",
      "1    329\n",
      "0    326\n",
      "Name: zika_bool, dtype: int64\n"
     ]
    }
   ],
   "source": [
    "print framework_b_max.shape, framework_b_max.isnull().sum().max()\n",
    "\n",
    "fwd_b_max = pd.merge(framework_b_max, \n",
    "                       features, \n",
    "                       on=['date','location'], how='left').dropna()\n",
    "\n",
    "print fwd_b_max.shape, fwd_b_max.isnull().sum().max()\n",
    "\n",
    "print fwd_b_max.zika_bool.value_counts()"
   ]
  },
  {
   "cell_type": "code",
   "execution_count": 11,
   "metadata": {
    "ExecuteTime": {
     "end_time": "2016-08-03T05:47:56.852474",
     "start_time": "2016-08-03T05:47:56.783220"
    },
    "run_control": {
     "marked": true
    }
   },
   "outputs": [
    {
     "name": "stdout",
     "output_type": "stream",
     "text": [
      "(1605, 3) 0\n",
      "(1142, 27) 0\n",
      "1    948\n",
      "0    194\n",
      "Name: zika_bool, dtype: int64\n"
     ]
    }
   ],
   "source": [
    "print framework_a_first.shape, framework_a_first.isnull().sum().max()\n",
    "\n",
    "fwd_a_first = pd.merge(framework_a_first, \n",
    "                       features, \n",
    "                       on=['date','location'], how='left').dropna()\n",
    "\n",
    "print fwd_a_first.shape, fwd_a_first.isnull().sum().max()\n",
    "\n",
    "print fwd_a_first.zika_bool.value_counts()"
   ]
  },
  {
   "cell_type": "code",
   "execution_count": 12,
   "metadata": {
    "ExecuteTime": {
     "end_time": "2016-08-03T05:47:57.658400",
     "start_time": "2016-08-03T05:47:57.590070"
    },
    "run_control": {
     "marked": true
    }
   },
   "outputs": [
    {
     "name": "stdout",
     "output_type": "stream",
     "text": [
      "(1605, 3) 0\n",
      "(1142, 27) 0\n",
      "1    948\n",
      "0    194\n",
      "Name: zika_bool, dtype: int64\n"
     ]
    }
   ],
   "source": [
    "print framework_a_max.shape, framework_a_max.isnull().sum().max()\n",
    "\n",
    "fwd_a_max = pd.merge(framework_a_max, \n",
    "                       features, \n",
    "                       on=['date','location'], how='left').dropna()\n",
    "\n",
    "print fwd_a_max.shape, fwd_a_max.isnull().sum().max()\n",
    "\n",
    "print fwd_a_max.zika_bool.value_counts()"
   ]
  },
  {
   "cell_type": "markdown",
   "metadata": {
    "run_control": {
     "marked": true
    }
   },
   "source": [
    "Split the data into train and test portions."
   ]
  },
  {
   "cell_type": "code",
   "execution_count": 38,
   "metadata": {
    "ExecuteTime": {
     "end_time": "2016-08-03T05:47:58.756110",
     "start_time": "2016-08-03T05:47:58.735033"
    },
    "collapsed": true,
    "run_control": {
     "marked": true
    }
   },
   "outputs": [],
   "source": [
    "fbm_train, fbm_test = train_test_split(fwd_b_max,   test_size=0.30, random_state=42)\n",
    "fbf_train, fbf_test = train_test_split(fwd_b_first, test_size=0.30, random_state=42)\n",
    "fam_train, fam_test = train_test_split(fwd_a_max,   test_size=0.30, random_state=42)\n",
    "faf_train, faf_test = train_test_split(fwd_a_first, test_size=0.30, random_state=42)"
   ]
  },
  {
   "cell_type": "markdown",
   "metadata": {
    "run_control": {
     "marked": true
    }
   },
   "source": [
    "## Logistic regression"
   ]
  },
  {
   "cell_type": "code",
   "execution_count": 26,
   "metadata": {
    "ExecuteTime": {
     "end_time": "2016-08-01T08:47:44.496437",
     "start_time": "2016-08-01T08:47:15.712415"
    },
    "run_control": {
     "marked": true
    }
   },
   "outputs": [],
   "source": [
    "logistic_list = list()\n",
    "\n",
    "for train,test,label in zip([fam_train, faf_train],\n",
    "                            [fam_test,  faf_test],\n",
    "                            ['Framework A, Max', 'Framework A, First']):\n",
    "    \n",
    "    Ytest = test['zika_bool']\n",
    "    \n",
    "    for penalty in ['l1','l2']:\n",
    "        if penalty=='l1':\n",
    "            LR = LogisticRegressionCV(Cs=10, penalty='l1', solver='liblinear')\n",
    "        else:\n",
    "            LR = LogisticRegressionCV(Cs=10, penalty='l2')\n",
    "\n",
    "        LR.fit(train[feat_cols], train['zika_bool'])\n",
    "        Ypred = LR.predict(test[feat_cols])\n",
    "        \n",
    "        cm = confusion_matrix(Ytest, Ypred)\n",
    "        f1 = f1_score(Ytest, Ypred)\n",
    "        accuracy = accuracy_score(Ytest, Ypred)\n",
    "        auc = roc_auc_score(Ytest, Ypred)\n",
    "        \n",
    "        Yplot = LR.predict_proba(test[feat_cols])[:,1]\n",
    "        xdata, ydata, _ = roc_curve(Ytest, Yplot)\n",
    "        #xdata, ydata, _ = roc_curve(train['zika_bool'], LR.predict(train[feat_cols]))\n",
    "        \n",
    "        df = pd.Series({'data':label, 'penalty':penalty,\n",
    "                        'cm': cm, 'f1': f1, \n",
    "                        'accuracy':accuracy, 'auc':auc,\n",
    "                        'roc_x': xdata, 'roc_y': ydata, 'model':LR})\n",
    "        \n",
    "        logistic_list.append(df)\n",
    "\n"
   ]
  },
  {
   "cell_type": "code",
   "execution_count": 27,
   "metadata": {
    "ExecuteTime": {
     "end_time": "2016-08-01T08:47:44.544137",
     "start_time": "2016-08-01T08:47:44.498780"
    },
    "run_control": {
     "marked": true
    }
   },
   "outputs": [
    {
     "data": {
      "text/html": [
       "<div>\n",
       "<table border=\"1\" class=\"dataframe\">\n",
       "  <thead>\n",
       "    <tr style=\"text-align: right;\">\n",
       "      <th></th>\n",
       "      <th></th>\n",
       "      <th>accuracy</th>\n",
       "      <th>f1</th>\n",
       "      <th>auc</th>\n",
       "      <th>cm</th>\n",
       "    </tr>\n",
       "    <tr>\n",
       "      <th>data</th>\n",
       "      <th>penalty</th>\n",
       "      <th></th>\n",
       "      <th></th>\n",
       "      <th></th>\n",
       "      <th></th>\n",
       "    </tr>\n",
       "  </thead>\n",
       "  <tbody>\n",
       "    <tr>\n",
       "      <th rowspan=\"2\" valign=\"top\">Framework B, Max</th>\n",
       "      <th>l1</th>\n",
       "      <td>0.878788</td>\n",
       "      <td>0.875</td>\n",
       "      <td>0.878676</td>\n",
       "      <td>[[90, 12], [12, 84]]</td>\n",
       "    </tr>\n",
       "    <tr>\n",
       "      <th>l2</th>\n",
       "      <td>0.838384</td>\n",
       "      <td>0.836735</td>\n",
       "      <td>0.838848</td>\n",
       "      <td>[[84, 18], [14, 82]]</td>\n",
       "    </tr>\n",
       "    <tr>\n",
       "      <th rowspan=\"2\" valign=\"top\">Framework B, First</th>\n",
       "      <th>l1</th>\n",
       "      <td>0.762626</td>\n",
       "      <td>0.761421</td>\n",
       "      <td>0.764078</td>\n",
       "      <td>[[76, 19], [28, 75]]</td>\n",
       "    </tr>\n",
       "    <tr>\n",
       "      <th>l2</th>\n",
       "      <td>0.808081</td>\n",
       "      <td>0.820755</td>\n",
       "      <td>0.806541</td>\n",
       "      <td>[[73, 22], [16, 87]]</td>\n",
       "    </tr>\n",
       "    <tr>\n",
       "      <th rowspan=\"2\" valign=\"top\">Framework A, Max</th>\n",
       "      <th>l1</th>\n",
       "      <td>0.862974</td>\n",
       "      <td>0.919932</td>\n",
       "      <td>0.686996</td>\n",
       "      <td>[[26, 38], [9, 270]]</td>\n",
       "    </tr>\n",
       "    <tr>\n",
       "      <th>l2</th>\n",
       "      <td>0.868805</td>\n",
       "      <td>0.923599</td>\n",
       "      <td>0.69058</td>\n",
       "      <td>[[26, 38], [7, 272]]</td>\n",
       "    </tr>\n",
       "    <tr>\n",
       "      <th rowspan=\"2\" valign=\"top\">Framework A, First</th>\n",
       "      <th>l1</th>\n",
       "      <td>0.862974</td>\n",
       "      <td>0.919932</td>\n",
       "      <td>0.686996</td>\n",
       "      <td>[[26, 38], [9, 270]]</td>\n",
       "    </tr>\n",
       "    <tr>\n",
       "      <th>l2</th>\n",
       "      <td>0.868805</td>\n",
       "      <td>0.923599</td>\n",
       "      <td>0.69058</td>\n",
       "      <td>[[26, 38], [7, 272]]</td>\n",
       "    </tr>\n",
       "  </tbody>\n",
       "</table>\n",
       "</div>"
      ],
      "text/plain": [
       "                            accuracy        f1       auc                    cm\n",
       "data               penalty                                                    \n",
       "Framework B, Max   l1       0.878788     0.875  0.878676  [[90, 12], [12, 84]]\n",
       "                   l2       0.838384  0.836735  0.838848  [[84, 18], [14, 82]]\n",
       "Framework B, First l1       0.762626  0.761421  0.764078  [[76, 19], [28, 75]]\n",
       "                   l2       0.808081  0.820755  0.806541  [[73, 22], [16, 87]]\n",
       "Framework A, Max   l1       0.862974  0.919932  0.686996  [[26, 38], [9, 270]]\n",
       "                   l2       0.868805  0.923599   0.69058  [[26, 38], [7, 272]]\n",
       "Framework A, First l1       0.862974  0.919932  0.686996  [[26, 38], [9, 270]]\n",
       "                   l2       0.868805  0.923599   0.69058  [[26, 38], [7, 272]]"
      ]
     },
     "execution_count": 27,
     "metadata": {},
     "output_type": "execute_result"
    }
   ],
   "source": [
    "logistic_results = (pd.concat(logistic_list, axis=1).T\n",
    "                    .set_index(['data','penalty']))\n",
    "logistic_results[['accuracy','f1','auc', 'cm']]"
   ]
  },
  {
   "cell_type": "code",
   "execution_count": 28,
   "metadata": {
    "ExecuteTime": {
     "end_time": "2016-08-01T08:47:45.051738",
     "start_time": "2016-08-01T08:47:44.547272"
    },
    "run_control": {
     "marked": true
    }
   },
   "outputs": [
    {
     "data": {
      "image/png": "[encoded data removed]",
      "text/plain": [
       "<matplotlib.figure.Figure at 0x7f5f9d5e4390>"
      ]
     },
     "metadata": {},
     "output_type": "display_data"
    }
   ],
   "source": [
    "f = plt.figure()\n",
    "f.set_size_inches(7,5)\n",
    "ax = plt.axes()\n",
    "\n",
    "colors = sns.color_palette()\n",
    "\n",
    "for idx,dat in logistic_results.iterrows():\n",
    "    label = ' '.join(idx)\n",
    "    xdata = dat.roc_x\n",
    "    ydata = dat.roc_y\n",
    "    ax.plot(xdata, ydata, label=label)\n",
    "\n",
    "ax.legend(loc=0)\n",
    "\n",
    "_ = ax.set(xlabel='False Positive Rate', \n",
    "       ylabel='True Positive Rate',\n",
    "       title='ROC Curve')\n",
    "\n",
    "plt.tight_layout()"
   ]
  },
  {
   "cell_type": "markdown",
   "metadata": {
    "run_control": {
     "marked": true
    }
   },
   "source": [
    "## Random Forest Classifier"
   ]
  },
  {
   "cell_type": "code",
   "execution_count": 156,
   "metadata": {
    "ExecuteTime": {
     "end_time": "2016-08-01T14:31:29.204955",
     "start_time": "2016-08-01T14:31:22.408543"
    },
    "run_control": {
     "marked": true
    }
   },
   "outputs": [
    {
     "name": "stderr",
     "output_type": "stream",
     "text": [
      "[Parallel(n_jobs=-1)]: Done  42 tasks      | elapsed:    0.0s\n",
      "[Parallel(n_jobs=-1)]: Done 192 tasks      | elapsed:    0.2s\n",
      "[Parallel(n_jobs=-1)]: Done 300 out of 300 | elapsed:    0.4s finished\n",
      "[Parallel(n_jobs=4)]: Done  42 tasks      | elapsed:    0.0s\n",
      "[Parallel(n_jobs=4)]: Done 192 tasks      | elapsed:    0.1s\n",
      "[Parallel(n_jobs=4)]: Done 300 out of 300 | elapsed:    0.1s finished\n",
      "[Parallel(n_jobs=-1)]: Done  42 tasks      | elapsed:    0.0s\n",
      "[Parallel(n_jobs=-1)]: Done 192 tasks      | elapsed:    0.2s\n",
      "[Parallel(n_jobs=-1)]: Done 300 out of 300 | elapsed:    0.3s finished\n",
      "[Parallel(n_jobs=4)]: Done  42 tasks      | elapsed:    0.0s\n",
      "[Parallel(n_jobs=4)]: Done 192 tasks      | elapsed:    0.1s\n",
      "[Parallel(n_jobs=4)]: Done 300 out of 300 | elapsed:    0.1s finished\n",
      "[Parallel(n_jobs=-1)]: Done  42 tasks      | elapsed:    0.1s\n",
      "[Parallel(n_jobs=-1)]: Done 192 tasks      | elapsed:    0.2s\n",
      "[Parallel(n_jobs=-1)]: Done 300 out of 300 | elapsed:    0.3s finished\n",
      "[Parallel(n_jobs=4)]: Done  42 tasks      | elapsed:    0.0s\n",
      "[Parallel(n_jobs=4)]: Done 192 tasks      | elapsed:    0.1s\n",
      "[Parallel(n_jobs=4)]: Done 300 out of 300 | elapsed:    0.1s finished\n",
      "[Parallel(n_jobs=-1)]: Done  42 tasks      | elapsed:    0.0s\n",
      "[Parallel(n_jobs=-1)]: Done 192 tasks      | elapsed:    0.2s\n",
      "[Parallel(n_jobs=-1)]: Done 300 out of 300 | elapsed:    0.3s finished\n",
      "[Parallel(n_jobs=4)]: Done  42 tasks      | elapsed:    0.0s\n",
      "[Parallel(n_jobs=4)]: Done 192 tasks      | elapsed:    0.1s\n",
      "[Parallel(n_jobs=4)]: Done 300 out of 300 | elapsed:    0.1s finished\n"
     ]
    }
   ],
   "source": [
    "random_forest_list = list()\n",
    "\n",
    "param_grid = {'max_depth':range(1,26), 'n_estimators':[100,200,300,400,500]}\n",
    "RF = RandomForestClassifier(max_depth=8, n_jobs=-1, class_weight='balanced'\n",
    "                            random_state=42, verbose=0, oob_score=True)\n",
    "\n",
    "RFCV = GridSearchCV(RF, param_grid)\n",
    "RFCV.fit(faf_train[feat_cols],  faf_train)\n",
    "Ypred = RF.predict(test[feat_cols])\n"
   ]
  },
  {
   "cell_type": "code",
   "execution_count": 157,
   "metadata": {
    "ExecuteTime": {
     "end_time": "2016-08-01T14:31:35.838790",
     "start_time": "2016-08-01T14:31:35.798689"
    },
    "run_control": {
     "marked": true
    }
   },
   "outputs": [
    {
     "data": {
      "text/html": [
       "<div>\n",
       "<table border=\"1\" class=\"dataframe\">\n",
       "  <thead>\n",
       "    <tr style=\"text-align: right;\">\n",
       "      <th></th>\n",
       "      <th>accuracy</th>\n",
       "      <th>f1</th>\n",
       "      <th>auc</th>\n",
       "      <th>cm</th>\n",
       "    </tr>\n",
       "    <tr>\n",
       "      <th>data</th>\n",
       "      <th></th>\n",
       "      <th></th>\n",
       "      <th></th>\n",
       "      <th></th>\n",
       "    </tr>\n",
       "  </thead>\n",
       "  <tbody>\n",
       "    <tr>\n",
       "      <th>Framework B, Max</th>\n",
       "      <td>0.878788</td>\n",
       "      <td>0.878788</td>\n",
       "      <td>0.879596</td>\n",
       "      <td>[[87, 15], [9, 87]]</td>\n",
       "    </tr>\n",
       "    <tr>\n",
       "      <th>Framework B, First</th>\n",
       "      <td>0.90404</td>\n",
       "      <td>0.909953</td>\n",
       "      <td>0.902862</td>\n",
       "      <td>[[83, 12], [7, 96]]</td>\n",
       "    </tr>\n",
       "    <tr>\n",
       "      <th>Framework A, Max</th>\n",
       "      <td>0.886297</td>\n",
       "      <td>0.933333</td>\n",
       "      <td>0.731435</td>\n",
       "      <td>[[31, 33], [6, 273]]</td>\n",
       "    </tr>\n",
       "    <tr>\n",
       "      <th>Framework A, First</th>\n",
       "      <td>0.886297</td>\n",
       "      <td>0.933333</td>\n",
       "      <td>0.731435</td>\n",
       "      <td>[[31, 33], [6, 273]]</td>\n",
       "    </tr>\n",
       "  </tbody>\n",
       "</table>\n",
       "</div>"
      ],
      "text/plain": [
       "                    accuracy        f1       auc                    cm\n",
       "data                                                                  \n",
       "Framework B, Max    0.878788  0.878788  0.879596   [[87, 15], [9, 87]]\n",
       "Framework B, First   0.90404  0.909953  0.902862   [[83, 12], [7, 96]]\n",
       "Framework A, Max    0.886297  0.933333  0.731435  [[31, 33], [6, 273]]\n",
       "Framework A, First  0.886297  0.933333  0.731435  [[31, 33], [6, 273]]"
      ]
     },
     "execution_count": 157,
     "metadata": {},
     "output_type": "execute_result"
    }
   ],
   "source": [
    "random_forest_results = (pd.concat(random_forest_list, axis=1).T\n",
    "                         .set_index('data'))\n",
    "random_forest_results[['accuracy','f1','auc', 'cm']]"
   ]
  },
  {
   "cell_type": "code",
   "execution_count": 158,
   "metadata": {
    "ExecuteTime": {
     "end_time": "2016-08-01T14:32:05.630903",
     "start_time": "2016-08-01T14:32:05.253377"
    },
    "run_control": {
     "marked": true
    }
   },
   "outputs": [
    {
     "data": {
      "image/png": "[encoded data removed]",
      "text/plain": [
       "<matplotlib.figure.Figure at 0x11abcefd0>"
      ]
     },
     "metadata": {},
     "output_type": "display_data"
    }
   ],
   "source": [
    "f = plt.figure()\n",
    "f.set_size_inches(7,5)\n",
    "ax = plt.axes()\n",
    "\n",
    "colors = sns.color_palette()\n",
    "\n",
    "for idx,dat in random_forest_results.iterrows():\n",
    "    label = idx\n",
    "    xdata = dat.roc_x\n",
    "    ydata = dat.roc_y\n",
    "    ax.plot(xdata, ydata, label=label)\n",
    "\n",
    "ax.legend(loc=0)\n",
    "\n",
    "_ = ax.set(xlabel='False Positive Rate', \n",
    "       ylabel='True Positive Rate',\n",
    "       title='ROC Curve')\n",
    "\n",
    "plt.tight_layout()"
   ]
  },
  {
   "cell_type": "markdown",
   "metadata": {
    "run_control": {
     "marked": true
    }
   },
   "source": [
    "## Linear SVM"
   ]
  },
  {
   "cell_type": "code",
   "execution_count": 94,
   "metadata": {
    "ExecuteTime": {
     "end_time": "2016-08-01T10:02:08.248391",
     "start_time": "2016-08-01T10:02:06.172927"
    },
    "run_control": {
     "marked": true
    }
   },
   "outputs": [],
   "source": [
    "svm_list = list()\n",
    "\n",
    "for train,test,label in zip([fam_train, faf_train],\n",
    "                            [fam_test,  faf_test],\n",
    "                            ['Framework A, Max', 'Framework A, First']):\n",
    "    \n",
    "    for penalty in ['l1','l2']:\n",
    "        dual=True\n",
    "        if penalty == 'l1':\n",
    "            dual=False\n",
    "        \n",
    "        max_f1 = 0\n",
    "        for C in [1000, 100, 10, 1, 0.1, 0.01, 0.001]:\n",
    "    \n",
    "            Ytest = test['zika_bool']\n",
    "\n",
    "            SVM = LinearSVC(penalty=penalty, loss='squared_hinge', C=C, dual=dual)\n",
    "\n",
    "            SVM.fit(train[feat_cols], train['zika_bool'])\n",
    "            Ypred = SVM.predict(test[feat_cols])\n",
    "\n",
    "            cm = confusion_matrix(Ytest, Ypred)\n",
    "            f1 = f1_score(Ytest, Ypred)\n",
    "            accuracy = accuracy_score(Ytest, Ypred)\n",
    "            auc = roc_auc_score(Ytest, Ypred)\n",
    "            xdata, ydata, _ = roc_curve(Ytest, Ypred)\n",
    "            \n",
    "            if f1 > max_f1:\n",
    "                df = pd.Series({'data':label, 'penalty':penalty, 'C':C,\n",
    "                                'cm': cm, 'f1': f1, \n",
    "                                'accuracy':accuracy, 'auc':auc,\n",
    "                                'roc_x': xdata, 'roc_y': ydata, 'model':RF})\n",
    "\n",
    "        svm_list.append(df)"
   ]
  },
  {
   "cell_type": "code",
   "execution_count": 95,
   "metadata": {
    "ExecuteTime": {
     "end_time": "2016-08-01T10:02:11.844653",
     "start_time": "2016-08-01T10:02:11.773205"
    },
    "run_control": {
     "marked": true
    }
   },
   "outputs": [
    {
     "data": {
      "text/html": [
       "<div>\n",
       "<table border=\"1\" class=\"dataframe\">\n",
       "  <thead>\n",
       "    <tr style=\"text-align: right;\">\n",
       "      <th></th>\n",
       "      <th></th>\n",
       "      <th></th>\n",
       "      <th>accuracy</th>\n",
       "      <th>f1</th>\n",
       "      <th>auc</th>\n",
       "      <th>cm</th>\n",
       "    </tr>\n",
       "    <tr>\n",
       "      <th>data</th>\n",
       "      <th>penalty</th>\n",
       "      <th>C</th>\n",
       "      <th></th>\n",
       "      <th></th>\n",
       "      <th></th>\n",
       "      <th></th>\n",
       "    </tr>\n",
       "  </thead>\n",
       "  <tbody>\n",
       "    <tr>\n",
       "      <th rowspan=\"2\" valign=\"top\">Framework B, Max</th>\n",
       "      <th>l1</th>\n",
       "      <th>0.100</th>\n",
       "      <td>0.484848</td>\n",
       "      <td>0.653061</td>\n",
       "      <td>0.5</td>\n",
       "      <td>[[0, 102], [0, 96]]</td>\n",
       "    </tr>\n",
       "    <tr>\n",
       "      <th>l2</th>\n",
       "      <th>0.001</th>\n",
       "      <td>0.484848</td>\n",
       "      <td>0.653061</td>\n",
       "      <td>0.5</td>\n",
       "      <td>[[0, 102], [0, 96]]</td>\n",
       "    </tr>\n",
       "    <tr>\n",
       "      <th rowspan=\"2\" valign=\"top\">Framework B, First</th>\n",
       "      <th>l1</th>\n",
       "      <th>1.000</th>\n",
       "      <td>0.691919</td>\n",
       "      <td>0.705314</td>\n",
       "      <td>0.691211</td>\n",
       "      <td>[[64, 31], [30, 73]]</td>\n",
       "    </tr>\n",
       "    <tr>\n",
       "      <th>l2</th>\n",
       "      <th>0.100</th>\n",
       "      <td>0.479798</td>\n",
       "      <td>0.466321</td>\n",
       "      <td>0.481604</td>\n",
       "      <td>[[50, 45], [58, 45]]</td>\n",
       "    </tr>\n",
       "    <tr>\n",
       "      <th rowspan=\"2\" valign=\"top\">Framework A, Max</th>\n",
       "      <th>l1</th>\n",
       "      <th>0.001</th>\n",
       "      <td>0.813411</td>\n",
       "      <td>0.897106</td>\n",
       "      <td>0.5</td>\n",
       "      <td>[[0, 64], [0, 279]]</td>\n",
       "    </tr>\n",
       "    <tr>\n",
       "      <th>l2</th>\n",
       "      <th>0.001</th>\n",
       "      <td>0.813411</td>\n",
       "      <td>0.897106</td>\n",
       "      <td>0.5</td>\n",
       "      <td>[[0, 64], [0, 279]]</td>\n",
       "    </tr>\n",
       "    <tr>\n",
       "      <th rowspan=\"2\" valign=\"top\">Framework A, First</th>\n",
       "      <th>l1</th>\n",
       "      <th>0.001</th>\n",
       "      <td>0.813411</td>\n",
       "      <td>0.897106</td>\n",
       "      <td>0.5</td>\n",
       "      <td>[[0, 64], [0, 279]]</td>\n",
       "    </tr>\n",
       "    <tr>\n",
       "      <th>l2</th>\n",
       "      <th>0.001</th>\n",
       "      <td>0.813411</td>\n",
       "      <td>0.897106</td>\n",
       "      <td>0.5</td>\n",
       "      <td>[[0, 64], [0, 279]]</td>\n",
       "    </tr>\n",
       "  </tbody>\n",
       "</table>\n",
       "</div>"
      ],
      "text/plain": [
       "                                  accuracy        f1       auc  \\\n",
       "data               penalty C                                     \n",
       "Framework B, Max   l1      0.100  0.484848  0.653061       0.5   \n",
       "                   l2      0.001  0.484848  0.653061       0.5   \n",
       "Framework B, First l1      1.000  0.691919  0.705314  0.691211   \n",
       "                   l2      0.100  0.479798  0.466321  0.481604   \n",
       "Framework A, Max   l1      0.001  0.813411  0.897106       0.5   \n",
       "                   l2      0.001  0.813411  0.897106       0.5   \n",
       "Framework A, First l1      0.001  0.813411  0.897106       0.5   \n",
       "                   l2      0.001  0.813411  0.897106       0.5   \n",
       "\n",
       "                                                    cm  \n",
       "data               penalty C                            \n",
       "Framework B, Max   l1      0.100   [[0, 102], [0, 96]]  \n",
       "                   l2      0.001   [[0, 102], [0, 96]]  \n",
       "Framework B, First l1      1.000  [[64, 31], [30, 73]]  \n",
       "                   l2      0.100  [[50, 45], [58, 45]]  \n",
       "Framework A, Max   l1      0.001   [[0, 64], [0, 279]]  \n",
       "                   l2      0.001   [[0, 64], [0, 279]]  \n",
       "Framework A, First l1      0.001   [[0, 64], [0, 279]]  \n",
       "                   l2      0.001   [[0, 64], [0, 279]]  "
      ]
     },
     "execution_count": 95,
     "metadata": {},
     "output_type": "execute_result"
    }
   ],
   "source": [
    "svm_results = (pd.concat(svm_list, axis=1).T\n",
    "                         .set_index(['data','penalty','C']))\n",
    "svm_results[['accuracy','f1','auc', 'cm']]"
   ]
  },
  {
   "cell_type": "markdown",
   "metadata": {
    "run_control": {
     "marked": true
    }
   },
   "source": [
    "## AdaBoost classification"
   ]
  },
  {
   "cell_type": "code",
   "execution_count": 150,
   "metadata": {
    "ExecuteTime": {
     "end_time": "2016-08-01T14:28:33.365724",
     "start_time": "2016-08-01T14:28:20.580656"
    },
    "run_control": {
     "marked": true
    }
   },
   "outputs": [],
   "source": [
    "ada_list = list()\n",
    "\n",
    "for train,test,label in zip([fam_train, faf_train],\n",
    "                            [fam_test,  faf_test],\n",
    "                            ['Framework A, Max', 'Framework A, First']):\n",
    "\n",
    "    # TODO check if this is the criterion I want\n",
    "    tree = DecisionTreeClassifier(criterion='entropy', max_depth=1)\n",
    "    \n",
    "    ada = AdaBoostClassifier(base_estimator=tree, n_estimators=500,\n",
    "                            learning_rate=0.1, random_state=0)\n",
    "\n",
    "    tree = tree.fit(train[feat_cols], train['zika_bool'])\n",
    "    ada = ada.fit(train[feat_cols], train['zika_bool'])\n",
    "\n",
    "    Ypred = ada.predict(test[feat_cols])\n",
    "    Ytest = test['zika_bool']\n",
    "    \n",
    "    cm = confusion_matrix(Ytest, Ypred)\n",
    "    f1 = f1_score(Ytest, Ypred)\n",
    "    accuracy = accuracy_score(Ytest, Ypred)\n",
    "    auc = roc_auc_score(Ytest, Ypred)\n",
    "    xdata, ydata, _ = roc_curve(Ytest, Ypred)\n",
    "    \n",
    "    df = pd.Series({'data':label, \n",
    "    'cm': cm, 'f1': f1, \n",
    "    'accuracy':accuracy, 'auc':auc,\n",
    "    'roc_x': xdata, 'roc_y': ydata, 'model':ada})\n",
    "    \n",
    "    ada_list.append(df)"
   ]
  },
  {
   "cell_type": "code",
   "execution_count": 151,
   "metadata": {
    "ExecuteTime": {
     "end_time": "2016-08-01T14:28:52.664022",
     "start_time": "2016-08-01T14:28:52.625820"
    },
    "run_control": {
     "marked": true
    }
   },
   "outputs": [
    {
     "data": {
      "text/html": [
       "<div>\n",
       "<table border=\"1\" class=\"dataframe\">\n",
       "  <thead>\n",
       "    <tr style=\"text-align: right;\">\n",
       "      <th></th>\n",
       "      <th>accuracy</th>\n",
       "      <th>auc</th>\n",
       "      <th>f1</th>\n",
       "      <th>cm</th>\n",
       "    </tr>\n",
       "    <tr>\n",
       "      <th>data</th>\n",
       "      <th></th>\n",
       "      <th></th>\n",
       "      <th></th>\n",
       "      <th></th>\n",
       "    </tr>\n",
       "  </thead>\n",
       "  <tbody>\n",
       "    <tr>\n",
       "      <th>Framework B, Max</th>\n",
       "      <td>0.858586</td>\n",
       "      <td>0.858762</td>\n",
       "      <td>0.85567</td>\n",
       "      <td>[[87, 15], [13, 83]]</td>\n",
       "    </tr>\n",
       "    <tr>\n",
       "      <th>Framework B, First</th>\n",
       "      <td>0.863636</td>\n",
       "      <td>0.862391</td>\n",
       "      <td>0.872038</td>\n",
       "      <td>[[79, 16], [11, 92]]</td>\n",
       "    </tr>\n",
       "    <tr>\n",
       "      <th>Framework A, Max</th>\n",
       "      <td>0.897959</td>\n",
       "      <td>0.774726</td>\n",
       "      <td>0.939341</td>\n",
       "      <td>[[37, 27], [8, 271]]</td>\n",
       "    </tr>\n",
       "    <tr>\n",
       "      <th>Framework A, First</th>\n",
       "      <td>0.897959</td>\n",
       "      <td>0.774726</td>\n",
       "      <td>0.939341</td>\n",
       "      <td>[[37, 27], [8, 271]]</td>\n",
       "    </tr>\n",
       "  </tbody>\n",
       "</table>\n",
       "</div>"
      ],
      "text/plain": [
       "                    accuracy       auc        f1                    cm\n",
       "data                                                                  \n",
       "Framework B, Max    0.858586  0.858762   0.85567  [[87, 15], [13, 83]]\n",
       "Framework B, First  0.863636  0.862391  0.872038  [[79, 16], [11, 92]]\n",
       "Framework A, Max    0.897959  0.774726  0.939341  [[37, 27], [8, 271]]\n",
       "Framework A, First  0.897959  0.774726  0.939341  [[37, 27], [8, 271]]"
      ]
     },
     "execution_count": 151,
     "metadata": {},
     "output_type": "execute_result"
    }
   ],
   "source": [
    "ada_results = pd.concat(ada_list, axis=1).T.set_index('data')\n",
    "ada_results[['accuracy','auc','f1','cm']]"
   ]
  },
  {
   "cell_type": "code",
   "execution_count": 152,
   "metadata": {
    "ExecuteTime": {
     "end_time": "2016-08-01T14:29:05.540976",
     "start_time": "2016-08-01T14:29:05.115925"
    },
    "run_control": {
     "marked": true
    }
   },
   "outputs": [
    {
     "data": {
      "image/png": "[encoded data removed]",
      "text/plain": [
       "<matplotlib.figure.Figure at 0x118ca7790>"
      ]
     },
     "metadata": {},
     "output_type": "display_data"
    }
   ],
   "source": [
    "f = plt.figure()\n",
    "f.set_size_inches(7,5)\n",
    "ax = plt.axes()\n",
    "\n",
    "colors = sns.color_palette()\n",
    "\n",
    "for idx,dat in ada_results.iterrows():\n",
    "    label = idx\n",
    "    xdata = dat.roc_x\n",
    "    ydata = dat.roc_y\n",
    "    ax.plot(xdata, ydata, label=label)\n",
    "\n",
    "ax.legend(loc=0)\n",
    "\n",
    "_ = ax.set(xlabel='False Positive Rate', \n",
    "       ylabel='True Positive Rate',\n",
    "       title='ROC Curve')\n",
    "\n",
    "plt.tight_layout()"
   ]
  },
  {
   "cell_type": "markdown",
   "metadata": {
    "run_control": {
     "marked": true
    }
   },
   "source": [
    "## AdaBoost plus Imbalanced Learn"
   ]
  },
  {
   "cell_type": "code",
   "execution_count": 15,
   "metadata": {
    "ExecuteTime": {
     "end_time": "2016-08-03T05:56:34.615693",
     "start_time": "2016-08-03T05:56:21.467187"
    },
    "run_control": {
     "marked": true
    }
   },
   "outputs": [],
   "source": [
    "ada_list = list()\n",
    "\n",
    "# TODO check if this is the criterion I want\n",
    "adasyn = ADASYN()\n",
    "\n",
    "tree = DecisionTreeClassifier(criterion='entropy', max_depth=1)\n",
    "\n",
    "ada = AdaBoostClassifier(base_estimator=tree, n_estimators=500,\n",
    "                        learning_rate=0.1, random_state=0)\n",
    "\n",
    "for train,test,label in zip([fam_train, faf_train],\n",
    "                            [fam_test,  faf_test],\n",
    "                            ['Framework A, Max', 'Framework A, First']):\n",
    "    \n",
    "    X_resampled, Y_resampled = adasyn.fit_sample(train[feat_cols], train['zika_bool'])\n",
    "\n",
    "    tree = tree.fit(X_resampled, Y_resampled)\n",
    "    ada = ada.fit(X_resampled, Y_resampled)\n",
    "\n",
    "    Ypred = ada.predict(test[feat_cols])\n",
    "    Ytest = test['zika_bool']\n",
    "    \n",
    "    cm = confusion_matrix(Ytest, Ypred)\n",
    "    f1 = f1_score(Ytest, Ypred)\n",
    "    accuracy = accuracy_score(Ytest, Ypred)\n",
    "    auc = roc_auc_score(Ytest, Ypred)\n",
    "    xdata, ydata, _ = roc_curve(Ytest, Ypred)\n",
    "    \n",
    "    df = pd.Series({'data':label, \n",
    "    'cm': cm, 'f1': f1, \n",
    "    'accuracy':accuracy, 'auc':auc,\n",
    "    'roc_x': xdata, 'roc_y': ydata, 'model':ada})\n",
    "    \n",
    "    ada_list.append(df)"
   ]
  },
  {
   "cell_type": "code",
   "execution_count": 20,
   "metadata": {
    "ExecuteTime": {
     "end_time": "2016-08-03T06:04:35.353136",
     "start_time": "2016-08-03T06:04:35.341827"
    },
    "run_control": {
     "marked": true
    }
   },
   "outputs": [
    {
     "data": {
      "text/plain": [
       "0    671\n",
       "1    670\n",
       "dtype: int64"
      ]
     },
     "execution_count": 20,
     "metadata": {},
     "output_type": "execute_result"
    }
   ],
   "source": [
    "pd.Series(Y_resampled).value_counts()"
   ]
  },
  {
   "cell_type": "code",
   "execution_count": 22,
   "metadata": {
    "ExecuteTime": {
     "end_time": "2016-08-03T06:06:36.445236",
     "start_time": "2016-08-03T06:06:36.435433"
    }
   },
   "outputs": [
    {
     "data": {
      "text/plain": [
       "1    279\n",
       "0     64\n",
       "Name: zika_bool, dtype: int64"
      ]
     },
     "execution_count": 22,
     "metadata": {},
     "output_type": "execute_result"
    }
   ],
   "source": [
    "test['zika_bool'].value_counts()"
   ]
  },
  {
   "cell_type": "code",
   "execution_count": 16,
   "metadata": {
    "ExecuteTime": {
     "end_time": "2016-08-03T05:57:07.593296",
     "start_time": "2016-08-03T05:57:07.553167"
    },
    "run_control": {
     "marked": true
    }
   },
   "outputs": [
    {
     "data": {
      "text/html": [
       "<div>\n",
       "<table border=\"1\" class=\"dataframe\">\n",
       "  <thead>\n",
       "    <tr style=\"text-align: right;\">\n",
       "      <th></th>\n",
       "      <th>accuracy</th>\n",
       "      <th>auc</th>\n",
       "      <th>f1</th>\n",
       "      <th>cm</th>\n",
       "    </tr>\n",
       "    <tr>\n",
       "      <th>data</th>\n",
       "      <th></th>\n",
       "      <th></th>\n",
       "      <th></th>\n",
       "      <th></th>\n",
       "    </tr>\n",
       "  </thead>\n",
       "  <tbody>\n",
       "    <tr>\n",
       "      <th>Framework B, Max</th>\n",
       "      <td>0.858586</td>\n",
       "      <td>0.858762</td>\n",
       "      <td>0.85567</td>\n",
       "      <td>[[87, 15], [13, 83]]</td>\n",
       "    </tr>\n",
       "    <tr>\n",
       "      <th>Framework B, First</th>\n",
       "      <td>0.863636</td>\n",
       "      <td>0.862391</td>\n",
       "      <td>0.872038</td>\n",
       "      <td>[[79, 16], [11, 92]]</td>\n",
       "    </tr>\n",
       "    <tr>\n",
       "      <th>Framework A, Max</th>\n",
       "      <td>0.889213</td>\n",
       "      <td>0.823533</td>\n",
       "      <td>0.931655</td>\n",
       "      <td>[[46, 18], [20, 259]]</td>\n",
       "    </tr>\n",
       "    <tr>\n",
       "      <th>Framework A, First</th>\n",
       "      <td>0.895044</td>\n",
       "      <td>0.833137</td>\n",
       "      <td>0.935252</td>\n",
       "      <td>[[47, 17], [19, 260]]</td>\n",
       "    </tr>\n",
       "  </tbody>\n",
       "</table>\n",
       "</div>"
      ],
      "text/plain": [
       "                    accuracy       auc        f1                     cm\n",
       "data                                                                   \n",
       "Framework B, Max    0.858586  0.858762   0.85567   [[87, 15], [13, 83]]\n",
       "Framework B, First  0.863636  0.862391  0.872038   [[79, 16], [11, 92]]\n",
       "Framework A, Max    0.889213  0.823533  0.931655  [[46, 18], [20, 259]]\n",
       "Framework A, First  0.895044  0.833137  0.935252  [[47, 17], [19, 260]]"
      ]
     },
     "execution_count": 16,
     "metadata": {},
     "output_type": "execute_result"
    }
   ],
   "source": [
    "ada_results = pd.concat(ada_list, axis=1).T.set_index('data')\n",
    "ada_results[['accuracy','auc','f1','cm']]"
   ]
  }
 ],
 "metadata": {
  "anaconda-cloud": {},
  "kernelspec": {
   "display_name": "Python 3",
   "language": "python",
   "name": "python3"
  },
  "language_info": {
   "codemirror_mode": {
    "name": "ipython",
    "version": 3
   },
   "file_extension": ".py",
   "mimetype": "text/x-python",
   "name": "python",
   "nbconvert_exporter": "python",
   "pygments_lexer": "ipython3",
   "version": "3.7.3"
  }
 },
 "nbformat": 4,
 "nbformat_minor": 1
}
