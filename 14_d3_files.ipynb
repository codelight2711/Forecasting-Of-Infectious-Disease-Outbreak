{
 "cells": [
  {
   "cell_type": "markdown",
   "metadata": {},
   "source": [
    "# Create D3 visualization \n",
    "\n",
    "This notebook creates a CSV file for use in a D3 visualization of Zika outbreaks over time. "
   ]
  },
  {
   "cell_type": "code",
   "execution_count": 1,
   "metadata": {
    "collapsed": true
   },
   "outputs": [],
   "source": [
    "import pandas as pd\n",
    "import numpy as np\n",
    "\n",
    "from sklearn.metrics import confusion_matrix\n",
    "\n",
    "%matplotlib inline\n",
    "import matplotlib.pyplot as plt"
   ]
  },
  {
   "cell_type": "markdown",
   "metadata": {
    "collapsed": true
   },
   "source": [
    "## Load AdaBoost model and predict"
   ]
  },
  {
   "cell_type": "code",
   "execution_count": 4,
   "metadata": {
    "collapsed": false
   },
   "outputs": [],
   "source": [
    "fwf = pd.read_pickle('../pkl/10_class_balancing_fwf.pkl')\n",
    "\n",
    "Ytrain = pd.read_pickle('../pkl/13_model_tuning_Ytrain_ada_inner_unbalanced.pkl')\n",
    "Xtrain = pd.read_pickle('../pkl/13_model_tuning_Xtrain_ada_inner_unbalanced.pkl')\n",
    "\n",
    "Ytest = pd.read_pickle('../pkl/13_model_tuning_Ytest_ada_inner_unbalanced.pkl')\n",
    "Xtest = pd.read_pickle('../pkl/13_model_tuning_Xtest_ada_inner_unbalanced.pkl')\n",
    "\n",
    "Ypred_test = pd.read_pickle('../pkl/13_model_tuning_Ypred_test_ada_inner_unbalanced.pkl')\n",
    "Ypred_train = pd.read_pickle('../pkl/13_model_tuning_Ypred_train_ada_inner_unbalanced.pkl')\n",
    "\n",
    "ada = pd.read_pickle('../pkl/13_model_tuning_ada_models_unbalanced.pkl')\n",
    "\n",
    "# feat_cols = [x for x in features.columns if x not in ['date','location']]"
   ]
  },
  {
   "cell_type": "code",
   "execution_count": 173,
   "metadata": {
    "collapsed": false
   },
   "outputs": [
    {
     "name": "stdout",
     "output_type": "stream",
     "text": [
      "(343, 26) (343,)\n",
      "(343, 30)\n"
     ]
    }
   ],
   "source": [
    "print Xtest.shape, Ytest.shape\n",
    "\n",
    "test = pd.merge(Xtest, Ytest.to_frame(), left_index=True, right_index=True)\n",
    "test = pd.merge(test, Ypred_test.rename(columns={'zika_bool':'zika_pred'}), \n",
    "                left_index=True, right_index=True)\n",
    "test = pd.merge(test, fwf[['location','date','cases_first_date','cases_total']], on=['location','date'], how='left')\n",
    "\n",
    "print test.shape"
   ]
  },
  {
   "cell_type": "code",
   "execution_count": 180,
   "metadata": {
    "collapsed": false
   },
   "outputs": [
    {
     "name": "stdout",
     "output_type": "stream",
     "text": [
      "(800, 26) (800,)\n",
      "(800, 30)\n"
     ]
    }
   ],
   "source": [
    "print Xtrain.shape, Ytrain.shape\n",
    "\n",
    "train = pd.merge(Xtrain, Ytrain.to_frame(), left_index=True, right_index=True)\n",
    "train = pd.merge(train, Ypred_train.rename(columns={'zika_bool':'zika_pred'}), \n",
    "                left_index=True, right_index=True)\n",
    "train = pd.merge(train, fwf[['location','date','cases_first_date','cases_total']], on=['location','date'], how='left')\n",
    "\n",
    "print train.shape"
   ]
  },
  {
   "cell_type": "code",
   "execution_count": 181,
   "metadata": {
    "collapsed": false
   },
   "outputs": [],
   "source": [
    "data = pd.concat([test, train]).reset_index(drop=True)"
   ]
  },
  {
   "cell_type": "code",
   "execution_count": 182,
   "metadata": {
    "collapsed": false
   },
   "outputs": [],
   "source": [
    "data['cm_type'] = np.NaN\n",
    "\n",
    "mask0 = (data.zika_bool.astype(bool) & data.zika_pred.astype(bool))\n",
    "data.loc[mask0, 'cm_type'] = 0\n",
    "\n",
    "mask1 = (data.zika_bool.astype(bool) & data.zika_pred.astype(bool).pipe(np.invert))\n",
    "data.loc[mask1, 'cm_type'] = 1\n",
    "\n",
    "mask2 = (data.zika_bool.astype(bool).pipe(np.invert) & data.zika_pred.astype(bool))\n",
    "data.loc[mask2, 'cm_type'] = 3\n",
    "\n",
    "mask3 = (data.zika_bool.astype(bool).pipe(np.invert) & data.zika_pred.astype(bool).pipe(np.invert))\n",
    "data.loc[mask3, 'cm_type'] = 2\n",
    "\n",
    "data['cm_type'] = data.cm_type.astype(np.int)"
   ]
  },
  {
   "cell_type": "markdown",
   "metadata": {},
   "source": [
    "## Calculate confusion matrix"
   ]
  },
  {
   "cell_type": "code",
   "execution_count": 185,
   "metadata": {
    "collapsed": false
   },
   "outputs": [
    {
     "data": {
      "text/plain": [
       "array([[107,  87],\n",
       "       [ 19, 930]])"
      ]
     },
     "execution_count": 185,
     "metadata": {},
     "output_type": "execute_result"
    }
   ],
   "source": [
    "confusion_matrix(data['zika_bool'], data['zika_pred'])"
   ]
  },
  {
   "cell_type": "code",
   "execution_count": 186,
   "metadata": {
    "collapsed": false
   },
   "outputs": [
    {
     "data": {
      "text/plain": [
       "0    930\n",
       "1     19\n",
       "2    107\n",
       "3     87\n",
       "Name: cm_type, dtype: int64"
      ]
     },
     "execution_count": 186,
     "metadata": {},
     "output_type": "execute_result"
    }
   ],
   "source": [
    "data.cm_type.value_counts().sort_index()"
   ]
  },
  {
   "cell_type": "markdown",
   "metadata": {},
   "source": [
    "## Get location coordinates"
   ]
  },
  {
   "cell_type": "code",
   "execution_count": 259,
   "metadata": {
    "collapsed": false
   },
   "outputs": [
    {
     "name": "stdout",
     "output_type": "stream",
     "text": [
      "(103630, 4)\n",
      "(33405, 3)\n"
     ]
    }
   ],
   "source": [
    "location_key_orig = pd.read_pickle('../pkl/00_cleaned_city_names.pkl')\n",
    "location_key = pd.read_pickle('../pkl/01_latitude_longitude_google.pkl')\n",
    "\n",
    "# cases = pd.read_pickle('../pkl/10_class_balancing_framework_a_first.pkl')\n",
    "cases = pd.read_pickle('../pkl/03_infection_data_final.pkl')\n",
    "\n",
    "print cases.shape\n",
    "\n",
    "cases = cases[['date','location','zika_cases']].groupby(['location','date']).sum().reset_index()\n",
    "\n",
    "print cases.shape"
   ]
  },
  {
   "cell_type": "code",
   "execution_count": 260,
   "metadata": {
    "collapsed": false
   },
   "outputs": [
    {
     "data": {
      "text/html": [
       "<div>\n",
       "<table border=\"1\" class=\"dataframe\">\n",
       "  <thead>\n",
       "    <tr style=\"text-align: right;\">\n",
       "      <th></th>\n",
       "      <th>location</th>\n",
       "      <th>date</th>\n",
       "      <th>zika_cases</th>\n",
       "    </tr>\n",
       "  </thead>\n",
       "  <tbody>\n",
       "    <tr>\n",
       "      <th>0</th>\n",
       "      <td>Argentina-Buenos_Aires</td>\n",
       "      <td>2016-03-19</td>\n",
       "      <td>130</td>\n",
       "    </tr>\n",
       "    <tr>\n",
       "      <th>1</th>\n",
       "      <td>Argentina-Buenos_Aires</td>\n",
       "      <td>2016-03-26</td>\n",
       "      <td>148</td>\n",
       "    </tr>\n",
       "    <tr>\n",
       "      <th>2</th>\n",
       "      <td>Argentina-Buenos_Aires</td>\n",
       "      <td>2016-04-02</td>\n",
       "      <td>176</td>\n",
       "    </tr>\n",
       "    <tr>\n",
       "      <th>3</th>\n",
       "      <td>Argentina-Buenos_Aires</td>\n",
       "      <td>2016-04-09</td>\n",
       "      <td>181</td>\n",
       "    </tr>\n",
       "    <tr>\n",
       "      <th>4</th>\n",
       "      <td>Argentina-Buenos_Aires</td>\n",
       "      <td>2016-04-16</td>\n",
       "      <td>186</td>\n",
       "    </tr>\n",
       "  </tbody>\n",
       "</table>\n",
       "</div>"
      ],
      "text/plain": [
       "                 location       date  zika_cases\n",
       "0  Argentina-Buenos_Aires 2016-03-19         130\n",
       "1  Argentina-Buenos_Aires 2016-03-26         148\n",
       "2  Argentina-Buenos_Aires 2016-04-02         176\n",
       "3  Argentina-Buenos_Aires 2016-04-09         181\n",
       "4  Argentina-Buenos_Aires 2016-04-16         186"
      ]
     },
     "execution_count": 260,
     "metadata": {},
     "output_type": "execute_result"
    }
   ],
   "source": [
    "cases.head()"
   ]
  },
  {
   "cell_type": "code",
   "execution_count": 261,
   "metadata": {
    "collapsed": true
   },
   "outputs": [],
   "source": [
    "def join_names(df_row):\n",
    "\n",
    "    subtype = df_row.location_type\n",
    "    \n",
    "    second_str = df_row[subtype]\n",
    "    country_str = df_row.country\n",
    "    \n",
    "    return pd.Series({'country':country_str, 'city':second_str, \n",
    "                      'location':df_row.location})"
   ]
  },
  {
   "cell_type": "code",
   "execution_count": 262,
   "metadata": {
    "collapsed": false
   },
   "outputs": [],
   "source": [
    "location_key_orig = location_key_orig.apply(join_names, axis=1)"
   ]
  },
  {
   "cell_type": "code",
   "execution_count": 326,
   "metadata": {
    "collapsed": false
   },
   "outputs": [
    {
     "name": "stdout",
     "output_type": "stream",
     "text": [
      "(1606, 3) (1606, 3) (33405, 3)\n",
      "(1606, 5)\n",
      "(1271, 9)\n",
      "(24781, 10)\n"
     ]
    }
   ],
   "source": [
    "print location_key_orig.shape, location_key.shape, cases.shape\n",
    "\n",
    "combined = pd.merge(location_key_orig.drop_duplicates(), location_key, on='location', how='left')\n",
    "\n",
    "print combined.shape\n",
    "\n",
    "combined = pd.merge(data[['location','date','zika_bool','zika_pred','cm_type']], \n",
    "                    combined, on='location', how='left')\n",
    "\n",
    "print combined.shape\n",
    "\n",
    "combined = pd.merge(cases, combined.drop(['date'],axis=1), on=['location'], how='right')\n",
    "\n",
    "combined['zika_bool']\n",
    "\n",
    "print combined.shape"
   ]
  },
  {
   "cell_type": "code",
   "execution_count": 327,
   "metadata": {
    "collapsed": false
   },
   "outputs": [
    {
     "data": {
      "text/plain": [
       "location      0\n",
       "date          0\n",
       "zika_cases    0\n",
       "zika_bool     0\n",
       "zika_pred     0\n",
       "cm_type       0\n",
       "city          0\n",
       "country       0\n",
       "latitude      0\n",
       "longitude     0\n",
       "dtype: int64"
      ]
     },
     "execution_count": 327,
     "metadata": {},
     "output_type": "execute_result"
    }
   ],
   "source": [
    "combined.isnull().sum()"
   ]
  },
  {
   "cell_type": "markdown",
   "metadata": {},
   "source": [
    "## Setup scaling of number of cases"
   ]
  },
  {
   "cell_type": "code",
   "execution_count": 328,
   "metadata": {
    "collapsed": false
   },
   "outputs": [
    {
     "data": {
      "text/html": [
       "<div>\n",
       "<table border=\"1\" class=\"dataframe\">\n",
       "  <thead>\n",
       "    <tr style=\"text-align: right;\">\n",
       "      <th></th>\n",
       "      <th>zika_cases</th>\n",
       "    </tr>\n",
       "    <tr>\n",
       "      <th>country</th>\n",
       "      <th></th>\n",
       "    </tr>\n",
       "  </thead>\n",
       "  <tbody>\n",
       "    <tr>\n",
       "      <th>Dominican Republic</th>\n",
       "      <td>2077578</td>\n",
       "    </tr>\n",
       "    <tr>\n",
       "      <th>Colombia</th>\n",
       "      <td>1212238</td>\n",
       "    </tr>\n",
       "    <tr>\n",
       "      <th>Brazil</th>\n",
       "      <td>1030867</td>\n",
       "    </tr>\n",
       "    <tr>\n",
       "      <th>El Salvador</th>\n",
       "      <td>35368</td>\n",
       "    </tr>\n",
       "    <tr>\n",
       "      <th>Argentina</th>\n",
       "      <td>21293</td>\n",
       "    </tr>\n",
       "    <tr>\n",
       "      <th>United States</th>\n",
       "      <td>10668</td>\n",
       "    </tr>\n",
       "    <tr>\n",
       "      <th>Guatemala</th>\n",
       "      <td>5188</td>\n",
       "    </tr>\n",
       "    <tr>\n",
       "      <th>Mexico</th>\n",
       "      <td>4709</td>\n",
       "    </tr>\n",
       "    <tr>\n",
       "      <th>Ecuador</th>\n",
       "      <td>1267</td>\n",
       "    </tr>\n",
       "    <tr>\n",
       "      <th>Haiti</th>\n",
       "      <td>408</td>\n",
       "    </tr>\n",
       "    <tr>\n",
       "      <th>Panama</th>\n",
       "      <td>226</td>\n",
       "    </tr>\n",
       "    <tr>\n",
       "      <th>Nicaragua</th>\n",
       "      <td>219</td>\n",
       "    </tr>\n",
       "  </tbody>\n",
       "</table>\n",
       "</div>"
      ],
      "text/plain": [
       "                    zika_cases\n",
       "country                       \n",
       "Dominican Republic     2077578\n",
       "Colombia               1212238\n",
       "Brazil                 1030867\n",
       "El Salvador              35368\n",
       "Argentina                21293\n",
       "United States            10668\n",
       "Guatemala                 5188\n",
       "Mexico                    4709\n",
       "Ecuador                   1267\n",
       "Haiti                      408\n",
       "Panama                     226\n",
       "Nicaragua                  219"
      ]
     },
     "execution_count": 328,
     "metadata": {},
     "output_type": "execute_result"
    }
   ],
   "source": [
    "(combined[['location','country','date','zika_cases']]\n",
    " .groupby('country')\n",
    " .sum()\n",
    "  .sort_values('zika_cases',ascending=False))\n",
    "\n",
    "# Something is probably wrong w/ scaling of cases in the Dominican Republic and Colombia\n",
    "# as they shouldn't have more than Brazil. For now, scale these values down (see below)"
   ]
  },
  {
   "cell_type": "code",
   "execution_count": 329,
   "metadata": {
    "collapsed": false
   },
   "outputs": [],
   "source": [
    "mask = combined.country.isin(['Dominican Republic', 'Colombia'])\n",
    "combined.loc[mask, 'zika_cases'] /= 10"
   ]
  },
  {
   "cell_type": "code",
   "execution_count": 330,
   "metadata": {
    "collapsed": false,
    "scrolled": false
   },
   "outputs": [
    {
     "data": {
      "text/plain": [
       "0    1000\n",
       "Name: cm_type, dtype: int64"
      ]
     },
     "execution_count": 330,
     "metadata": {},
     "output_type": "execute_result"
    }
   ],
   "source": [
    "tmp = combined.sort_values('zika_cases',ascending=False).head(1000)\n",
    "tmp.cm_type.value_counts()"
   ]
  },
  {
   "cell_type": "code",
   "execution_count": 331,
   "metadata": {
    "collapsed": false
   },
   "outputs": [],
   "source": [
    "combined.rename(columns={'cm_type':'color'},inplace=True)\n",
    "\n",
    "combined['zika_cases'] = (combined.zika_cases * 99./combined.zika_cases.max()) + 1\n",
    "combined['location'] = combined.location.str.replace('-','_')\n",
    "\n",
    "combined = (combined\n",
    " .sort_values('date')\n",
    " \n",
    " .rename(columns={'country':'state','location':'permalink',\n",
    "                  'latitude':'lat', 'longitude':'long',\n",
    "                  'date':'created_at'})\n",
    " [['city','state','permalink','created_at','lat','long','zika_cases','color']]\n",
    " .assign(permalink=combined.location + combined.date.dt.strftime(\"_%Y%m%d\")))"
   ]
  },
  {
   "cell_type": "code",
   "execution_count": 332,
   "metadata": {
    "collapsed": false
   },
   "outputs": [],
   "source": [
    "# mask = (combined.state=='United States') & (combined.color==0)\n",
    "tmp = combined[['city','state','lat','long']].drop_duplicates()"
   ]
  },
  {
   "cell_type": "markdown",
   "metadata": {},
   "source": [
    "## Create CSV file for D3 visualization"
   ]
  },
  {
   "cell_type": "code",
   "execution_count": 334,
   "metadata": {
    "collapsed": false
   },
   "outputs": [],
   "source": [
    "# Remove some problematic data (non-ascii characters need to be cleaned)\n",
    "mask = ((combined.state=='Colombia') & combined.city.str.startswith('Pe')).pipe(np.invert)\n",
    "combined = combined.loc[mask]"
   ]
  },
  {
   "cell_type": "code",
   "execution_count": 335,
   "metadata": {
    "collapsed": false
   },
   "outputs": [
    {
     "name": "stdout",
     "output_type": "stream",
     "text": [
      "city,state,permalink,created_at,lat,long,zika_cases,color\r\n",
      "Morazan,El Salvador,El_Salvador_Morazan_20151128,2015-11-28 00:00:00,13.7682,-88.1291,1.0085365065,0\r\n",
      "San Luis Potosi,Mexico,Mexico_San_Luis_Potosi_20151128,2015-11-28 00:00:00,22.1565,-100.9855,1.0,2\r\n",
      "Coahuila de Zaragoza,Mexico,Mexico_Coahuila_de_Zaragoza_20151128,2015-11-28 00:00:00,27.0587,-101.7068,1.0,0\r\n",
      "Quintana Roo,Mexico,Mexico_Quintana_Roo_20151128,2015-11-28 00:00:00,19.1817,-88.4791,1.0,1\r\n",
      "San Miguel,El Salvador,El_Salvador_San_Miguel_20151128,2015-11-28 00:00:00,13.4793,-88.1779,1.034146026,0\r\n",
      "Guanajuato,Mexico,Mexico_Guanajuato_20151128,2015-11-28 00:00:00,20.917,-101.1617,1.0,3\r\n",
      "Yucatan,Mexico,Mexico_Yucatan_20151128,2015-11-28 00:00:00,20.7099,-89.0943,1.0,0\r\n",
      "Morelos,Mexico,Mexico_Morelos_20151128,2015-11-28 00:00:00,18.6813,-99.1013,1.0,3\r\n",
      "La Libertad,El Salvador,El_Salvador_La_Libertad_20151128,2015-11-28 00:00:00,13.4907,-89.3085,1.13231585074,0\r\n"
     ]
    }
   ],
   "source": [
    "(combined.to_csv('../map/zika_places.csv', \n",
    "            sep=',', \n",
    "            index=False, \n",
    "            date_format='%Y-%m-%d %H:%M:%S'))\n",
    "! head ../map/zika_places.csv"
   ]
  }
 ],
 "metadata": {
  "anaconda-cloud": {},
  "kernelspec": {
   "display_name": "Python [default]",
   "language": "python",
   "name": "python2"
  },
  "language_info": {
   "codemirror_mode": {
    "name": "ipython",
    "version": 2
   },
   "file_extension": ".py",
   "mimetype": "text/x-python",
   "name": "python",
   "nbconvert_exporter": "python",
   "pygments_lexer": "ipython2",
   "version": "2.7.12"
  }
 },
 "nbformat": 4,
 "nbformat_minor": 0
}
