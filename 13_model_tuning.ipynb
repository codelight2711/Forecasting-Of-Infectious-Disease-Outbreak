{
 "cells": [
  {
   "cell_type": "markdown",
   "metadata": {},
   "source": [
    "# Prediction model tuning\n",
    "\n",
    "The prediction models were further tuned on the selected data framework. This included methods for dealing with imbalanced data, such as upsampling the minor class using the `imbalanced-learn` package."
   ]
  },
  {
   "cell_type": "code",
   "execution_count": 1,
   "metadata": {
    "ExecuteTime": {
     "end_time": "2016-08-03T05:47:49.535887",
     "start_time": "2016-08-03T05:47:49.512995"
    },
    "run_control": {
     "marked": true
    }
   },
   "outputs": [],
   "source": [
    "import pandas as pd\n",
    "import numpy as np\n",
    "import dill\n",
    "from sqlalchemy import create_engine\n",
    "from api_keys import POSTGRES_PWD\n",
    "\n",
    "from imblearn.pipeline import make_pipeline\n",
    "from imblearn.ensemble import EasyEnsemble, BalanceCascade\n",
    "from imblearn.over_sampling import ADASYN\n",
    "from imblearn.under_sampling import EditedNearestNeighbours\n",
    "\n",
    "from sklearn.pipeline import FeatureUnion\n",
    "from sklearn.preprocessing import Normalizer\n",
    "from sklearn.cross_validation import train_test_split\n",
    "from sklearn.linear_model import LogisticRegression\n",
    "from sklearn.ensemble import RandomForestClassifier, AdaBoostClassifier, VotingClassifier\n",
    "from sklearn.tree import DecisionTreeClassifier\n",
    "from sklearn.svm import SVC, LinearSVC\n",
    "from sklearn.grid_search import GridSearchCV\n",
    "from sklearn.metrics import confusion_matrix, f1_score, roc_auc_score, roc_curve\n",
    "from sklearn.metrics import auc, accuracy_score, precision_recall_curve\n",
    "from sklearn.metrics import precision_score, recall_score\n",
    "from sklearn.base import BaseEstimator, ClassifierMixin\n",
    "\n",
    "from scipy.stats import mode\n",
    "\n",
    "%matplotlib inline\n",
    "import matplotlib.pyplot as plt\n",
    "\n",
    "import seaborn as sns\n",
    "\n",
    "sns.set_context('talk')\n",
    "sns.set_palette('dark')\n",
    "sns.set_style('white')"
   ]
  },
  {
   "cell_type": "code",
   "execution_count": 2,
   "metadata": {
    "collapsed": true
   },
   "outputs": [],
   "source": [
    "class MYVC(BaseEstimator, ClassifierMixin):\n",
    "    def __init__(self, classifiers=None):\n",
    "        self.classifiers = classifiers\n",
    "\n",
    "    def fit(self, X, y):\n",
    "        for classifier in self.classifiers:\n",
    "            classifier.fit(X, y)\n",
    "\n",
    "    def predict_proba(self, X):\n",
    "        self.predictions_ = list()\n",
    "        for classifier in self.classifiers:\n",
    "            self.predictions_.append(classifier.predict_proba(X))\n",
    "        return np.mean(self.predictions_, axis=0)\n",
    "    \n",
    "    def predict(self, X):\n",
    "        self.predictions_ = list()\n",
    "        for classifier in self.classifiers:\n",
    "            self.predictions_.append(classifier.predict(X))\n",
    "        return mode(self.predictions_, axis=0).mode[0]"
   ]
  },
  {
   "cell_type": "markdown",
   "metadata": {
    "run_control": {
     "marked": true
    }
   },
   "source": [
    "## Combine data\n",
    "\n",
    "First import and normalize the features."
   ]
  },
  {
   "cell_type": "code",
   "execution_count": 3,
   "metadata": {
    "collapsed": true
   },
   "outputs": [],
   "source": [
    "cnx = create_engine('postgresql://mlgill:{}@127.0.0.1:5432/zika'.format(POSTGRES_PWD))"
   ]
  },
  {
   "cell_type": "code",
   "execution_count": 4,
   "metadata": {
    "collapsed": true
   },
   "outputs": [],
   "source": [
    "features = pd.read_sql_query(r\"\"\"select * \n",
    "                                  from sql_11_feature_engineering_weather as w \n",
    "                                  left join sql_11_feature_engineering_population as p \n",
    "                                  on w.location = p.location \n",
    "                                  left join sql_11_feature_engineering_airport_distance as a \n",
    "                                  on w.location = a.location \n",
    "                                  left join sql_11_feature_engineering_mosquito_distance as m \n",
    "                                  on w.location = m.location \n",
    "                                  left join sql_11_feature_engineering_location as l \n",
    "                                  on w.location = l.location \n",
    "                                  left join sql_11_feature_engineering_gdp as g \n",
    "                                  on l.country = g.country;\n",
    "                               \"\"\", cnx)\n",
    "\n",
    "features = features.drop(['index', 'country'], axis=1).T.groupby(level=0).first().T.dropna()\n",
    "features['date'] = pd.to_datetime(features['date'])\n",
    "\n",
    "for col in features.columns:\n",
    "    if col not in ['date', 'location']:\n",
    "        features[col] = features[col].astype(np.float)"
   ]
  },
  {
   "cell_type": "code",
   "execution_count": 5,
   "metadata": {
    "ExecuteTime": {
     "end_time": "2016-08-03T05:47:52.566577",
     "start_time": "2016-08-03T05:47:51.811944"
    },
    "run_control": {
     "marked": true
    }
   },
   "outputs": [],
   "source": [
    "feat_cols = [x for x in features.columns if x not in ['date','location']]\n",
    "features[feat_cols] = Normalizer().fit_transform(features[feat_cols])"
   ]
  },
  {
   "cell_type": "markdown",
   "metadata": {
    "run_control": {
     "marked": true
    }
   },
   "source": [
    "Import the predictors."
   ]
  },
  {
   "cell_type": "code",
   "execution_count": 6,
   "metadata": {
    "ExecuteTime": {
     "end_time": "2016-08-03T05:47:52.593220",
     "start_time": "2016-08-03T05:47:52.569449"
    },
    "collapsed": true,
    "run_control": {
     "marked": true
    }
   },
   "outputs": [],
   "source": [
    "# framework_a_first = pd.read_pickle('../pkl/10_class_balancing_framework_a_first.pkl')\n",
    "framework_a_first = pd.read_pickle('../pkl/10_class_balancing_fwf.pkl')"
   ]
  },
  {
   "cell_type": "code",
   "execution_count": 7,
   "metadata": {
    "ExecuteTime": {
     "end_time": "2016-08-03T05:47:57.658400",
     "start_time": "2016-08-03T05:47:57.590070"
    },
    "run_control": {
     "marked": true
    }
   },
   "outputs": [
    {
     "name": "stdout",
     "output_type": "stream",
     "text": [
      "(1605, 5) 0\n",
      "(1142, 29) 0\n",
      "1    948\n",
      "0    194\n",
      "Name: zika_bool, dtype: int64\n"
     ]
    }
   ],
   "source": [
    "print framework_a_first.shape, framework_a_first.isnull().sum().max()\n",
    "\n",
    "fwd_a_first = pd.merge(framework_a_first, \n",
    "                       features, \n",
    "                       on=['date','location'], how='left').dropna()\n",
    "\n",
    "print fwd_a_first.shape, fwd_a_first.isnull().sum().max()\n",
    "\n",
    "print fwd_a_first.zika_bool.value_counts()"
   ]
  },
  {
   "cell_type": "markdown",
   "metadata": {
    "run_control": {
     "marked": true
    }
   },
   "source": [
    "Split the data into train and test portions."
   ]
  },
  {
   "cell_type": "code",
   "execution_count": 58,
   "metadata": {
    "ExecuteTime": {
     "end_time": "2016-08-03T05:47:58.756110",
     "start_time": "2016-08-03T05:47:58.735033"
    },
    "run_control": {
     "marked": true
    }
   },
   "outputs": [],
   "source": [
    "train, test = train_test_split(fwd_a_first, test_size=0.30, random_state=42)\n",
    "\n",
    "adasyn_3 = ADASYN(k=3)\n",
    "X_resampled_3, Y_resampled_3 = adasyn_3.fit_sample(train[feat_cols], train['zika_bool'])\n",
    "\n",
    "adasyn_5 = ADASYN(k=5)\n",
    "X_resampled_5, Y_resampled_5 = adasyn_5.fit_sample(train[feat_cols], train['zika_bool'])\n",
    "\n",
    "adasyn_7 = ADASYN(k=7)\n",
    "X_resampled_7, Y_resampled_7 = adasyn_7.fit_sample(train[feat_cols], train['zika_bool'])\n",
    "\n",
    "enn_3 = EditedNearestNeighbours(size_ngh=3)\n",
    "X_dwnresampled_3, Y_dwnresampled_3 = enn_3.fit_sample(train[feat_cols], train['zika_bool'])\n",
    "\n",
    "enn_5 = EditedNearestNeighbours(size_ngh=5)\n",
    "X_dwnresampled_5, Y_dwnresampled_5 = enn_5.fit_sample(train[feat_cols], train['zika_bool'])\n",
    "\n",
    "enn_7 = EditedNearestNeighbours(size_ngh=7)\n",
    "X_dwnresampled_7, Y_dwnresampled_7 = enn_7.fit_sample(train[feat_cols], train['zika_bool'])\n",
    "\n",
    "Ytest = test['zika_bool']\n",
    "Xtest = test[feat_cols+['date','location']]"
   ]
  },
  {
   "cell_type": "code",
   "execution_count": 59,
   "metadata": {
    "collapsed": true
   },
   "outputs": [],
   "source": [
    "# data_names = ['unbalanced','upsampled_3','upsampled_5','upsampled_7',\n",
    "#              'dwnsampled_3', 'dwnsampled_5', 'dwnsampled_7']\n",
    "# xdata_list = [train[feat_cols], X_resampled_3, X_resampled_5, X_resampled_7, \n",
    "#               X_dwnresampled_3, X_dwnresampled_5, X_dwnresampled_7]\n",
    "# ydata_list = [train['zika_bool'], Y_resampled_3, Y_resampled_5, Y_resampled_7, \n",
    "#               Y_dwnresampled_3, Y_dwnresampled_5, Y_dwnresampled_7]\n",
    "\n",
    "# data_names = ['unbalanced','upsampled_3','dwnsampled_3']\n",
    "# xdata_list = [train[feat_cols], X_resampled_3,X_dwnresampled_3]\n",
    "# ydata_list = [train['zika_bool'], Y_resampled_3, Y_dwnresampled_3]\n",
    "\n",
    "data_names = ['unbalanced','upsampled_3','upsampled_5',\n",
    "             'dwnsampled_3', 'dwnsampled_5']\n",
    "xdata_list = [train[feat_cols+['date','location']], X_resampled_3, X_resampled_5, \n",
    "              X_dwnresampled_3, X_dwnresampled_5]\n",
    "ydata_list = [train['zika_bool'], Y_resampled_3, Y_resampled_5,\n",
    "              Y_dwnresampled_3, Y_dwnresampled_5]"
   ]
  },
  {
   "cell_type": "code",
   "execution_count": 60,
   "metadata": {
    "collapsed": true
   },
   "outputs": [],
   "source": [
    "def error_calc(model, label, Ytest=Ytest):\n",
    "    \n",
    "    Ypred = model.predict(test[feat_cols])\n",
    "    \n",
    "    cm = confusion_matrix(Ytest, Ypred)\n",
    "    f1 = f1_score(Ytest, Ypred)\n",
    "    accuracy = accuracy_score(Ytest, Ypred)\n",
    "    precision = precision_score(Ytest, Ypred)\n",
    "    recall = recall_score(Ytest, Ypred)\n",
    "\n",
    "    Yplot = model.predict_proba(Xtest[feat_cols])[:,1]\n",
    "\n",
    "    xdata, ydata, _ = roc_curve(Ytest, Yplot)\n",
    "    auc = roc_auc_score(Ytest, Yplot)\n",
    "\n",
    "    df = pd.Series({'data':label,\n",
    "                    'cm': cm, 'f1': f1, \n",
    "                    'accuracy':accuracy, 'auc':auc,\n",
    "                    'precision':precision, 'recall':recall,\n",
    "                    'roc_x': xdata, 'roc_y': ydata, 'model':model})\n",
    "    return df"
   ]
  },
  {
   "cell_type": "markdown",
   "metadata": {
    "run_control": {
     "marked": true
    }
   },
   "source": [
    "## Logistic regression"
   ]
  },
  {
   "cell_type": "code",
   "execution_count": 24,
   "metadata": {
    "ExecuteTime": {
     "end_time": "2016-08-01T08:47:44.496437",
     "start_time": "2016-08-01T08:47:15.712415"
    },
    "run_control": {
     "marked": true
    }
   },
   "outputs": [
    {
     "name": "stdout",
     "output_type": "stream",
     "text": [
      "unbalanced\n",
      "upsampled_3\n",
      "upsampled_5\n",
      "dwnsampled_3\n",
      "dwnsampled_5\n"
     ]
    }
   ],
   "source": [
    "logistic_list = list()\n",
    "\n",
    "param_grid = [{'C':[0.001,0.01,0.1,1,10,100,1000], 'penalty':['l1'], 'solver':['liblinear']},\n",
    "              {'C':[0.001,0.01,0.1,1,10,100,1000], 'penalty':['l2']}]\n",
    "        \n",
    "MOD = LogisticRegression()        \n",
    "CV = GridSearchCV(MOD, param_grid)\n",
    "\n",
    "for Xtrain,Ytrain,name in zip(xdata_list, ydata_list, data_names):\n",
    "    print name\n",
    "    CV.fit(Xtrain, Ytrain)\n",
    "    \n",
    "    df = error_calc(CV, name)\n",
    "    \n",
    "    logistic_list.append(df)"
   ]
  },
  {
   "cell_type": "code",
   "execution_count": 25,
   "metadata": {
    "ExecuteTime": {
     "end_time": "2016-08-01T08:47:44.544137",
     "start_time": "2016-08-01T08:47:44.498780"
    },
    "run_control": {
     "marked": true
    }
   },
   "outputs": [
    {
     "data": {
      "text/html": [
       "<div>\n",
       "<table border=\"1\" class=\"dataframe\">\n",
       "  <thead>\n",
       "    <tr style=\"text-align: right;\">\n",
       "      <th></th>\n",
       "      <th>accuracy</th>\n",
       "      <th>f1</th>\n",
       "      <th>recall</th>\n",
       "      <th>precision</th>\n",
       "      <th>auc</th>\n",
       "      <th>cm</th>\n",
       "    </tr>\n",
       "    <tr>\n",
       "      <th>data</th>\n",
       "      <th></th>\n",
       "      <th></th>\n",
       "      <th></th>\n",
       "      <th></th>\n",
       "      <th></th>\n",
       "      <th></th>\n",
       "    </tr>\n",
       "  </thead>\n",
       "  <tbody>\n",
       "    <tr>\n",
       "      <th>unbalanced</th>\n",
       "      <td>0.87172</td>\n",
       "      <td>0.92517</td>\n",
       "      <td>0.97491</td>\n",
       "      <td>0.880259</td>\n",
       "      <td>0.839018</td>\n",
       "      <td>[[27, 37], [7, 272]]</td>\n",
       "    </tr>\n",
       "    <tr>\n",
       "      <th>upsampled_3</th>\n",
       "      <td>0.819242</td>\n",
       "      <td>0.881679</td>\n",
       "      <td>0.827957</td>\n",
       "      <td>0.942857</td>\n",
       "      <td>0.854867</td>\n",
       "      <td>[[50, 14], [48, 231]]</td>\n",
       "    </tr>\n",
       "    <tr>\n",
       "      <th>upsampled_5</th>\n",
       "      <td>0.822157</td>\n",
       "      <td>0.88381</td>\n",
       "      <td>0.831541</td>\n",
       "      <td>0.943089</td>\n",
       "      <td>0.858843</td>\n",
       "      <td>[[50, 14], [47, 232]]</td>\n",
       "    </tr>\n",
       "    <tr>\n",
       "      <th>dwnsampled_3</th>\n",
       "      <td>0.868805</td>\n",
       "      <td>0.921739</td>\n",
       "      <td>0.949821</td>\n",
       "      <td>0.89527</td>\n",
       "      <td>0.824401</td>\n",
       "      <td>[[33, 31], [14, 265]]</td>\n",
       "    </tr>\n",
       "    <tr>\n",
       "      <th>dwnsampled_5</th>\n",
       "      <td>0.868805</td>\n",
       "      <td>0.921466</td>\n",
       "      <td>0.946237</td>\n",
       "      <td>0.897959</td>\n",
       "      <td>0.832185</td>\n",
       "      <td>[[34, 30], [15, 264]]</td>\n",
       "    </tr>\n",
       "  </tbody>\n",
       "</table>\n",
       "</div>"
      ],
      "text/plain": [
       "              accuracy        f1    recall precision       auc  \\\n",
       "data                                                             \n",
       "unbalanced     0.87172   0.92517   0.97491  0.880259  0.839018   \n",
       "upsampled_3   0.819242  0.881679  0.827957  0.942857  0.854867   \n",
       "upsampled_5   0.822157   0.88381  0.831541  0.943089  0.858843   \n",
       "dwnsampled_3  0.868805  0.921739  0.949821   0.89527  0.824401   \n",
       "dwnsampled_5  0.868805  0.921466  0.946237  0.897959  0.832185   \n",
       "\n",
       "                                 cm  \n",
       "data                                 \n",
       "unbalanced     [[27, 37], [7, 272]]  \n",
       "upsampled_3   [[50, 14], [48, 231]]  \n",
       "upsampled_5   [[50, 14], [47, 232]]  \n",
       "dwnsampled_3  [[33, 31], [14, 265]]  \n",
       "dwnsampled_5  [[34, 30], [15, 264]]  "
      ]
     },
     "execution_count": 25,
     "metadata": {},
     "output_type": "execute_result"
    }
   ],
   "source": [
    "logistic_results = (pd.concat(logistic_list, axis=1).T\n",
    "                    .set_index('data'))\n",
    "logistic_results[['accuracy','f1','recall','precision','auc', 'cm']]"
   ]
  },
  {
   "cell_type": "code",
   "execution_count": 64,
   "metadata": {},
   "outputs": [],
   "source": [
    "tmp = logistic_results.loc['unbalanced','model']"
   ]
  },
  {
   "cell_type": "code",
   "execution_count": 66,
   "metadata": {},
   "outputs": [],
   "source": [
    "a = tmp.best_estimator_"
   ]
  },
  {
   "cell_type": "code",
   "execution_count": 81,
   "metadata": {},
   "outputs": [
    {
     "data": {
      "text/plain": [
       "array([['max_temp1', 'max_temp2', 'mean_temp1', 'min_temp',\n",
       "        'precipitation2', 'precipitation1', 'precipitation',\n",
       "        'density_per_km', 'gdp', 'gdp_ppp', 'wind', 'dew_point1',\n",
       "        'mean_temp', 'airport_dist_any', 'max_temp', 'airport_dist_large',\n",
       "        'wind2', 'min_temp1', 'min_temp2', 'mosquito_dist', 'dew_point2',\n",
       "        'mean_temp2', 'wind1', 'dew_point']], \n",
       "      dtype='|S18')"
      ]
     },
     "execution_count": 81,
     "metadata": {},
     "output_type": "execute_result"
    }
   ],
   "source": [
    "tmp2 = np.array(feat_cols)\n",
    "tmp2[np.abs(a.coef_).argsort()]"
   ]
  },
  {
   "cell_type": "code",
   "execution_count": 11,
   "metadata": {
    "ExecuteTime": {
     "end_time": "2016-08-01T08:47:45.051738",
     "start_time": "2016-08-01T08:47:44.547272"
    },
    "run_control": {
     "marked": true
    }
   },
   "outputs": [
    {
     "data": {
      "image/png": "[encoded data removed]",
      "text/plain": [
       "<matplotlib.figure.Figure at 0x7f51a52c1210>"
      ]
     },
     "metadata": {},
     "output_type": "display_data"
    }
   ],
   "source": [
    "f = plt.figure()\n",
    "f.set_size_inches(7,5)\n",
    "ax = plt.axes()\n",
    "\n",
    "colors = sns.color_palette()\n",
    "\n",
    "for idx,dat in logistic_results.iterrows():\n",
    "    label = ' '.join(idx)\n",
    "    xdata = dat.roc_x\n",
    "    ydata = dat.roc_y\n",
    "    ax.plot(xdata, ydata, label=label)\n",
    "\n",
    "ax.legend(loc=0)\n",
    "\n",
    "_ = ax.set(xlabel='False Positive Rate', \n",
    "       ylabel='True Positive Rate',\n",
    "       title='ROC Curve')\n",
    "\n",
    "plt.tight_layout()"
   ]
  },
  {
   "cell_type": "markdown",
   "metadata": {
    "run_control": {
     "marked": true
    }
   },
   "source": [
    "## Random Forest Classifier"
   ]
  },
  {
   "cell_type": "code",
   "execution_count": 15,
   "metadata": {
    "ExecuteTime": {
     "end_time": "2016-08-01T14:31:29.204955",
     "start_time": "2016-08-01T14:31:22.408543"
    },
    "run_control": {
     "marked": true
    },
    "scrolled": true
   },
   "outputs": [
    {
     "name": "stdout",
     "output_type": "stream",
     "text": [
      "unbalanced\n",
      "upsampled_3\n",
      "upsampled_5\n",
      "dwnsampled_3\n",
      "dwnsampled_5\n"
     ]
    }
   ],
   "source": [
    "random_forest_list = list()\n",
    "\n",
    "param_grid = {'max_depth':range(5,10), 'n_estimators':[300,400,500], \n",
    "              'class_weight':['balanced','balanced_subsample']}\n",
    "        \n",
    "MOD = RandomForestClassifier(n_jobs=-1,random_state=42, oob_score=True)\n",
    "CV = GridSearchCV(MOD, param_grid)\n",
    "\n",
    "for Xtrain,Ytrain,name in zip(xdata_list, ydata_list, data_names):\n",
    "    print name\n",
    "    CV.fit(Xtrain, Ytrain)\n",
    "    \n",
    "    df = error_calc(CV, name)\n",
    "    \n",
    "    random_forest_list.append(df)"
   ]
  },
  {
   "cell_type": "code",
   "execution_count": 16,
   "metadata": {
    "ExecuteTime": {
     "end_time": "2016-08-01T14:31:35.838790",
     "start_time": "2016-08-01T14:31:35.798689"
    },
    "run_control": {
     "marked": true
    }
   },
   "outputs": [
    {
     "data": {
      "text/html": [
       "<div>\n",
       "<table border=\"1\" class=\"dataframe\">\n",
       "  <thead>\n",
       "    <tr style=\"text-align: right;\">\n",
       "      <th></th>\n",
       "      <th>accuracy</th>\n",
       "      <th>f1</th>\n",
       "      <th>recall</th>\n",
       "      <th>precision</th>\n",
       "      <th>auc</th>\n",
       "      <th>cm</th>\n",
       "    </tr>\n",
       "    <tr>\n",
       "      <th>data</th>\n",
       "      <th></th>\n",
       "      <th></th>\n",
       "      <th></th>\n",
       "      <th></th>\n",
       "      <th></th>\n",
       "      <th></th>\n",
       "    </tr>\n",
       "  </thead>\n",
       "  <tbody>\n",
       "    <tr>\n",
       "      <th>unbalanced</th>\n",
       "      <td>0.900875</td>\n",
       "      <td>0.940351</td>\n",
       "      <td>0.960573</td>\n",
       "      <td>0.920962</td>\n",
       "      <td>0.890121</td>\n",
       "      <td>[[41, 23], [11, 268]]</td>\n",
       "    </tr>\n",
       "    <tr>\n",
       "      <th>upsampled_3</th>\n",
       "      <td>0.895044</td>\n",
       "      <td>0.935714</td>\n",
       "      <td>0.939068</td>\n",
       "      <td>0.932384</td>\n",
       "      <td>0.884381</td>\n",
       "      <td>[[45, 19], [17, 262]]</td>\n",
       "    </tr>\n",
       "    <tr>\n",
       "      <th>upsampled_5</th>\n",
       "      <td>0.889213</td>\n",
       "      <td>0.9319</td>\n",
       "      <td>0.9319</td>\n",
       "      <td>0.9319</td>\n",
       "      <td>0.885193</td>\n",
       "      <td>[[45, 19], [19, 260]]</td>\n",
       "    </tr>\n",
       "    <tr>\n",
       "      <th>dwnsampled_3</th>\n",
       "      <td>0.883382</td>\n",
       "      <td>0.928315</td>\n",
       "      <td>0.928315</td>\n",
       "      <td>0.928315</td>\n",
       "      <td>0.883149</td>\n",
       "      <td>[[44, 20], [20, 259]]</td>\n",
       "    </tr>\n",
       "    <tr>\n",
       "      <th>dwnsampled_5</th>\n",
       "      <td>0.865889</td>\n",
       "      <td>0.916058</td>\n",
       "      <td>0.899642</td>\n",
       "      <td>0.933086</td>\n",
       "      <td>0.87654</td>\n",
       "      <td>[[46, 18], [28, 251]]</td>\n",
       "    </tr>\n",
       "  </tbody>\n",
       "</table>\n",
       "</div>"
      ],
      "text/plain": [
       "              accuracy        f1    recall precision       auc  \\\n",
       "data                                                             \n",
       "unbalanced    0.900875  0.940351  0.960573  0.920962  0.890121   \n",
       "upsampled_3   0.895044  0.935714  0.939068  0.932384  0.884381   \n",
       "upsampled_5   0.889213    0.9319    0.9319    0.9319  0.885193   \n",
       "dwnsampled_3  0.883382  0.928315  0.928315  0.928315  0.883149   \n",
       "dwnsampled_5  0.865889  0.916058  0.899642  0.933086   0.87654   \n",
       "\n",
       "                                 cm  \n",
       "data                                 \n",
       "unbalanced    [[41, 23], [11, 268]]  \n",
       "upsampled_3   [[45, 19], [17, 262]]  \n",
       "upsampled_5   [[45, 19], [19, 260]]  \n",
       "dwnsampled_3  [[44, 20], [20, 259]]  \n",
       "dwnsampled_5  [[46, 18], [28, 251]]  "
      ]
     },
     "execution_count": 16,
     "metadata": {},
     "output_type": "execute_result"
    }
   ],
   "source": [
    "random_forest_results = (pd.concat(random_forest_list, axis=1).T\n",
    "                         .set_index('data'))\n",
    "random_forest_results[['accuracy','f1','recall','precision','auc', 'cm']]"
   ]
  },
  {
   "cell_type": "code",
   "execution_count": 17,
   "metadata": {
    "ExecuteTime": {
     "end_time": "2016-08-01T14:32:05.630903",
     "start_time": "2016-08-01T14:32:05.253377"
    },
    "run_control": {
     "marked": true
    }
   },
   "outputs": [
    {
     "data": {
      "image/png": "[encoded data removed]",
      "text/plain": [
       "<matplotlib.figure.Figure at 0x7f51a6879910>"
      ]
     },
     "metadata": {},
     "output_type": "display_data"
    }
   ],
   "source": [
    "f = plt.figure()\n",
    "f.set_size_inches(7,5)\n",
    "ax = plt.axes()\n",
    "\n",
    "colors = sns.color_palette()\n",
    "\n",
    "for idx,dat in random_forest_results.iterrows():\n",
    "    label = idx\n",
    "    xdata = dat.roc_x\n",
    "    ydata = dat.roc_y\n",
    "    ax.plot(xdata, ydata, label=label)\n",
    "\n",
    "ax.legend(loc=0)\n",
    "\n",
    "_ = ax.set(xlabel='False Positive Rate', \n",
    "       ylabel='True Positive Rate',\n",
    "       title='ROC Curve')\n",
    "\n",
    "plt.tight_layout()"
   ]
  },
  {
   "cell_type": "markdown",
   "metadata": {
    "run_control": {
     "marked": true
    }
   },
   "source": [
    "## AdaBoost classification"
   ]
  },
  {
   "cell_type": "code",
   "execution_count": 61,
   "metadata": {
    "ExecuteTime": {
     "end_time": "2016-08-01T14:28:33.365724",
     "start_time": "2016-08-01T14:28:20.580656"
    },
    "run_control": {
     "marked": true
    }
   },
   "outputs": [
    {
     "name": "stdout",
     "output_type": "stream",
     "text": [
      "unbalanced\n",
      "[[ 35  29]\n",
      " [  5 274]]\n",
      "upsampled_3\n",
      "upsampled_5\n",
      "dwnsampled_3\n",
      "dwnsampled_5\n"
     ]
    }
   ],
   "source": [
    "ada_list = list()\n",
    "\n",
    "param_grid = {'learning_rate':[0.1, 0.3, 0.5, 0.7, 0.9, 1.0], \n",
    "              'n_estimators':[300,400,500]}\n",
    "\n",
    "# param_grid = {'learning_rate':[0.1], \n",
    "#               'n_estimators':[500]}\n",
    "        \n",
    "tree = DecisionTreeClassifier(criterion='entropy', max_depth=1)\n",
    "MOD = AdaBoostClassifier(base_estimator=tree,\n",
    "                            random_state=42)\n",
    "CV = GridSearchCV(MOD, param_grid)\n",
    "\n",
    "for Xtrain,Ytrain,name in zip(xdata_list, ydata_list, data_names):\n",
    "    print name\n",
    "    if name == 'unbalanced':\n",
    "        \n",
    "        #Xtrain = pd.DataFrame(Xtrain,columns=feat_cols)\n",
    "        Xtrain.to_pickle('../pkl/13_model_tuning_Xtrain_ada_inner_{}.pkl'.format(name))\n",
    "\n",
    "        #Ytrain = pd.DataFrame(Ytrain,columns=['zika_bool'])\n",
    "        Ytrain.to_pickle('../pkl/13_model_tuning_Ytrain_ada_inner_{}.pkl'.format(name))\n",
    "\n",
    "        Xtest.to_pickle('../pkl/13_model_tuning_Xtest_ada_inner_{}.pkl'.format(name))\n",
    "        Ytest.to_pickle('../pkl/13_model_tuning_Ytest_ada_inner_{}.pkl'.format(name))\n",
    "\n",
    "        CV.fit(Xtrain[feat_cols], Ytrain)\n",
    "\n",
    "        with open('../pkl/13_model_tuning_ada_models_inner_{}.pkl'.format(name),'w') as fh:\n",
    "            dill.dump(CV,fh)\n",
    "\n",
    "        Ypred_test = pd.DataFrame(CV.predict(Xtest[feat_cols]), \n",
    "                                  columns=['zika_bool'],\n",
    "                                  index=Xtest.index)\n",
    "        \n",
    "        Ypred_train = pd.DataFrame(CV.predict(Xtrain[feat_cols]), \n",
    "                                   columns=['zika_bool'],\n",
    "                                   index=Xtrain.index)\n",
    "\n",
    "        Ypred_test.to_pickle('../pkl/13_model_tuning_Ypred_test_ada_inner_{}.pkl'.format(name))\n",
    "        Ypred_train.to_pickle('../pkl/13_model_tuning_Ypred_train_ada_inner_{}.pkl'.format(name))\n",
    "\n",
    "        print confusion_matrix(Ytest, Ypred_test)\n",
    "\n",
    "        df = error_calc(CV, name)\n",
    "\n",
    "        ada_list.append(df)\n",
    "\n"
   ]
  },
  {
   "cell_type": "code",
   "execution_count": 13,
   "metadata": {
    "ExecuteTime": {
     "end_time": "2016-08-01T14:28:52.664022",
     "start_time": "2016-08-01T14:28:52.625820"
    },
    "run_control": {
     "marked": true
    }
   },
   "outputs": [
    {
     "data": {
      "text/html": [
       "<div>\n",
       "<table border=\"1\" class=\"dataframe\">\n",
       "  <thead>\n",
       "    <tr style=\"text-align: right;\">\n",
       "      <th></th>\n",
       "      <th>accuracy</th>\n",
       "      <th>f1</th>\n",
       "      <th>recall</th>\n",
       "      <th>precision</th>\n",
       "      <th>auc</th>\n",
       "      <th>cm</th>\n",
       "    </tr>\n",
       "    <tr>\n",
       "      <th>data</th>\n",
       "      <th></th>\n",
       "      <th></th>\n",
       "      <th></th>\n",
       "      <th></th>\n",
       "      <th></th>\n",
       "      <th></th>\n",
       "    </tr>\n",
       "  </thead>\n",
       "  <tbody>\n",
       "    <tr>\n",
       "      <th>unbalanced</th>\n",
       "      <td>0.900875</td>\n",
       "      <td>0.941581</td>\n",
       "      <td>0.982079</td>\n",
       "      <td>0.90429</td>\n",
       "      <td>0.885333</td>\n",
       "      <td>[[35, 29], [5, 274]]</td>\n",
       "    </tr>\n",
       "    <tr>\n",
       "      <th>upsampled_3</th>\n",
       "      <td>0.892128</td>\n",
       "      <td>0.934281</td>\n",
       "      <td>0.942652</td>\n",
       "      <td>0.926056</td>\n",
       "      <td>0.883513</td>\n",
       "      <td>[[43, 21], [16, 263]]</td>\n",
       "    </tr>\n",
       "    <tr>\n",
       "      <th>upsampled_5</th>\n",
       "      <td>0.889213</td>\n",
       "      <td>0.932143</td>\n",
       "      <td>0.935484</td>\n",
       "      <td>0.928826</td>\n",
       "      <td>0.879984</td>\n",
       "      <td>[[44, 20], [18, 261]]</td>\n",
       "    </tr>\n",
       "    <tr>\n",
       "      <th>dwnsampled_3</th>\n",
       "      <td>0.87172</td>\n",
       "      <td>0.920578</td>\n",
       "      <td>0.913978</td>\n",
       "      <td>0.927273</td>\n",
       "      <td>0.874272</td>\n",
       "      <td>[[44, 20], [24, 255]]</td>\n",
       "    </tr>\n",
       "    <tr>\n",
       "      <th>dwnsampled_5</th>\n",
       "      <td>0.851312</td>\n",
       "      <td>0.90573</td>\n",
       "      <td>0.878136</td>\n",
       "      <td>0.935115</td>\n",
       "      <td>0.878248</td>\n",
       "      <td>[[47, 17], [34, 245]]</td>\n",
       "    </tr>\n",
       "  </tbody>\n",
       "</table>\n",
       "</div>"
      ],
      "text/plain": [
       "              accuracy        f1    recall precision       auc  \\\n",
       "data                                                             \n",
       "unbalanced    0.900875  0.941581  0.982079   0.90429  0.885333   \n",
       "upsampled_3   0.892128  0.934281  0.942652  0.926056  0.883513   \n",
       "upsampled_5   0.889213  0.932143  0.935484  0.928826  0.879984   \n",
       "dwnsampled_3   0.87172  0.920578  0.913978  0.927273  0.874272   \n",
       "dwnsampled_5  0.851312   0.90573  0.878136  0.935115  0.878248   \n",
       "\n",
       "                                 cm  \n",
       "data                                 \n",
       "unbalanced     [[35, 29], [5, 274]]  \n",
       "upsampled_3   [[43, 21], [16, 263]]  \n",
       "upsampled_5   [[44, 20], [18, 261]]  \n",
       "dwnsampled_3  [[44, 20], [24, 255]]  \n",
       "dwnsampled_5  [[47, 17], [34, 245]]  "
      ]
     },
     "execution_count": 13,
     "metadata": {},
     "output_type": "execute_result"
    }
   ],
   "source": [
    "ada_results = pd.concat(ada_list, axis=1).T.set_index('data')\n",
    "ada_results[['accuracy','f1','recall','precision','auc', 'cm']]"
   ]
  },
  {
   "cell_type": "code",
   "execution_count": 14,
   "metadata": {
    "ExecuteTime": {
     "end_time": "2016-08-01T14:29:05.540976",
     "start_time": "2016-08-01T14:29:05.115925"
    },
    "run_control": {
     "marked": true
    }
   },
   "outputs": [
    {
     "data": {
      "image/png": "[encoded data removed]",
      "text/plain": [
       "<matplotlib.figure.Figure at 0x7f51a6725910>"
      ]
     },
     "metadata": {},
     "output_type": "display_data"
    }
   ],
   "source": [
    "f = plt.figure()\n",
    "f.set_size_inches(7,5)\n",
    "ax = plt.axes()\n",
    "\n",
    "colors = sns.color_palette()\n",
    "\n",
    "for idx,dat in ada_results.iterrows():\n",
    "    label = idx\n",
    "    xdata = dat.roc_x\n",
    "    ydata = dat.roc_y\n",
    "    ax.plot(xdata, ydata, label=label)\n",
    "\n",
    "ax.legend(loc=0)\n",
    "\n",
    "_ = ax.set(xlabel='False Positive Rate', \n",
    "       ylabel='True Positive Rate',\n",
    "       title='ROC Curve')\n",
    "\n",
    "plt.tight_layout()"
   ]
  },
  {
   "cell_type": "code",
   "execution_count": 23,
   "metadata": {},
   "outputs": [
    {
     "name": "stdout",
     "output_type": "stream",
     "text": [
      "unbalanced\n",
      "upsampled_3\n",
      "upsampled_5\n",
      "dwnsampled_3\n",
      "dwnsampled_5\n"
     ]
    }
   ],
   "source": [
    "logistic_results.to_pickle('../pkl/13_model_tuning_logistic_models_df.pkl')\n",
    "\n",
    "for idx,row in logistic_results.iterrows():\n",
    "    print idx\n",
    "    with open('../pkl/13_model_tuning_logistic_{}.pkl'.format(idx),'w') as fh:\n",
    "        dill.dump(row.model,fh)"
   ]
  },
  {
   "cell_type": "code",
   "execution_count": 24,
   "metadata": {},
   "outputs": [
    {
     "name": "stdout",
     "output_type": "stream",
     "text": [
      "unbalanced\n",
      "upsampled_3\n",
      "upsampled_5\n",
      "dwnsampled_3\n",
      "dwnsampled_5\n"
     ]
    }
   ],
   "source": [
    "random_forest_results.to_pickle('../pkl/13_model_tuning_random_forest_models_df.pkl')\n",
    "\n",
    "for idx,row in random_forest_results.iterrows():\n",
    "    print idx\n",
    "    with open('../pkl/13_model_tuning_random_forest_{}.pkl'.format(idx),'w') as fh:\n",
    "        dill.dump(row.model,fh)"
   ]
  },
  {
   "cell_type": "code",
   "execution_count": 25,
   "metadata": {},
   "outputs": [
    {
     "name": "stdout",
     "output_type": "stream",
     "text": [
      "unbalanced\n",
      "upsampled_3\n",
      "upsampled_5\n",
      "dwnsampled_3\n",
      "dwnsampled_5\n"
     ]
    }
   ],
   "source": [
    "ada_results.to_pickle('../pkl/13_model_tuning_ada_models_df.pkl')\n",
    "\n",
    "for idx,row in ada_results.iterrows():\n",
    "    print idx\n",
    "    with open('../pkl/13_model_tuning_ada_models_{}.pkl'.format(idx),'w') as fh:\n",
    "        dill.dump(row.model,fh)"
   ]
  }
 ],
 "metadata": {
  "anaconda-cloud": {},
  "kernelspec": {
   "display_name": "Python 3",
   "language": "python",
   "name": "python3"
  },
  "language_info": {
   "codemirror_mode": {
    "name": "ipython",
    "version": 3
   },
   "file_extension": ".py",
   "mimetype": "text/x-python",
   "name": "python",
   "nbconvert_exporter": "python",
   "pygments_lexer": "ipython3",
   "version": "3.7.3"
  }
 },
 "nbformat": 4,
 "nbformat_minor": 1
}
