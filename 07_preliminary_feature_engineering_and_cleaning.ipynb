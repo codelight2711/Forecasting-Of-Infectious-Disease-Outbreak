{
 "cells": [
  {
   "cell_type": "markdown",
   "metadata": {},
   "source": [
    "# Preliminary feature engineering and cleaning\n",
    "This notebook contains preliminary feature engineering and additional data cleaning that was performed for creation of an intermediate MVP. This notebook should be considered obsolete by the later feature engineering notebook, which also uses SQL."
   ]
  },
  {
   "cell_type": "code",
   "execution_count": 2,
   "metadata": {
    "ExecuteTime": {
     "end_time": "2016-07-29T14:46:57.968802",
     "start_time": "2016-07-29T14:46:55.207604"
    },
    "collapsed": true,
    "run_control": {
     "marked": true
    }
   },
   "outputs": [],
   "source": [
    "import pandas as pd\n",
    "import numpy as np\n",
    "import dill\n",
    "from datetime import timedelta\n",
    "from csv_pkl_sql import save_it, csv_it, pkl_it\n",
    "\n",
    "import matplotlib.pyplot as plt\n",
    "import seaborn as sns\n",
    "\n",
    "%matplotlib inline"
   ]
  },
  {
   "cell_type": "markdown",
   "metadata": {
    "run_control": {
     "marked": true
    }
   },
   "source": [
    "## Location data"
   ]
  },
  {
   "cell_type": "code",
   "execution_count": 100,
   "metadata": {
    "ExecuteTime": {
     "end_time": "2016-07-28T19:28:38.536105",
     "start_time": "2016-07-28T19:28:38.428734"
    },
    "collapsed": false,
    "run_control": {
     "marked": true
    }
   },
   "outputs": [
    {
     "data": {
      "text/html": [
       "<div>\n",
       "<table border=\"1\" class=\"dataframe\">\n",
       "  <thead>\n",
       "    <tr style=\"text-align: right;\">\n",
       "      <th></th>\n",
       "      <th>location</th>\n",
       "      <th>location_type</th>\n",
       "      <th>country</th>\n",
       "      <th>province</th>\n",
       "      <th>county</th>\n",
       "      <th>city</th>\n",
       "    </tr>\n",
       "  </thead>\n",
       "  <tbody>\n",
       "    <tr>\n",
       "      <th>0</th>\n",
       "      <td>Argentina-Buenos_Aires</td>\n",
       "      <td>province</td>\n",
       "      <td>Argentina</td>\n",
       "      <td>Buenos Aires</td>\n",
       "      <td>None</td>\n",
       "      <td>None</td>\n",
       "    </tr>\n",
       "  </tbody>\n",
       "</table>\n",
       "</div>"
      ],
      "text/plain": [
       "                 location location_type    country      province county  city\n",
       "0  Argentina-Buenos_Aires      province  Argentina  Buenos Aires   None  None"
      ]
     },
     "execution_count": 100,
     "metadata": {},
     "output_type": "execute_result"
    }
   ],
   "source": [
    "with open('../pkl/00_cleaned_city_names.pkl', 'r') as fh:\n",
    "    location_key = dill.load(fh)\n",
    "location_key.head(1)"
   ]
  },
  {
   "cell_type": "code",
   "execution_count": 101,
   "metadata": {
    "ExecuteTime": {
     "end_time": "2016-07-28T19:28:38.737548",
     "start_time": "2016-07-28T19:28:38.702823"
    },
    "collapsed": false,
    "run_control": {
     "marked": true
    }
   },
   "outputs": [
    {
     "data": {
      "text/html": [
       "<div>\n",
       "<table border=\"1\" class=\"dataframe\">\n",
       "  <thead>\n",
       "    <tr style=\"text-align: right;\">\n",
       "      <th></th>\n",
       "      <th>location</th>\n",
       "      <th>latitude</th>\n",
       "      <th>longitude</th>\n",
       "    </tr>\n",
       "  </thead>\n",
       "  <tbody>\n",
       "    <tr>\n",
       "      <th>0</th>\n",
       "      <td>Argentina-Buenos_Aires</td>\n",
       "      <td>-34.603684</td>\n",
       "      <td>-58.381559</td>\n",
       "    </tr>\n",
       "  </tbody>\n",
       "</table>\n",
       "</div>"
      ],
      "text/plain": [
       "                 location   latitude  longitude\n",
       "0  Argentina-Buenos_Aires -34.603684 -58.381559"
      ]
     },
     "execution_count": 101,
     "metadata": {},
     "output_type": "execute_result"
    }
   ],
   "source": [
    "with open('../pkl/01_latitude_longitude_google.pkl', 'r') as fh:\n",
    "    lat_long = dill.load(fh)\n",
    "lat_long.head(1)"
   ]
  },
  {
   "cell_type": "code",
   "execution_count": 102,
   "metadata": {
    "ExecuteTime": {
     "end_time": "2016-07-28T19:28:39.097288",
     "start_time": "2016-07-28T19:28:39.090970"
    },
    "collapsed": false,
    "run_control": {
     "marked": true
    }
   },
   "outputs": [
    {
     "data": {
      "text/plain": [
       "((1606, 6), (1606, 3))"
      ]
     },
     "execution_count": 102,
     "metadata": {},
     "output_type": "execute_result"
    }
   ],
   "source": [
    "location_key.shape, lat_long.shape"
   ]
  },
  {
   "cell_type": "code",
   "execution_count": 103,
   "metadata": {
    "ExecuteTime": {
     "end_time": "2016-07-28T19:28:39.507580",
     "start_time": "2016-07-28T19:28:39.465400"
    },
    "collapsed": false,
    "run_control": {
     "marked": true
    }
   },
   "outputs": [
    {
     "data": {
      "text/html": [
       "<div>\n",
       "<table border=\"1\" class=\"dataframe\">\n",
       "  <thead>\n",
       "    <tr style=\"text-align: right;\">\n",
       "      <th></th>\n",
       "      <th>location</th>\n",
       "      <th>location_type</th>\n",
       "      <th>country</th>\n",
       "      <th>province</th>\n",
       "      <th>county</th>\n",
       "      <th>city</th>\n",
       "      <th>latitude</th>\n",
       "      <th>longitude</th>\n",
       "    </tr>\n",
       "  </thead>\n",
       "  <tbody>\n",
       "    <tr>\n",
       "      <th>0</th>\n",
       "      <td>Argentina-Buenos_Aires</td>\n",
       "      <td>province</td>\n",
       "      <td>Argentina</td>\n",
       "      <td>Buenos Aires</td>\n",
       "      <td>None</td>\n",
       "      <td>None</td>\n",
       "      <td>-34.603684</td>\n",
       "      <td>-58.381559</td>\n",
       "    </tr>\n",
       "  </tbody>\n",
       "</table>\n",
       "</div>"
      ],
      "text/plain": [
       "                 location location_type    country      province county  city  \\\n",
       "0  Argentina-Buenos_Aires      province  Argentina  Buenos Aires   None  None   \n",
       "\n",
       "    latitude  longitude  \n",
       "0 -34.603684 -58.381559  "
      ]
     },
     "execution_count": 103,
     "metadata": {},
     "output_type": "execute_result"
    }
   ],
   "source": [
    "location = pd.merge(location_key, lat_long, on='location', how='inner')\n",
    "location.head(1)"
   ]
  },
  {
   "cell_type": "code",
   "execution_count": 104,
   "metadata": {
    "ExecuteTime": {
     "end_time": "2016-07-28T19:28:39.929876",
     "start_time": "2016-07-28T19:28:39.922066"
    },
    "collapsed": false,
    "run_control": {
     "marked": true
    }
   },
   "outputs": [
    {
     "data": {
      "text/plain": [
       "(1616, 8)"
      ]
     },
     "execution_count": 104,
     "metadata": {},
     "output_type": "execute_result"
    }
   ],
   "source": [
    "location.shape"
   ]
  },
  {
   "cell_type": "markdown",
   "metadata": {
    "ExecuteTime": {
     "end_time": "2016-07-28T04:19:28.316578",
     "start_time": "2016-07-28T04:19:28.289485"
    },
    "run_control": {
     "marked": true
    }
   },
   "source": [
    "## Airport information"
   ]
  },
  {
   "cell_type": "code",
   "execution_count": 13,
   "metadata": {
    "ExecuteTime": {
     "end_time": "2016-07-31T16:24:55.964946",
     "start_time": "2016-07-31T16:24:55.807453"
    },
    "collapsed": false,
    "run_control": {
     "marked": true
    }
   },
   "outputs": [
    {
     "data": {
      "text/html": [
       "<div>\n",
       "<table border=\"1\" class=\"dataframe\">\n",
       "  <thead>\n",
       "    <tr style=\"text-align: right;\">\n",
       "      <th></th>\n",
       "      <th>city</th>\n",
       "      <th>FAA</th>\n",
       "      <th>IATA</th>\n",
       "      <th>ICAO</th>\n",
       "      <th>kind</th>\n",
       "      <th>latitude</th>\n",
       "      <th>longitude</th>\n",
       "      <th>max_runway</th>\n",
       "      <th>name</th>\n",
       "      <th>country</th>\n",
       "      <th>state</th>\n",
       "    </tr>\n",
       "  </thead>\n",
       "  <tbody>\n",
       "    <tr>\n",
       "      <th>56</th>\n",
       "      <td>BAHIA BLANCA</td>\n",
       "      <td>NaN</td>\n",
       "      <td>BHI</td>\n",
       "      <td>SAZB</td>\n",
       "      <td>Medium</td>\n",
       "      <td>-38.725</td>\n",
       "      <td>-62.169</td>\n",
       "      <td>8579.0</td>\n",
       "      <td>COMANDANTE ESPORA</td>\n",
       "      <td>Argentina</td>\n",
       "      <td>NaN</td>\n",
       "    </tr>\n",
       "  </tbody>\n",
       "</table>\n",
       "</div>"
      ],
      "text/plain": [
       "            city  FAA IATA  ICAO    kind  latitude  longitude  max_runway  \\\n",
       "56  BAHIA BLANCA  NaN  BHI  SAZB  Medium   -38.725    -62.169      8579.0   \n",
       "\n",
       "                 name    country state  \n",
       "56  COMANDANTE ESPORA  Argentina   NaN  "
      ]
     },
     "execution_count": 13,
     "metadata": {},
     "output_type": "execute_result"
    }
   ],
   "source": [
    "with open('../pkl/02_airport_information_fallingrain.pkl', 'r') as fh:\n",
    "    airport = dill.load(fh)\n",
    "airport.head(1)"
   ]
  },
  {
   "cell_type": "code",
   "execution_count": 14,
   "metadata": {
    "ExecuteTime": {
     "end_time": "2016-07-31T16:24:56.094571",
     "start_time": "2016-07-31T16:24:55.988347"
    },
    "collapsed": false,
    "run_control": {
     "marked": true
    }
   },
   "outputs": [
    {
     "data": {
      "text/html": [
       "<div>\n",
       "<table border=\"1\" class=\"dataframe\">\n",
       "  <thead>\n",
       "    <tr style=\"text-align: right;\">\n",
       "      <th></th>\n",
       "      <th>location</th>\n",
       "      <th>latitude</th>\n",
       "      <th>longitude</th>\n",
       "      <th>airport_index</th>\n",
       "      <th>country</th>\n",
       "      <th>name</th>\n",
       "      <th>FAA</th>\n",
       "      <th>IATA</th>\n",
       "      <th>ICAO</th>\n",
       "    </tr>\n",
       "  </thead>\n",
       "  <tbody>\n",
       "    <tr>\n",
       "      <th>0</th>\n",
       "      <td>Argentina-Buenos_Aires</td>\n",
       "      <td>-34.603684</td>\n",
       "      <td>-58.381559</td>\n",
       "      <td>80</td>\n",
       "      <td>Argentina</td>\n",
       "      <td>AEROPARQUE JORGE NEWBERY</td>\n",
       "      <td>NaN</td>\n",
       "      <td>AEP</td>\n",
       "      <td>SABE</td>\n",
       "    </tr>\n",
       "  </tbody>\n",
       "</table>\n",
       "</div>"
      ],
      "text/plain": [
       "                 location   latitude  longitude  airport_index    country  \\\n",
       "0  Argentina-Buenos_Aires -34.603684 -58.381559             80  Argentina   \n",
       "\n",
       "                       name  FAA IATA  ICAO  \n",
       "0  AEROPARQUE JORGE NEWBERY  NaN  AEP  SABE  "
      ]
     },
     "execution_count": 14,
     "metadata": {},
     "output_type": "execute_result"
    }
   ],
   "source": [
    "with open('../pkl/04_merged_latitude_longitude_airport_checkpoint.pkl', 'r') as fh:\n",
    "    airport2 = dill.load(fh)\n",
    "airport2.head(1)"
   ]
  },
  {
   "cell_type": "markdown",
   "metadata": {
    "run_control": {
     "marked": true
    }
   },
   "source": [
    "Create a dataframe of distance to airport and distance to major airport."
   ]
  },
  {
   "cell_type": "code",
   "execution_count": 15,
   "metadata": {
    "ExecuteTime": {
     "end_time": "2016-07-31T16:24:57.477568",
     "start_time": "2016-07-31T16:24:57.465131"
    },
    "collapsed": false
   },
   "outputs": [
    {
     "data": {
      "text/plain": [
       "((2062, 11), (1606, 9))"
      ]
     },
     "execution_count": 15,
     "metadata": {},
     "output_type": "execute_result"
    }
   ],
   "source": [
    "airport.shape, airport2.shape"
   ]
  },
  {
   "cell_type": "code",
   "execution_count": 107,
   "metadata": {
    "ExecuteTime": {
     "end_time": "2016-07-28T19:28:43.976434",
     "start_time": "2016-07-28T19:28:43.968900"
    },
    "collapsed": false,
    "run_control": {
     "marked": true
    }
   },
   "outputs": [
    {
     "data": {
      "text/plain": [
       "array([u'Medium', u'Large'], dtype=object)"
      ]
     },
     "execution_count": 107,
     "metadata": {},
     "output_type": "execute_result"
    }
   ],
   "source": [
    "airport.kind.unique()"
   ]
  },
  {
   "cell_type": "markdown",
   "metadata": {
    "run_control": {
     "marked": true
    }
   },
   "source": [
    "# TODO--convert this to an actual distance"
   ]
  },
  {
   "cell_type": "code",
   "execution_count": 108,
   "metadata": {
    "ExecuteTime": {
     "end_time": "2016-07-28T19:28:48.176329",
     "start_time": "2016-07-28T19:28:47.897512"
    },
    "collapsed": false,
    "run_control": {
     "marked": true
    }
   },
   "outputs": [],
   "source": [
    "# Closest medium or large airport\n",
    "airport_coords = airport[['latitude', 'longitude']].values[np.newaxis, :]\n",
    "places_coords = np.rollaxis(lat_long[['latitude','longitude']].values[np.newaxis, :], 0, -1)\n",
    "dist_coords = ((places_coords - airport_coords)**2).sum(axis=-1)\n",
    "min_dist = dist_coords.min(axis=1)\n",
    "\n",
    "airport_distance = lat_long[['location']].copy()\n",
    "airport_distance['airport_dist_any'] = min_dist\n",
    "\n",
    "# Closest large airport\n",
    "airport_coords = airport.loc[airport.kind=='Large', \n",
    "                             ['latitude', 'longitude']].values[np.newaxis, :]\n",
    "places_coords = np.rollaxis(lat_long[['latitude','longitude']].values[np.newaxis, :], 0, -1)\n",
    "dist_coords = ((places_coords - airport_coords)**2).sum(axis=-1)\n",
    "min_dist = dist_coords.min(axis=1)\n",
    "\n",
    "airport_distance['airport_dist_large'] = min_dist"
   ]
  },
  {
   "cell_type": "code",
   "execution_count": 109,
   "metadata": {
    "ExecuteTime": {
     "end_time": "2016-07-28T19:28:48.823355",
     "start_time": "2016-07-28T19:28:48.804176"
    },
    "collapsed": false,
    "run_control": {
     "marked": true
    }
   },
   "outputs": [
    {
     "data": {
      "text/html": [
       "<div>\n",
       "<table border=\"1\" class=\"dataframe\">\n",
       "  <thead>\n",
       "    <tr style=\"text-align: right;\">\n",
       "      <th></th>\n",
       "      <th>location</th>\n",
       "      <th>airport_dist_any</th>\n",
       "      <th>airport_dist_large</th>\n",
       "    </tr>\n",
       "  </thead>\n",
       "  <tbody>\n",
       "    <tr>\n",
       "      <th>0</th>\n",
       "      <td>Argentina-Buenos_Aires</td>\n",
       "      <td>0.003183</td>\n",
       "      <td>0.071514</td>\n",
       "    </tr>\n",
       "    <tr>\n",
       "      <th>1</th>\n",
       "      <td>Argentina-CABA</td>\n",
       "      <td>0.003183</td>\n",
       "      <td>0.071514</td>\n",
       "    </tr>\n",
       "    <tr>\n",
       "      <th>2</th>\n",
       "      <td>Argentina-Cordoba</td>\n",
       "      <td>0.009602</td>\n",
       "      <td>43.526915</td>\n",
       "    </tr>\n",
       "    <tr>\n",
       "      <th>3</th>\n",
       "      <td>Argentina-Entre_Rios</td>\n",
       "      <td>0.000658</td>\n",
       "      <td>13.126461</td>\n",
       "    </tr>\n",
       "    <tr>\n",
       "      <th>4</th>\n",
       "      <td>Argentina-Santa_Fe</td>\n",
       "      <td>0.023428</td>\n",
       "      <td>14.983910</td>\n",
       "    </tr>\n",
       "  </tbody>\n",
       "</table>\n",
       "</div>"
      ],
      "text/plain": [
       "                 location  airport_dist_any  airport_dist_large\n",
       "0  Argentina-Buenos_Aires          0.003183            0.071514\n",
       "1          Argentina-CABA          0.003183            0.071514\n",
       "2       Argentina-Cordoba          0.009602           43.526915\n",
       "3    Argentina-Entre_Rios          0.000658           13.126461\n",
       "4      Argentina-Santa_Fe          0.023428           14.983910"
      ]
     },
     "execution_count": 109,
     "metadata": {},
     "output_type": "execute_result"
    }
   ],
   "source": [
    "airport_distance.head()"
   ]
  },
  {
   "cell_type": "markdown",
   "metadata": {
    "run_control": {
     "marked": true
    }
   },
   "source": [
    "## Weather information"
   ]
  },
  {
   "cell_type": "code",
   "execution_count": 11,
   "metadata": {
    "ExecuteTime": {
     "end_time": "2016-07-30T16:27:30.670436",
     "start_time": "2016-07-30T16:27:30.003404"
    },
    "collapsed": false,
    "run_control": {
     "marked": true
    }
   },
   "outputs": [
    {
     "data": {
      "text/html": [
       "<div>\n",
       "<table border=\"1\" class=\"dataframe\">\n",
       "  <thead>\n",
       "    <tr style=\"text-align: right;\">\n",
       "      <th></th>\n",
       "      <th>date</th>\n",
       "      <th>max_temp</th>\n",
       "      <th>max_temp1</th>\n",
       "      <th>max_temp2</th>\n",
       "      <th>location</th>\n",
       "      <th>mean_temp</th>\n",
       "      <th>mean_temp1</th>\n",
       "      <th>mean_temp2</th>\n",
       "      <th>min_temp</th>\n",
       "      <th>min_temp1</th>\n",
       "      <th>min_temp2</th>\n",
       "      <th>dew_point</th>\n",
       "      <th>dew_point1</th>\n",
       "      <th>dew_point2</th>\n",
       "      <th>precipitation</th>\n",
       "      <th>precipitation1</th>\n",
       "      <th>precipitation2</th>\n",
       "      <th>wind</th>\n",
       "      <th>wind1</th>\n",
       "      <th>wind2</th>\n",
       "    </tr>\n",
       "  </thead>\n",
       "  <tbody>\n",
       "    <tr>\n",
       "      <th>0</th>\n",
       "      <td>2015-11-28</td>\n",
       "      <td>67.0</td>\n",
       "      <td>70.0</td>\n",
       "      <td>68.0</td>\n",
       "      <td>United_States-Florida-Columbia_County</td>\n",
       "      <td>53.0</td>\n",
       "      <td>57.0</td>\n",
       "      <td>56.0</td>\n",
       "      <td>38.0</td>\n",
       "      <td>43.0</td>\n",
       "      <td>44.0</td>\n",
       "      <td>41.0</td>\n",
       "      <td>50.0</td>\n",
       "      <td>47.0</td>\n",
       "      <td>0.0</td>\n",
       "      <td>2.05</td>\n",
       "      <td>2.32</td>\n",
       "      <td>4.0</td>\n",
       "      <td>5.0</td>\n",
       "      <td>6.0</td>\n",
       "    </tr>\n",
       "    <tr>\n",
       "      <th>1</th>\n",
       "      <td>2015-12-05</td>\n",
       "      <td>66.0</td>\n",
       "      <td>67.0</td>\n",
       "      <td>70.0</td>\n",
       "      <td>United_States-Florida-Columbia_County</td>\n",
       "      <td>56.0</td>\n",
       "      <td>53.0</td>\n",
       "      <td>57.0</td>\n",
       "      <td>45.0</td>\n",
       "      <td>38.0</td>\n",
       "      <td>43.0</td>\n",
       "      <td>48.0</td>\n",
       "      <td>41.0</td>\n",
       "      <td>50.0</td>\n",
       "      <td>0.5</td>\n",
       "      <td>0.00</td>\n",
       "      <td>2.05</td>\n",
       "      <td>5.0</td>\n",
       "      <td>4.0</td>\n",
       "      <td>5.0</td>\n",
       "    </tr>\n",
       "  </tbody>\n",
       "</table>\n",
       "</div>"
      ],
      "text/plain": [
       "        date  max_temp  max_temp1  max_temp2  \\\n",
       "0 2015-11-28      67.0       70.0       68.0   \n",
       "1 2015-12-05      66.0       67.0       70.0   \n",
       "\n",
       "                                location  mean_temp  mean_temp1  mean_temp2  \\\n",
       "0  United_States-Florida-Columbia_County       53.0        57.0        56.0   \n",
       "1  United_States-Florida-Columbia_County       56.0        53.0        57.0   \n",
       "\n",
       "   min_temp  min_temp1  min_temp2  dew_point  dew_point1  dew_point2  \\\n",
       "0      38.0       43.0       44.0       41.0        50.0        47.0   \n",
       "1      45.0       38.0       43.0       48.0        41.0        50.0   \n",
       "\n",
       "   precipitation  precipitation1  precipitation2  wind  wind1  wind2  \n",
       "0            0.0            2.05            2.32   4.0    5.0    6.0  \n",
       "1            0.5            0.00            2.05   5.0    4.0    5.0  "
      ]
     },
     "execution_count": 11,
     "metadata": {},
     "output_type": "execute_result"
    }
   ],
   "source": [
    "with open('../pkl/04_weekly_weather.pkl', 'r') as fh:\n",
    "    weather = dill.load(fh)\n",
    "\n",
    "weather.head(2)"
   ]
  },
  {
   "cell_type": "markdown",
   "metadata": {
    "run_control": {
     "marked": true
    }
   },
   "source": [
    "## Mosquito sightings"
   ]
  },
  {
   "cell_type": "code",
   "execution_count": 127,
   "metadata": {
    "ExecuteTime": {
     "end_time": "2016-07-28T19:29:45.854135",
     "start_time": "2016-07-28T19:29:45.464129"
    },
    "collapsed": false,
    "run_control": {
     "marked": true
    }
   },
   "outputs": [
    {
     "data": {
      "text/html": [
       "<div>\n",
       "<table border=\"1\" class=\"dataframe\">\n",
       "  <thead>\n",
       "    <tr style=\"text-align: right;\">\n",
       "      <th></th>\n",
       "      <th>vector</th>\n",
       "      <th>occurrence_id</th>\n",
       "      <th>source_type</th>\n",
       "      <th>location_type</th>\n",
       "      <th>polygon_admin</th>\n",
       "      <th>latitude</th>\n",
       "      <th>longitude</th>\n",
       "      <th>year</th>\n",
       "      <th>country</th>\n",
       "      <th>country_id</th>\n",
       "      <th>gaul_ad0</th>\n",
       "      <th>status</th>\n",
       "    </tr>\n",
       "  </thead>\n",
       "  <tbody>\n",
       "    <tr>\n",
       "      <th>34478</th>\n",
       "      <td>Aedes albopictus</td>\n",
       "      <td>34479</td>\n",
       "      <td>unpublished</td>\n",
       "      <td>point</td>\n",
       "      <td>-999</td>\n",
       "      <td>22.89</td>\n",
       "      <td>120.44</td>\n",
       "      <td>2006</td>\n",
       "      <td>Taiwan</td>\n",
       "      <td>TWN</td>\n",
       "      <td>886</td>\n",
       "      <td>NaN</td>\n",
       "    </tr>\n",
       "  </tbody>\n",
       "</table>\n",
       "</div>"
      ],
      "text/plain": [
       "                 vector  occurrence_id  source_type location_type  \\\n",
       "34478  Aedes albopictus          34479  unpublished         point   \n",
       "\n",
       "      polygon_admin  latitude  longitude  year country country_id  gaul_ad0  \\\n",
       "34478          -999     22.89     120.44  2006  Taiwan        TWN       886   \n",
       "\n",
       "      status  \n",
       "34478    NaN  "
      ]
     },
     "execution_count": 127,
     "metadata": {},
     "output_type": "execute_result"
    }
   ],
   "source": [
    "with open('../pkl/05_mosquito_sightings.pkl', 'r') as fh:\n",
    "    mosquito = dill.load(fh)\n",
    "mosquito.head(1)"
   ]
  },
  {
   "cell_type": "code",
   "execution_count": 128,
   "metadata": {
    "ExecuteTime": {
     "end_time": "2016-07-28T19:30:03.542338",
     "start_time": "2016-07-28T19:30:00.714455"
    },
    "collapsed": true,
    "run_control": {
     "marked": true
    }
   },
   "outputs": [],
   "source": [
    "# Closest mosquito sighting\n",
    "mosquito_coords = mosquito[['latitude', 'longitude']].values[np.newaxis, :]\n",
    "places_coords = np.rollaxis(lat_long[['latitude','longitude']].values[np.newaxis, :], 0, -1)\n",
    "dist_coords = ((places_coords - mosquito_coords)**2).sum(axis=-1)\n",
    "min_dist = dist_coords.min(axis=1)\n",
    "\n",
    "mosquito_distance = lat_long[['location']].copy()\n",
    "mosquito_distance['mosquito_dist'] = min_dist"
   ]
  },
  {
   "cell_type": "code",
   "execution_count": 129,
   "metadata": {
    "ExecuteTime": {
     "end_time": "2016-07-28T19:30:03.562181",
     "start_time": "2016-07-28T19:30:03.544413"
    },
    "collapsed": false,
    "run_control": {
     "marked": true
    }
   },
   "outputs": [
    {
     "data": {
      "text/html": [
       "<div>\n",
       "<table border=\"1\" class=\"dataframe\">\n",
       "  <thead>\n",
       "    <tr style=\"text-align: right;\">\n",
       "      <th></th>\n",
       "      <th>location</th>\n",
       "      <th>mosquito_dist</th>\n",
       "    </tr>\n",
       "  </thead>\n",
       "  <tbody>\n",
       "    <tr>\n",
       "      <th>0</th>\n",
       "      <td>Argentina-Buenos_Aires</td>\n",
       "      <td>0.008009</td>\n",
       "    </tr>\n",
       "    <tr>\n",
       "      <th>1</th>\n",
       "      <td>Argentina-CABA</td>\n",
       "      <td>0.008009</td>\n",
       "    </tr>\n",
       "    <tr>\n",
       "      <th>2</th>\n",
       "      <td>Argentina-Cordoba</td>\n",
       "      <td>0.000480</td>\n",
       "    </tr>\n",
       "    <tr>\n",
       "      <th>3</th>\n",
       "      <td>Argentina-Entre_Rios</td>\n",
       "      <td>1.244226</td>\n",
       "    </tr>\n",
       "    <tr>\n",
       "      <th>4</th>\n",
       "      <td>Argentina-Santa_Fe</td>\n",
       "      <td>0.742703</td>\n",
       "    </tr>\n",
       "  </tbody>\n",
       "</table>\n",
       "</div>"
      ],
      "text/plain": [
       "                 location  mosquito_dist\n",
       "0  Argentina-Buenos_Aires       0.008009\n",
       "1          Argentina-CABA       0.008009\n",
       "2       Argentina-Cordoba       0.000480\n",
       "3    Argentina-Entre_Rios       1.244226\n",
       "4      Argentina-Santa_Fe       0.742703"
      ]
     },
     "execution_count": 129,
     "metadata": {},
     "output_type": "execute_result"
    }
   ],
   "source": [
    "mosquito_distance.head()"
   ]
  },
  {
   "cell_type": "markdown",
   "metadata": {
    "run_control": {
     "marked": true
    }
   },
   "source": [
    "## Population density"
   ]
  },
  {
   "cell_type": "code",
   "execution_count": 130,
   "metadata": {
    "ExecuteTime": {
     "end_time": "2016-07-28T19:30:03.616557",
     "start_time": "2016-07-28T19:30:03.565618"
    },
    "collapsed": false,
    "run_control": {
     "marked": true
    }
   },
   "outputs": [
    {
     "data": {
      "text/html": [
       "<div>\n",
       "<table border=\"1\" class=\"dataframe\">\n",
       "  <thead>\n",
       "    <tr style=\"text-align: right;\">\n",
       "      <th></th>\n",
       "      <th>location</th>\n",
       "      <th>density_per_km</th>\n",
       "    </tr>\n",
       "  </thead>\n",
       "  <tbody>\n",
       "    <tr>\n",
       "      <th>0</th>\n",
       "      <td>Argentina-Buenos_Aires</td>\n",
       "      <td>12346.605469</td>\n",
       "    </tr>\n",
       "  </tbody>\n",
       "</table>\n",
       "</div>"
      ],
      "text/plain": [
       "                 location  density_per_km\n",
       "0  Argentina-Buenos_Aires    12346.605469"
      ]
     },
     "execution_count": 130,
     "metadata": {},
     "output_type": "execute_result"
    }
   ],
   "source": [
    "with open('../pkl/06_population_density.pkl', 'r') as fh:\n",
    "    population = dill.load(fh)\n",
    "population.head(1)"
   ]
  },
  {
   "cell_type": "markdown",
   "metadata": {
    "run_control": {
     "marked": true
    }
   },
   "source": [
    "## Zika infection"
   ]
  },
  {
   "cell_type": "code",
   "execution_count": 4,
   "metadata": {
    "ExecuteTime": {
     "end_time": "2016-07-29T15:17:13.331347",
     "start_time": "2016-07-29T15:17:11.570887"
    },
    "collapsed": false,
    "run_control": {
     "marked": true
    }
   },
   "outputs": [
    {
     "data": {
      "text/html": [
       "<div>\n",
       "<table border=\"1\" class=\"dataframe\">\n",
       "  <thead>\n",
       "    <tr style=\"text-align: right;\">\n",
       "      <th></th>\n",
       "      <th>report_date</th>\n",
       "      <th>location</th>\n",
       "      <th>location_type</th>\n",
       "      <th>data_field</th>\n",
       "      <th>data_field_code</th>\n",
       "      <th>value</th>\n",
       "      <th>unit</th>\n",
       "    </tr>\n",
       "  </thead>\n",
       "  <tbody>\n",
       "    <tr>\n",
       "      <th>0</th>\n",
       "      <td>2016-03-19</td>\n",
       "      <td>Argentina-Buenos_Aires</td>\n",
       "      <td>province</td>\n",
       "      <td>cumulative_confirmed_local_cases</td>\n",
       "      <td>AR0001</td>\n",
       "      <td>0</td>\n",
       "      <td>cases</td>\n",
       "    </tr>\n",
       "  </tbody>\n",
       "</table>\n",
       "</div>"
      ],
      "text/plain": [
       "  report_date                location location_type  \\\n",
       "0  2016-03-19  Argentina-Buenos_Aires      province   \n",
       "\n",
       "                         data_field data_field_code value   unit  \n",
       "0  cumulative_confirmed_local_cases          AR0001     0  cases  "
      ]
     },
     "execution_count": 4,
     "metadata": {},
     "output_type": "execute_result"
    }
   ],
   "source": [
    "with open('../pkl/03_infection_data_initial_import.pkl', 'r') as fh:\n",
    "    infection = dill.load(fh)\n",
    "infection.head(1)"
   ]
  },
  {
   "cell_type": "code",
   "execution_count": 5,
   "metadata": {
    "ExecuteTime": {
     "end_time": "2016-07-29T15:17:14.051515",
     "start_time": "2016-07-29T15:17:14.027782"
    },
    "collapsed": false
   },
   "outputs": [],
   "source": [
    "infection = (infection[['report_date', 'location', 'value', 'data_field']]\n",
    "             .rename(columns={'report_date':'date','value':'zika_cases'}))"
   ]
  },
  {
   "cell_type": "code",
   "execution_count": 6,
   "metadata": {
    "ExecuteTime": {
     "end_time": "2016-07-29T15:17:14.655994",
     "start_time": "2016-07-29T15:17:14.557240"
    },
    "collapsed": false
   },
   "outputs": [
    {
     "name": "stdout",
     "output_type": "stream",
     "text": [
      "(2414, '125*5')\n",
      "(2783, '149*5')\n",
      "(5192, '5*')\n"
     ]
    }
   ],
   "source": [
    "for x in infection.zika_cases.iteritems():\n",
    "    try:\n",
    "        float(x[1])\n",
    "    except:\n",
    "        print(x)"
   ]
  },
  {
   "cell_type": "code",
   "execution_count": 7,
   "metadata": {
    "ExecuteTime": {
     "end_time": "2016-07-29T15:17:19.077290",
     "start_time": "2016-07-29T15:17:19.028975"
    },
    "collapsed": false
   },
   "outputs": [],
   "source": [
    "infection.loc[2414, 'zika_cases'] = 0\n",
    "infection.loc[2783, 'zika_cases'] = 0\n",
    "infection.loc[5192, 'zika_cases'] = 0\n",
    "infection['zika_cases'] = infection.zika_cases.fillna(0)\n",
    "infection['zika_cases'] = infection.zika_cases.astype(int)"
   ]
  },
  {
   "cell_type": "code",
   "execution_count": 10,
   "metadata": {
    "ExecuteTime": {
     "end_time": "2016-07-29T15:17:25.525817",
     "start_time": "2016-07-29T15:17:25.435946"
    },
    "collapsed": false
   },
   "outputs": [
    {
     "data": {
      "text/html": [
       "<div>\n",
       "<table border=\"1\" class=\"dataframe\">\n",
       "  <thead>\n",
       "    <tr style=\"text-align: right;\">\n",
       "      <th></th>\n",
       "      <th>location</th>\n",
       "      <th>date</th>\n",
       "      <th>zika_cases</th>\n",
       "    </tr>\n",
       "  </thead>\n",
       "  <tbody>\n",
       "    <tr>\n",
       "      <th>342</th>\n",
       "      <td>Brazil</td>\n",
       "      <td>2016-05-28</td>\n",
       "      <td>161241</td>\n",
       "    </tr>\n",
       "    <tr>\n",
       "      <th>341</th>\n",
       "      <td>Brazil</td>\n",
       "      <td>2016-05-21</td>\n",
       "      <td>148905</td>\n",
       "    </tr>\n",
       "    <tr>\n",
       "      <th>339</th>\n",
       "      <td>Brazil</td>\n",
       "      <td>2016-05-07</td>\n",
       "      <td>138108</td>\n",
       "    </tr>\n",
       "    <tr>\n",
       "      <th>340</th>\n",
       "      <td>Brazil</td>\n",
       "      <td>2016-05-14</td>\n",
       "      <td>138108</td>\n",
       "    </tr>\n",
       "    <tr>\n",
       "      <th>338</th>\n",
       "      <td>Brazil</td>\n",
       "      <td>2016-04-30</td>\n",
       "      <td>127822</td>\n",
       "    </tr>\n",
       "    <tr>\n",
       "      <th>337</th>\n",
       "      <td>Brazil</td>\n",
       "      <td>2016-04-23</td>\n",
       "      <td>120161</td>\n",
       "    </tr>\n",
       "    <tr>\n",
       "      <th>30828</th>\n",
       "      <td>El_Salvador</td>\n",
       "      <td>2016-04-23</td>\n",
       "      <td>91896</td>\n",
       "    </tr>\n",
       "    <tr>\n",
       "      <th>336</th>\n",
       "      <td>Brazil</td>\n",
       "      <td>2016-04-02</td>\n",
       "      <td>91387</td>\n",
       "    </tr>\n",
       "    <tr>\n",
       "      <th>32613</th>\n",
       "      <td>Sudeste</td>\n",
       "      <td>2016-05-28</td>\n",
       "      <td>65328</td>\n",
       "    </tr>\n",
       "    <tr>\n",
       "      <th>32612</th>\n",
       "      <td>Sudeste</td>\n",
       "      <td>2016-05-21</td>\n",
       "      <td>61309</td>\n",
       "    </tr>\n",
       "    <tr>\n",
       "      <th>32508</th>\n",
       "      <td>Nordeste</td>\n",
       "      <td>2016-05-28</td>\n",
       "      <td>59745</td>\n",
       "    </tr>\n",
       "    <tr>\n",
       "      <th>32610</th>\n",
       "      <td>Sudeste</td>\n",
       "      <td>2016-05-07</td>\n",
       "      <td>54803</td>\n",
       "    </tr>\n",
       "    <tr>\n",
       "      <th>32611</th>\n",
       "      <td>Sudeste</td>\n",
       "      <td>2016-05-14</td>\n",
       "      <td>54803</td>\n",
       "    </tr>\n",
       "    <tr>\n",
       "      <th>32507</th>\n",
       "      <td>Nordeste</td>\n",
       "      <td>2016-05-21</td>\n",
       "      <td>54165</td>\n",
       "    </tr>\n",
       "    <tr>\n",
       "      <th>32505</th>\n",
       "      <td>Nordeste</td>\n",
       "      <td>2016-05-07</td>\n",
       "      <td>51065</td>\n",
       "    </tr>\n",
       "    <tr>\n",
       "      <th>32506</th>\n",
       "      <td>Nordeste</td>\n",
       "      <td>2016-05-14</td>\n",
       "      <td>51065</td>\n",
       "    </tr>\n",
       "    <tr>\n",
       "      <th>32609</th>\n",
       "      <td>Sudeste</td>\n",
       "      <td>2016-04-30</td>\n",
       "      <td>48027</td>\n",
       "    </tr>\n",
       "    <tr>\n",
       "      <th>32504</th>\n",
       "      <td>Nordeste</td>\n",
       "      <td>2016-04-30</td>\n",
       "      <td>47709</td>\n",
       "    </tr>\n",
       "    <tr>\n",
       "      <th>442</th>\n",
       "      <td>Brazil-Bahia</td>\n",
       "      <td>2016-05-28</td>\n",
       "      <td>46796</td>\n",
       "    </tr>\n",
       "    <tr>\n",
       "      <th>778</th>\n",
       "      <td>Brazil-Rio_de_Janeiro</td>\n",
       "      <td>2016-05-28</td>\n",
       "      <td>46564</td>\n",
       "    </tr>\n",
       "  </tbody>\n",
       "</table>\n",
       "</div>"
      ],
      "text/plain": [
       "                    location       date  zika_cases\n",
       "342                   Brazil 2016-05-28      161241\n",
       "341                   Brazil 2016-05-21      148905\n",
       "339                   Brazil 2016-05-07      138108\n",
       "340                   Brazil 2016-05-14      138108\n",
       "338                   Brazil 2016-04-30      127822\n",
       "337                   Brazil 2016-04-23      120161\n",
       "30828            El_Salvador 2016-04-23       91896\n",
       "336                   Brazil 2016-04-02       91387\n",
       "32613                Sudeste 2016-05-28       65328\n",
       "32612                Sudeste 2016-05-21       61309\n",
       "32508               Nordeste 2016-05-28       59745\n",
       "32610                Sudeste 2016-05-07       54803\n",
       "32611                Sudeste 2016-05-14       54803\n",
       "32507               Nordeste 2016-05-21       54165\n",
       "32505               Nordeste 2016-05-07       51065\n",
       "32506               Nordeste 2016-05-14       51065\n",
       "32609                Sudeste 2016-04-30       48027\n",
       "32504               Nordeste 2016-04-30       47709\n",
       "442             Brazil-Bahia 2016-05-28       46796\n",
       "778    Brazil-Rio_de_Janeiro 2016-05-28       46564"
      ]
     },
     "execution_count": 10,
     "metadata": {},
     "output_type": "execute_result"
    }
   ],
   "source": [
    "infection = (infection\n",
    "             .groupby(['location','date']).sum()\n",
    "             .reset_index()\n",
    "            )\n",
    "\n",
    "infection.sort_values('zika_cases',ascending=False).head(20)"
   ]
  },
  {
   "cell_type": "markdown",
   "metadata": {
    "run_control": {
     "marked": true
    }
   },
   "source": [
    "## Combine dataframes"
   ]
  },
  {
   "cell_type": "code",
   "execution_count": 141,
   "metadata": {
    "ExecuteTime": {
     "end_time": "2016-07-28T19:32:08.382645",
     "start_time": "2016-07-28T19:32:07.728636"
    },
    "collapsed": false,
    "run_control": {
     "marked": true
    }
   },
   "outputs": [
    {
     "name": "stdout",
     "output_type": "stream",
     "text": [
      "(107965, 21) 0\n",
      "(108373, 22) 102\n",
      "(109189, 24) 102\n",
      "(110719, 25) 102\n"
     ]
    }
   ],
   "source": [
    "model = pd.merge(weather_final,\n",
    "                 infection,\n",
    "                 on=['date','location'],\n",
    "                 how='left')\n",
    "\n",
    "model['zika_cases'] = model.zika_cases.fillna(0)\n",
    "\n",
    "print model.shape, model.isnull().sum().max()\n",
    "\n",
    "model = pd.merge(model,\n",
    "                 population,\n",
    "                 on='location', \n",
    "                 how='left')\n",
    "\n",
    "print model.shape, model.isnull().sum().max()\n",
    "\n",
    "model = pd.merge(model,\n",
    "                 airport_distance,\n",
    "                 on='location',\n",
    "                 how='left')\n",
    "\n",
    "print model.shape, model.isnull().sum().max()\n",
    "\n",
    "model = pd.merge(model,\n",
    "                 mosquito_distance,\n",
    "                 on='location',\n",
    "                 how='left')\n",
    "\n",
    "print model.dropna().shape, model.isnull().sum().max()"
   ]
  },
  {
   "cell_type": "code",
   "execution_count": 142,
   "metadata": {
    "ExecuteTime": {
     "end_time": "2016-07-28T20:06:57.191197",
     "start_time": "2016-07-28T19:32:10.847502"
    },
    "collapsed": false
   },
   "outputs": [],
   "source": [
    "save_it(model, '07_feature_engineering_and_cleaning')"
   ]
  }
 ],
 "metadata": {
  "anaconda-cloud": {},
  "kernelspec": {
   "display_name": "Python [default]",
   "language": "python",
   "name": "python2"
  },
  "language_info": {
   "codemirror_mode": {
    "name": "ipython",
    "version": 2
   },
   "file_extension": ".py",
   "mimetype": "text/x-python",
   "name": "python",
   "nbconvert_exporter": "python",
   "pygments_lexer": "ipython2",
   "version": "2.7.12"
  }
 },
 "nbformat": 4,
 "nbformat_minor": 0
}
