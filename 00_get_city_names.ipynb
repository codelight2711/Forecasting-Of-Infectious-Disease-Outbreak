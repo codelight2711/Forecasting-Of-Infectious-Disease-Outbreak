{
 "cells": [
  {
   "cell_type": "code",
   "execution_count": 13,
   "metadata": {
    "ExecuteTime": {
     "end_time": "2016-07-30T22:05:14.899325",
     "start_time": "2016-07-30T22:05:14.891350"
    }
   },
   "outputs": [],
   "source": [
    "import pandas as pd\n",
    "import numpy as np\n",
    "from glob import glob\n",
    "from csv_pkl_sql import save_it\n",
    "\n",
    "pd.options.mode.chained_assignment = None"
   ]
  },
  {
   "cell_type": "code",
   "execution_count": 14,
   "metadata": {
    "ExecuteTime": {
     "end_time": "2016-07-30T22:05:15.790125",
     "start_time": "2016-07-30T22:05:15.713217"
    }
   },
   "outputs": [],
   "source": [
    "location_files = glob('../zika/*/*Places.csv')\n",
    "locations = pd.concat([pd.read_csv(x) \n",
    "                       for x in location_files], axis=0).reset_index(drop=True)"
   ]
  },
  {
   "cell_type": "code",
   "execution_count": 15,
   "metadata": {
    "ExecuteTime": {
     "end_time": "2016-07-30T22:05:17.378045",
     "start_time": "2016-07-30T22:05:16.497638"
    }
   },
   "outputs": [],
   "source": [
    "data_file_locations = glob('../zika/*/*/data/*.csv')\n",
    "data_locations = pd.concat([pd.read_csv(x, usecols=[1]).drop_duplicates() \n",
    "                            for x in data_file_locations], axis=0).drop_duplicates().reset_index(drop=True)"
   ]
  },
  {
   "cell_type": "code",
   "execution_count": 16,
   "metadata": {
    "ExecuteTime": {
     "end_time": "2016-07-30T22:05:17.386185",
     "start_time": "2016-07-30T22:05:17.380068"
    }
   },
   "outputs": [],
   "source": [
    "# Drop the locations that don't exist in any data files\n",
    "mask = locations.location.isin(data_locations.location)\n",
    "locations = locations[mask]"
   ]
  },
  {
   "cell_type": "code",
   "execution_count": 17,
   "metadata": {
    "ExecuteTime": {
     "end_time": "2016-07-30T22:05:20.089704",
     "start_time": "2016-07-30T22:05:20.082461"
    }
   },
   "outputs": [],
   "source": [
    "# District data will be difficult to incorporate into the model, so drop for now\n",
    "mask = locations.location_type.isin(['country', 'region', 'district']).pipe(np.invert)\n",
    "locations = locations.loc[mask]"
   ]
  },
  {
   "cell_type": "code",
   "execution_count": 18,
   "metadata": {
    "ExecuteTime": {
     "end_time": "2016-07-30T22:05:22.457894",
     "start_time": "2016-07-30T22:05:22.449777"
    }
   },
   "outputs": [],
   "source": [
    "locations = locations.dropna(axis=1, how='all')"
   ]
  },
  {
   "cell_type": "code",
   "execution_count": 19,
   "metadata": {
    "ExecuteTime": {
     "end_time": "2016-07-30T22:05:30.181602",
     "start_time": "2016-07-30T22:05:30.162118"
    }
   },
   "outputs": [],
   "source": [
    "location_key = locations[['location', 'location_type']]\n",
    "location_key[['country', 'province', 'county', 'city']] = location_key.location.str.split(r\"\"\"-\"\"\", expand=True)"
   ]
  },
  {
   "cell_type": "code",
   "execution_count": 20,
   "metadata": {
    "ExecuteTime": {
     "end_time": "2016-07-30T22:05:31.635555",
     "start_time": "2016-07-30T22:05:31.617769"
    }
   },
   "outputs": [],
   "source": [
    "def map_locations(x):\n",
    "    location_mapper = {'state':'province',\n",
    "                       'municipality':'city',\n",
    "                       'department':'province',\n",
    "                       'Region':'province',\n",
    "                       'Collectivity':'province',\n",
    "                       'territory':'province'\n",
    "                      }\n",
    "    if x in location_mapper.keys():\n",
    "        return location_mapper[x]\n",
    "    else:\n",
    "        return x\n",
    "    \n",
    "location_key['location_type'] = location_key.location_type.apply(lambda x: map_locations(x))"
   ]
  },
  {
   "cell_type": "code",
   "execution_count": 21,
   "metadata": {
    "ExecuteTime": {
     "end_time": "2016-07-30T22:05:38.405178",
     "start_time": "2016-07-30T22:05:38.373975"
    }
   },
   "outputs": [],
   "source": [
    "# Fix the US Virgin Islands entries\n",
    "mask = ( location_key.county.isnull() & \n",
    "         (location_key.location_type=='county') &\n",
    "         (location_key.country=='United_States_Virgin_Islands')\n",
    "        )\n",
    "\n",
    "location_key.loc[mask, 'county'] = location_key.loc[mask, 'province']\n",
    "location_key.loc[mask, 'province'] = 'Virgin Islands'\n",
    "location_key.loc[mask, 'country'] = 'United States'\n",
    "\n",
    "\n",
    "mask = ( location_key.province.isnull() & \n",
    "         (location_key.location_type=='province'))\n",
    "location_key.loc[mask, 'province'] = 'Virgin Islands'\n",
    "location_key.loc[mask, 'country'] = 'United States'\n",
    "\n",
    "\n",
    "mask = (location_key.location=='United_States-US_Virgin_Islands')\n",
    "location_key.loc[mask, 'province'] = 'Virgin Islands'"
   ]
  },
  {
   "cell_type": "code",
   "execution_count": 22,
   "metadata": {
    "ExecuteTime": {
     "end_time": "2016-07-30T22:05:47.732145",
     "start_time": "2016-07-30T22:05:47.718212"
    }
   },
   "outputs": [],
   "source": [
    "# Fix remaining counties (mainly in Ecuador and Panama)\n",
    "mask = ( location_key.county.isnull() & \n",
    "         (location_key.location_type=='county'))\n",
    "\n",
    "location_key.loc[mask, 'county'] = location_key.loc[mask, 'province']\n",
    "location_key.loc[mask, 'province'] = None"
   ]
  },
  {
   "cell_type": "code",
   "execution_count": 23,
   "metadata": {
    "ExecuteTime": {
     "end_time": "2016-07-30T22:05:48.273524",
     "start_time": "2016-07-30T22:05:48.261580"
    }
   },
   "outputs": [],
   "source": [
    "# Move cities to correct column\n",
    "mask = ( location_key.city.isnull() & \n",
    "         (location_key.location_type=='city'))\n",
    "\n",
    "location_key.loc[mask, 'city'] = location_key.loc[mask, 'county']\n",
    "location_key.loc[mask, 'county'] = None"
   ]
  },
  {
   "cell_type": "code",
   "execution_count": 24,
   "metadata": {
    "ExecuteTime": {
     "end_time": "2016-07-30T22:05:49.099307",
     "start_time": "2016-07-30T22:05:49.086931"
    }
   },
   "outputs": [],
   "source": [
    "# More fixes for cities\n",
    "mask = ( location_key.city.isnull() & \n",
    "         (location_key.location_type=='city'))\n",
    "\n",
    "location_key.loc[mask, 'city'] = location_key.loc[mask, 'province']\n",
    "location_key.loc[mask, 'province'] = None"
   ]
  },
  {
   "cell_type": "code",
   "execution_count": 25,
   "metadata": {
    "ExecuteTime": {
     "end_time": "2016-07-30T22:05:53.027035",
     "start_time": "2016-07-30T22:05:53.020245"
    },
    "collapsed": true
   },
   "outputs": [],
   "source": [
    "# Drop unknown cities\n",
    "location_key = location_key[location_key.city.isin(['Unknown','Not_Reported']).pipe(np.invert)]"
   ]
  },
  {
   "cell_type": "code",
   "execution_count": 26,
   "metadata": {
    "ExecuteTime": {
     "end_time": "2016-07-30T22:05:54.821976",
     "start_time": "2016-07-30T22:05:54.812388"
    },
    "collapsed": true
   },
   "outputs": [],
   "source": [
    "# Fix for Dade County Florida\n",
    "mask = location_key.location=='United_States-Florida-Miami-Dade_County'\n",
    "location_key.loc[mask, 'county'] = 'Dade_County'\n",
    "location_key.loc[mask, 'city'] = 'Miami'"
   ]
  },
  {
   "cell_type": "code",
   "execution_count": 27,
   "metadata": {
    "ExecuteTime": {
     "end_time": "2016-07-30T22:05:57.848757",
     "start_time": "2016-07-30T22:05:57.839549"
    },
    "collapsed": true
   },
   "outputs": [],
   "source": [
    "# Fix for Santiago Del Estero Argentina\n",
    "location_key.loc[location_key.location=='Argentina-Sgo_Del_Estero', 'province'] = 'Santiago Del Estero'\n",
    "location_key.loc[location_key.location=='Argentina-CABA', 'province'] = 'Ciudad de Buenos Aires'"
   ]
  },
  {
   "cell_type": "code",
   "execution_count": 28,
   "metadata": {
    "ExecuteTime": {
     "end_time": "2016-07-30T22:06:00.872404",
     "start_time": "2016-07-30T22:06:00.862762"
    },
    "collapsed": true
   },
   "outputs": [],
   "source": [
    "# Remove county name\n",
    "location_key['county'] = location_key.county.str.replace('_County','')\n",
    "\n",
    "location_key = location_key[location_key.county.isin(['Unknown','Not_Reported']).pipe(np.invert)]"
   ]
  },
  {
   "cell_type": "code",
   "execution_count": 29,
   "metadata": {
    "ExecuteTime": {
     "end_time": "2016-07-30T22:06:04.298852",
     "start_time": "2016-07-30T22:06:04.279570"
    },
    "collapsed": true
   },
   "outputs": [],
   "source": [
    "# Remove all underscores\n",
    "for col in ['country', 'province', 'county', 'city']:\n",
    "    location_key[col] = location_key[col].str.replace('_', ' ')"
   ]
  },
  {
   "cell_type": "code",
   "execution_count": 44,
   "metadata": {
    "ExecuteTime": {
     "end_time": "2016-07-30T22:08:29.789446",
     "start_time": "2016-07-30T22:08:29.750184"
    }
   },
   "outputs": [
    {
     "data": {
      "text/html": [
       "<div>\n",
       "<table border=\"1\" class=\"dataframe\">\n",
       "  <thead>\n",
       "    <tr style=\"text-align: right;\">\n",
       "      <th></th>\n",
       "      <th>location</th>\n",
       "      <th>location_type</th>\n",
       "      <th>country</th>\n",
       "      <th>province</th>\n",
       "      <th>county</th>\n",
       "      <th>city</th>\n",
       "    </tr>\n",
       "  </thead>\n",
       "  <tbody>\n",
       "    <tr>\n",
       "      <th>1744</th>\n",
       "      <td>United_States-Florida-Walton_County</td>\n",
       "      <td>county</td>\n",
       "      <td>United States</td>\n",
       "      <td>Florida</td>\n",
       "      <td>Walton</td>\n",
       "      <td>None</td>\n",
       "    </tr>\n",
       "    <tr>\n",
       "      <th>1745</th>\n",
       "      <td>United_States-Florida-Washington_County</td>\n",
       "      <td>county</td>\n",
       "      <td>United States</td>\n",
       "      <td>Florida</td>\n",
       "      <td>Washington</td>\n",
       "      <td>None</td>\n",
       "    </tr>\n",
       "    <tr>\n",
       "      <th>1746</th>\n",
       "      <td>United_States_Virgin_Islands</td>\n",
       "      <td>province</td>\n",
       "      <td>United States</td>\n",
       "      <td>Virgin Islands</td>\n",
       "      <td>None</td>\n",
       "      <td>None</td>\n",
       "    </tr>\n",
       "    <tr>\n",
       "      <th>1747</th>\n",
       "      <td>United_States_Virgin_Islands-Saint_Thomas</td>\n",
       "      <td>county</td>\n",
       "      <td>United States</td>\n",
       "      <td>Virgin Islands</td>\n",
       "      <td>Saint Thomas</td>\n",
       "      <td>None</td>\n",
       "    </tr>\n",
       "    <tr>\n",
       "      <th>1748</th>\n",
       "      <td>United_States_Virgin_Islands-Saint_Croix</td>\n",
       "      <td>county</td>\n",
       "      <td>United States</td>\n",
       "      <td>Virgin Islands</td>\n",
       "      <td>Saint Croix</td>\n",
       "      <td>None</td>\n",
       "    </tr>\n",
       "    <tr>\n",
       "      <th>1749</th>\n",
       "      <td>United_States_Virgin_Islands-Saint_John</td>\n",
       "      <td>county</td>\n",
       "      <td>United States</td>\n",
       "      <td>Virgin Islands</td>\n",
       "      <td>Saint John</td>\n",
       "      <td>None</td>\n",
       "    </tr>\n",
       "  </tbody>\n",
       "</table>\n",
       "</div>"
      ],
      "text/plain": [
       "                                       location location_type        country  \\\n",
       "1744        United_States-Florida-Walton_County        county  United States   \n",
       "1745    United_States-Florida-Washington_County        county  United States   \n",
       "1746               United_States_Virgin_Islands      province  United States   \n",
       "1747  United_States_Virgin_Islands-Saint_Thomas        county  United States   \n",
       "1748   United_States_Virgin_Islands-Saint_Croix        county  United States   \n",
       "1749    United_States_Virgin_Islands-Saint_John        county  United States   \n",
       "\n",
       "            province        county  city  \n",
       "1744         Florida        Walton  None  \n",
       "1745         Florida    Washington  None  \n",
       "1746  Virgin Islands          None  None  \n",
       "1747  Virgin Islands  Saint Thomas  None  \n",
       "1748  Virgin Islands   Saint Croix  None  \n",
       "1749  Virgin Islands    Saint John  None  "
      ]
     },
     "execution_count": 44,
     "metadata": {},
     "output_type": "execute_result"
    }
   ],
   "source": [
    "# For checking the data 50 lines at a time\n",
    "i=32\n",
    "nsize = 50\n",
    "location_key.iloc[i*nsize:(i+1)*nsize]"
   ]
  },
  {
   "cell_type": "code",
   "execution_count": 45,
   "metadata": {
    "ExecuteTime": {
     "end_time": "2016-07-30T22:09:05.571730",
     "start_time": "2016-07-30T22:08:36.059057"
    },
    "collapsed": true
   },
   "outputs": [],
   "source": [
    "save_it(location_key, '00_cleaned_city_names')"
   ]
  }
 ],
 "metadata": {
  "anaconda-cloud": {},
  "kernelspec": {
   "display_name": "Python 3",
   "language": "python",
   "name": "python3"
  },
  "language_info": {
   "codemirror_mode": {
    "name": "ipython",
    "version": 3
   },
   "file_extension": ".py",
   "mimetype": "text/x-python",
   "name": "python",
   "nbconvert_exporter": "python",
   "pygments_lexer": "ipython3",
   "version": "3.7.3"
  }
 },
 "nbformat": 4,
 "nbformat_minor": 1
}
