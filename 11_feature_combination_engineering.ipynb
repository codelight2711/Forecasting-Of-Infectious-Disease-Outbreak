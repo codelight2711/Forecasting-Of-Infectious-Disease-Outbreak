{
 "cells": [
  {
   "cell_type": "markdown",
   "metadata": {},
   "source": []
  },
  {
   "cell_type": "code",
   "execution_count": 1,
   "metadata": {
    "ExecuteTime": {
     "end_time": "2016-07-31T23:20:48.095604",
     "start_time": "2016-07-31T23:20:45.964978"
    },
    "collapsed": true,
    "run_control": {
     "marked": true
    }
   },
   "outputs": [],
   "source": [
    "import pandas as pd\n",
    "import numpy as np\n",
    "import dill\n",
    "from datetime import timedelta\n",
    "from csv_pkl_sql import save_it, csv_it, pkl_it\n",
    "\n",
    "import matplotlib.pyplot as plt\n",
    "import seaborn as sns\n",
    "\n",
    "%matplotlib inline"
   ]
  },
  {
   "cell_type": "markdown",
   "metadata": {
    "run_control": {
     "marked": true
    }
   },
   "source": [
    "## Location data"
   ]
  },
  {
   "cell_type": "code",
   "execution_count": 2,
   "metadata": {
    "ExecuteTime": {
     "end_time": "2016-07-31T23:20:48.126090",
     "start_time": "2016-07-31T23:20:48.097596"
    },
    "run_control": {
     "marked": true
    }
   },
   "outputs": [
    {
     "data": {
      "text/html": [
       "<div>\n",
       "<table border=\"1\" class=\"dataframe\">\n",
       "  <thead>\n",
       "    <tr style=\"text-align: right;\">\n",
       "      <th></th>\n",
       "      <th>location</th>\n",
       "      <th>location_type</th>\n",
       "      <th>country</th>\n",
       "      <th>province</th>\n",
       "      <th>county</th>\n",
       "      <th>city</th>\n",
       "    </tr>\n",
       "  </thead>\n",
       "  <tbody>\n",
       "    <tr>\n",
       "      <th>0</th>\n",
       "      <td>Argentina-Buenos_Aires</td>\n",
       "      <td>province</td>\n",
       "      <td>Argentina</td>\n",
       "      <td>Buenos Aires</td>\n",
       "      <td>None</td>\n",
       "      <td>None</td>\n",
       "    </tr>\n",
       "  </tbody>\n",
       "</table>\n",
       "</div>"
      ],
      "text/plain": [
       "                 location location_type    country      province county  city\n",
       "0  Argentina-Buenos_Aires      province  Argentina  Buenos Aires   None  None"
      ]
     },
     "execution_count": 2,
     "metadata": {},
     "output_type": "execute_result"
    }
   ],
   "source": [
    "location_key = pd.read_pickle('../pkl/00_cleaned_city_names.pkl')\n",
    "location_key.head(1)"
   ]
  },
  {
   "cell_type": "code",
   "execution_count": 3,
   "metadata": {
    "ExecuteTime": {
     "end_time": "2016-07-31T23:20:48.153778",
     "start_time": "2016-07-31T23:20:48.128816"
    },
    "run_control": {
     "marked": true
    }
   },
   "outputs": [
    {
     "data": {
      "text/html": [
       "<div>\n",
       "<table border=\"1\" class=\"dataframe\">\n",
       "  <thead>\n",
       "    <tr style=\"text-align: right;\">\n",
       "      <th></th>\n",
       "      <th>location</th>\n",
       "      <th>latitude</th>\n",
       "      <th>longitude</th>\n",
       "    </tr>\n",
       "  </thead>\n",
       "  <tbody>\n",
       "    <tr>\n",
       "      <th>0</th>\n",
       "      <td>Argentina-Buenos_Aires</td>\n",
       "      <td>-34.603684</td>\n",
       "      <td>-58.381559</td>\n",
       "    </tr>\n",
       "  </tbody>\n",
       "</table>\n",
       "</div>"
      ],
      "text/plain": [
       "                 location   latitude  longitude\n",
       "0  Argentina-Buenos_Aires -34.603684 -58.381559"
      ]
     },
     "execution_count": 3,
     "metadata": {},
     "output_type": "execute_result"
    }
   ],
   "source": [
    "lat_long = pd.read_pickle('../pkl/01_latitude_longitude_google.pkl')\n",
    "lat_long.head(1)"
   ]
  },
  {
   "cell_type": "code",
   "execution_count": 4,
   "metadata": {
    "ExecuteTime": {
     "end_time": "2016-07-31T23:20:48.165015",
     "start_time": "2016-07-31T23:20:48.157444"
    },
    "run_control": {
     "marked": true
    }
   },
   "outputs": [
    {
     "data": {
      "text/plain": [
       "((1606, 6), (1606, 3))"
      ]
     },
     "execution_count": 4,
     "metadata": {},
     "output_type": "execute_result"
    }
   ],
   "source": [
    "location_key.shape, lat_long.shape"
   ]
  },
  {
   "cell_type": "code",
   "execution_count": 5,
   "metadata": {
    "ExecuteTime": {
     "end_time": "2016-07-31T23:20:48.196770",
     "start_time": "2016-07-31T23:20:48.168330"
    },
    "run_control": {
     "marked": true
    }
   },
   "outputs": [
    {
     "data": {
      "text/html": [
       "<div>\n",
       "<table border=\"1\" class=\"dataframe\">\n",
       "  <thead>\n",
       "    <tr style=\"text-align: right;\">\n",
       "      <th></th>\n",
       "      <th>location</th>\n",
       "      <th>location_type</th>\n",
       "      <th>country</th>\n",
       "      <th>province</th>\n",
       "      <th>county</th>\n",
       "      <th>city</th>\n",
       "      <th>latitude</th>\n",
       "      <th>longitude</th>\n",
       "    </tr>\n",
       "  </thead>\n",
       "  <tbody>\n",
       "    <tr>\n",
       "      <th>0</th>\n",
       "      <td>Argentina-Buenos_Aires</td>\n",
       "      <td>province</td>\n",
       "      <td>Argentina</td>\n",
       "      <td>Buenos Aires</td>\n",
       "      <td>None</td>\n",
       "      <td>None</td>\n",
       "      <td>-34.603684</td>\n",
       "      <td>-58.381559</td>\n",
       "    </tr>\n",
       "  </tbody>\n",
       "</table>\n",
       "</div>"
      ],
      "text/plain": [
       "                 location location_type    country      province county  city  \\\n",
       "0  Argentina-Buenos_Aires      province  Argentina  Buenos Aires   None  None   \n",
       "\n",
       "    latitude  longitude  \n",
       "0 -34.603684 -58.381559  "
      ]
     },
     "execution_count": 5,
     "metadata": {},
     "output_type": "execute_result"
    }
   ],
   "source": [
    "location = pd.merge(location_key, lat_long, on='location', how='inner')\n",
    "location.head(1)"
   ]
  },
  {
   "cell_type": "code",
   "execution_count": 6,
   "metadata": {
    "ExecuteTime": {
     "end_time": "2016-07-31T23:20:48.302299",
     "start_time": "2016-07-31T23:20:48.295505"
    },
    "run_control": {
     "marked": true
    }
   },
   "outputs": [
    {
     "data": {
      "text/plain": [
       "(1616, 8)"
      ]
     },
     "execution_count": 6,
     "metadata": {},
     "output_type": "execute_result"
    }
   ],
   "source": [
    "location.shape"
   ]
  },
  {
   "cell_type": "code",
   "execution_count": 7,
   "metadata": {
    "collapsed": true
   },
   "outputs": [],
   "source": [
    "save_it(location[['location','country']], '11_feature_engineering_location')"
   ]
  },
  {
   "cell_type": "markdown",
   "metadata": {
    "ExecuteTime": {
     "end_time": "2016-07-28T04:19:28.316578",
     "start_time": "2016-07-28T04:19:28.289485"
    },
    "run_control": {
     "marked": true
    }
   },
   "source": [
    "## Airport information"
   ]
  },
  {
   "cell_type": "code",
   "execution_count": 8,
   "metadata": {
    "ExecuteTime": {
     "end_time": "2016-07-31T23:20:49.465760",
     "start_time": "2016-07-31T23:20:49.424479"
    },
    "run_control": {
     "marked": true
    }
   },
   "outputs": [
    {
     "data": {
      "text/html": [
       "<div>\n",
       "<table border=\"1\" class=\"dataframe\">\n",
       "  <thead>\n",
       "    <tr style=\"text-align: right;\">\n",
       "      <th></th>\n",
       "      <th>city</th>\n",
       "      <th>FAA</th>\n",
       "      <th>IATA</th>\n",
       "      <th>ICAO</th>\n",
       "      <th>kind</th>\n",
       "      <th>latitude</th>\n",
       "      <th>longitude</th>\n",
       "      <th>max_runway</th>\n",
       "      <th>name</th>\n",
       "      <th>country</th>\n",
       "      <th>state</th>\n",
       "    </tr>\n",
       "  </thead>\n",
       "  <tbody>\n",
       "    <tr>\n",
       "      <th>56</th>\n",
       "      <td>BAHIA BLANCA</td>\n",
       "      <td>NaN</td>\n",
       "      <td>BHI</td>\n",
       "      <td>SAZB</td>\n",
       "      <td>Medium</td>\n",
       "      <td>-38.725</td>\n",
       "      <td>-62.169</td>\n",
       "      <td>8579.0</td>\n",
       "      <td>COMANDANTE ESPORA</td>\n",
       "      <td>Argentina</td>\n",
       "      <td>NaN</td>\n",
       "    </tr>\n",
       "  </tbody>\n",
       "</table>\n",
       "</div>"
      ],
      "text/plain": [
       "            city  FAA IATA  ICAO    kind  latitude  longitude  max_runway  \\\n",
       "56  BAHIA BLANCA  NaN  BHI  SAZB  Medium   -38.725    -62.169      8579.0   \n",
       "\n",
       "                 name    country state  \n",
       "56  COMANDANTE ESPORA  Argentina   NaN  "
      ]
     },
     "execution_count": 8,
     "metadata": {},
     "output_type": "execute_result"
    }
   ],
   "source": [
    "airport = pd.read_pickle('../pkl/02_airport_information_fallingrain.pkl')\n",
    "airport.head(1)"
   ]
  },
  {
   "cell_type": "code",
   "execution_count": 9,
   "metadata": {
    "ExecuteTime": {
     "end_time": "2016-07-31T23:20:49.696571",
     "start_time": "2016-07-31T23:20:49.660517"
    },
    "run_control": {
     "marked": true
    }
   },
   "outputs": [
    {
     "data": {
      "text/html": [
       "<div>\n",
       "<table border=\"1\" class=\"dataframe\">\n",
       "  <thead>\n",
       "    <tr style=\"text-align: right;\">\n",
       "      <th></th>\n",
       "      <th>location</th>\n",
       "      <th>latitude</th>\n",
       "      <th>longitude</th>\n",
       "      <th>airport_index</th>\n",
       "      <th>country</th>\n",
       "      <th>name</th>\n",
       "      <th>FAA</th>\n",
       "      <th>IATA</th>\n",
       "      <th>ICAO</th>\n",
       "    </tr>\n",
       "  </thead>\n",
       "  <tbody>\n",
       "    <tr>\n",
       "      <th>0</th>\n",
       "      <td>Argentina-Buenos_Aires</td>\n",
       "      <td>-34.603684</td>\n",
       "      <td>-58.381559</td>\n",
       "      <td>80</td>\n",
       "      <td>Argentina</td>\n",
       "      <td>AEROPARQUE JORGE NEWBERY</td>\n",
       "      <td>NaN</td>\n",
       "      <td>AEP</td>\n",
       "      <td>SABE</td>\n",
       "    </tr>\n",
       "  </tbody>\n",
       "</table>\n",
       "</div>"
      ],
      "text/plain": [
       "                 location   latitude  longitude  airport_index    country  \\\n",
       "0  Argentina-Buenos_Aires -34.603684 -58.381559             80  Argentina   \n",
       "\n",
       "                       name  FAA IATA  ICAO  \n",
       "0  AEROPARQUE JORGE NEWBERY  NaN  AEP  SABE  "
      ]
     },
     "execution_count": 9,
     "metadata": {},
     "output_type": "execute_result"
    }
   ],
   "source": [
    "airport2 = pd.read_pickle('../pkl/04_merged_latitude_longitude_airport_checkpoint.pkl')\n",
    "airport2.head(1)"
   ]
  },
  {
   "cell_type": "markdown",
   "metadata": {
    "run_control": {
     "marked": true
    }
   },
   "source": [
    "Create a dataframe of distance to airport and distance to major airport.x"
   ]
  },
  {
   "cell_type": "code",
   "execution_count": 10,
   "metadata": {
    "ExecuteTime": {
     "end_time": "2016-07-31T23:20:50.715020",
     "start_time": "2016-07-31T23:20:50.709572"
    }
   },
   "outputs": [
    {
     "data": {
      "text/plain": [
       "((2062, 11), (1606, 9))"
      ]
     },
     "execution_count": 10,
     "metadata": {},
     "output_type": "execute_result"
    }
   ],
   "source": [
    "airport.shape, airport2.shape"
   ]
  },
  {
   "cell_type": "code",
   "execution_count": 11,
   "metadata": {
    "ExecuteTime": {
     "end_time": "2016-07-31T23:20:51.087951",
     "start_time": "2016-07-31T23:20:51.079904"
    },
    "run_control": {
     "marked": true
    }
   },
   "outputs": [
    {
     "data": {
      "text/plain": [
       "array([u'Medium', u'Large'], dtype=object)"
      ]
     },
     "execution_count": 11,
     "metadata": {},
     "output_type": "execute_result"
    }
   ],
   "source": [
    "airport.kind.unique()"
   ]
  },
  {
   "cell_type": "code",
   "execution_count": 12,
   "metadata": {
    "collapsed": true
   },
   "outputs": [],
   "source": [
    "save_it(airport, '11_feature_engineering_airport')"
   ]
  },
  {
   "cell_type": "markdown",
   "metadata": {
    "run_control": {
     "marked": true
    }
   },
   "source": [
    "###  <font color='red'>TODO--convert this to an actual distance</font>"
   ]
  },
  {
   "cell_type": "code",
   "execution_count": 13,
   "metadata": {
    "ExecuteTime": {
     "end_time": "2016-07-31T23:22:10.421032",
     "start_time": "2016-07-31T23:22:10.260396"
    },
    "run_control": {
     "marked": true
    }
   },
   "outputs": [],
   "source": [
    "# Closest medium or large airport\n",
    "airport_coords = airport[['latitude', 'longitude']].values[np.newaxis, :]\n",
    "places_coords = np.rollaxis(lat_long[['latitude','longitude']].values[np.newaxis, :], 0, -1)\n",
    "dist_coords = ((places_coords - airport_coords)**2).sum(axis=-1)\n",
    "min_dist = dist_coords.min(axis=1)\n",
    "\n",
    "airport_distance = lat_long[['location']].copy()\n",
    "airport_distance['airport_dist_any'] = min_dist\n",
    "\n",
    "# Closest large airport\n",
    "airport_coords = airport.loc[airport.kind=='Large', \n",
    "                             ['latitude', 'longitude']].values[np.newaxis, :]\n",
    "places_coords = np.rollaxis(lat_long[['latitude','longitude']].values[np.newaxis, :], 0, -1)\n",
    "dist_coords = ((places_coords - airport_coords)**2).sum(axis=-1)\n",
    "min_dist = dist_coords.min(axis=1)\n",
    "\n",
    "airport_distance['airport_dist_large'] = min_dist"
   ]
  },
  {
   "cell_type": "code",
   "execution_count": 14,
   "metadata": {
    "ExecuteTime": {
     "end_time": "2016-07-31T23:22:10.786378",
     "start_time": "2016-07-31T23:22:10.767269"
    },
    "run_control": {
     "marked": true
    }
   },
   "outputs": [
    {
     "data": {
      "text/html": [
       "<div>\n",
       "<table border=\"1\" class=\"dataframe\">\n",
       "  <thead>\n",
       "    <tr style=\"text-align: right;\">\n",
       "      <th></th>\n",
       "      <th>location</th>\n",
       "      <th>airport_dist_any</th>\n",
       "      <th>airport_dist_large</th>\n",
       "    </tr>\n",
       "  </thead>\n",
       "  <tbody>\n",
       "    <tr>\n",
       "      <th>0</th>\n",
       "      <td>Argentina-Buenos_Aires</td>\n",
       "      <td>0.003183</td>\n",
       "      <td>0.071514</td>\n",
       "    </tr>\n",
       "    <tr>\n",
       "      <th>1</th>\n",
       "      <td>Argentina-CABA</td>\n",
       "      <td>0.003183</td>\n",
       "      <td>0.071514</td>\n",
       "    </tr>\n",
       "    <tr>\n",
       "      <th>2</th>\n",
       "      <td>Argentina-Cordoba</td>\n",
       "      <td>0.009602</td>\n",
       "      <td>43.526915</td>\n",
       "    </tr>\n",
       "    <tr>\n",
       "      <th>3</th>\n",
       "      <td>Argentina-Entre_Rios</td>\n",
       "      <td>0.000658</td>\n",
       "      <td>13.126461</td>\n",
       "    </tr>\n",
       "    <tr>\n",
       "      <th>4</th>\n",
       "      <td>Argentina-Santa_Fe</td>\n",
       "      <td>0.023428</td>\n",
       "      <td>14.983910</td>\n",
       "    </tr>\n",
       "  </tbody>\n",
       "</table>\n",
       "</div>"
      ],
      "text/plain": [
       "                 location  airport_dist_any  airport_dist_large\n",
       "0  Argentina-Buenos_Aires          0.003183            0.071514\n",
       "1          Argentina-CABA          0.003183            0.071514\n",
       "2       Argentina-Cordoba          0.009602           43.526915\n",
       "3    Argentina-Entre_Rios          0.000658           13.126461\n",
       "4      Argentina-Santa_Fe          0.023428           14.983910"
      ]
     },
     "execution_count": 14,
     "metadata": {},
     "output_type": "execute_result"
    }
   ],
   "source": [
    "airport_distance.head()"
   ]
  },
  {
   "cell_type": "code",
   "execution_count": 15,
   "metadata": {
    "collapsed": true
   },
   "outputs": [],
   "source": [
    "save_it(airport_distance, '11_feature_engineering_airport_distance')"
   ]
  },
  {
   "cell_type": "markdown",
   "metadata": {
    "run_control": {
     "marked": true
    }
   },
   "source": [
    "###  <font color='red'>TODO--add flight information, how to adjust it for on-going outbreaks?</font>\n",
    "\n",
    "## Weather information"
   ]
  },
  {
   "cell_type": "code",
   "execution_count": 16,
   "metadata": {
    "ExecuteTime": {
     "end_time": "2016-07-31T23:23:46.482366",
     "start_time": "2016-07-31T23:23:46.346290"
    },
    "run_control": {
     "marked": true
    }
   },
   "outputs": [
    {
     "data": {
      "text/html": [
       "<div>\n",
       "<table border=\"1\" class=\"dataframe\">\n",
       "  <thead>\n",
       "    <tr style=\"text-align: right;\">\n",
       "      <th></th>\n",
       "      <th>date</th>\n",
       "      <th>max_temp</th>\n",
       "      <th>max_temp1</th>\n",
       "      <th>max_temp2</th>\n",
       "      <th>location</th>\n",
       "      <th>mean_temp</th>\n",
       "      <th>mean_temp1</th>\n",
       "      <th>mean_temp2</th>\n",
       "      <th>min_temp</th>\n",
       "      <th>min_temp1</th>\n",
       "      <th>min_temp2</th>\n",
       "      <th>dew_point</th>\n",
       "      <th>dew_point1</th>\n",
       "      <th>dew_point2</th>\n",
       "      <th>precipitation</th>\n",
       "      <th>precipitation1</th>\n",
       "      <th>precipitation2</th>\n",
       "      <th>wind</th>\n",
       "      <th>wind1</th>\n",
       "      <th>wind2</th>\n",
       "    </tr>\n",
       "  </thead>\n",
       "  <tbody>\n",
       "    <tr>\n",
       "      <th>0</th>\n",
       "      <td>2015-11-28</td>\n",
       "      <td>67.0</td>\n",
       "      <td>70.0</td>\n",
       "      <td>68.0</td>\n",
       "      <td>United_States-Florida-Columbia_County</td>\n",
       "      <td>53.0</td>\n",
       "      <td>57.0</td>\n",
       "      <td>56.0</td>\n",
       "      <td>38.0</td>\n",
       "      <td>43.0</td>\n",
       "      <td>44.0</td>\n",
       "      <td>41.0</td>\n",
       "      <td>50.0</td>\n",
       "      <td>47.0</td>\n",
       "      <td>0.0</td>\n",
       "      <td>2.05</td>\n",
       "      <td>2.32</td>\n",
       "      <td>4.0</td>\n",
       "      <td>5.0</td>\n",
       "      <td>6.0</td>\n",
       "    </tr>\n",
       "    <tr>\n",
       "      <th>1</th>\n",
       "      <td>2015-12-05</td>\n",
       "      <td>66.0</td>\n",
       "      <td>67.0</td>\n",
       "      <td>70.0</td>\n",
       "      <td>United_States-Florida-Columbia_County</td>\n",
       "      <td>56.0</td>\n",
       "      <td>53.0</td>\n",
       "      <td>57.0</td>\n",
       "      <td>45.0</td>\n",
       "      <td>38.0</td>\n",
       "      <td>43.0</td>\n",
       "      <td>48.0</td>\n",
       "      <td>41.0</td>\n",
       "      <td>50.0</td>\n",
       "      <td>0.5</td>\n",
       "      <td>0.00</td>\n",
       "      <td>2.05</td>\n",
       "      <td>5.0</td>\n",
       "      <td>4.0</td>\n",
       "      <td>5.0</td>\n",
       "    </tr>\n",
       "  </tbody>\n",
       "</table>\n",
       "</div>"
      ],
      "text/plain": [
       "        date  max_temp  max_temp1  max_temp2  \\\n",
       "0 2015-11-28      67.0       70.0       68.0   \n",
       "1 2015-12-05      66.0       67.0       70.0   \n",
       "\n",
       "                                location  mean_temp  mean_temp1  mean_temp2  \\\n",
       "0  United_States-Florida-Columbia_County       53.0        57.0        56.0   \n",
       "1  United_States-Florida-Columbia_County       56.0        53.0        57.0   \n",
       "\n",
       "   min_temp  min_temp1  min_temp2  dew_point  dew_point1  dew_point2  \\\n",
       "0      38.0       43.0       44.0       41.0        50.0        47.0   \n",
       "1      45.0       38.0       43.0       48.0        41.0        50.0   \n",
       "\n",
       "   precipitation  precipitation1  precipitation2  wind  wind1  wind2  \n",
       "0            0.0            2.05            2.32   4.0    5.0    6.0  \n",
       "1            0.5            0.00            2.05   5.0    4.0    5.0  "
      ]
     },
     "execution_count": 16,
     "metadata": {},
     "output_type": "execute_result"
    }
   ],
   "source": [
    "weather = pd.read_pickle('../pkl/04_weekly_weather.pkl')\n",
    "weather.head(2)"
   ]
  },
  {
   "cell_type": "code",
   "execution_count": 17,
   "metadata": {
    "collapsed": true
   },
   "outputs": [],
   "source": [
    "save_it(weather, '11_feature_engineering_weather')"
   ]
  },
  {
   "cell_type": "markdown",
   "metadata": {
    "run_control": {
     "marked": true
    }
   },
   "source": [
    "## Mosquito sightings"
   ]
  },
  {
   "cell_type": "code",
   "execution_count": 18,
   "metadata": {
    "ExecuteTime": {
     "end_time": "2016-07-31T23:23:47.401418",
     "start_time": "2016-07-31T23:23:47.311929"
    },
    "run_control": {
     "marked": true
    }
   },
   "outputs": [
    {
     "data": {
      "text/html": [
       "<div>\n",
       "<table border=\"1\" class=\"dataframe\">\n",
       "  <thead>\n",
       "    <tr style=\"text-align: right;\">\n",
       "      <th></th>\n",
       "      <th>vector</th>\n",
       "      <th>occurrence_id</th>\n",
       "      <th>source_type</th>\n",
       "      <th>location_type</th>\n",
       "      <th>polygon_admin</th>\n",
       "      <th>latitude</th>\n",
       "      <th>longitude</th>\n",
       "      <th>year</th>\n",
       "      <th>country</th>\n",
       "      <th>country_id</th>\n",
       "      <th>gaul_ad0</th>\n",
       "      <th>status</th>\n",
       "    </tr>\n",
       "  </thead>\n",
       "  <tbody>\n",
       "    <tr>\n",
       "      <th>34478</th>\n",
       "      <td>Aedes albopictus</td>\n",
       "      <td>34479</td>\n",
       "      <td>unpublished</td>\n",
       "      <td>point</td>\n",
       "      <td>-999</td>\n",
       "      <td>22.89</td>\n",
       "      <td>120.44</td>\n",
       "      <td>2006</td>\n",
       "      <td>Taiwan</td>\n",
       "      <td>TWN</td>\n",
       "      <td>886</td>\n",
       "      <td>NaN</td>\n",
       "    </tr>\n",
       "  </tbody>\n",
       "</table>\n",
       "</div>"
      ],
      "text/plain": [
       "                 vector  occurrence_id  source_type location_type  \\\n",
       "34478  Aedes albopictus          34479  unpublished         point   \n",
       "\n",
       "      polygon_admin  latitude  longitude  year country country_id  gaul_ad0  \\\n",
       "34478          -999     22.89     120.44  2006  Taiwan        TWN       886   \n",
       "\n",
       "      status  \n",
       "34478    NaN  "
      ]
     },
     "execution_count": 18,
     "metadata": {},
     "output_type": "execute_result"
    }
   ],
   "source": [
    "mosquito = pd.read_pickle('../pkl/05_mosquito_sightings.pkl')\n",
    "mosquito.head(1)"
   ]
  },
  {
   "cell_type": "markdown",
   "metadata": {},
   "source": [
    "###  <font color='red'>TODO--convert this to an inverse sum of distances</font>"
   ]
  },
  {
   "cell_type": "code",
   "execution_count": 19,
   "metadata": {
    "ExecuteTime": {
     "end_time": "2016-07-31T23:23:55.378830",
     "start_time": "2016-07-31T23:23:52.944125"
    },
    "collapsed": true,
    "run_control": {
     "marked": true
    }
   },
   "outputs": [],
   "source": [
    "# Closest mosquito sighting\n",
    "mosquito_coords = mosquito[['latitude', 'longitude']].values[np.newaxis, :]\n",
    "places_coords = np.rollaxis(lat_long[['latitude','longitude']].values[np.newaxis, :], 0, -1)\n",
    "dist_coords = ((places_coords - mosquito_coords)**2).sum(axis=-1)\n",
    "min_dist = dist_coords.min(axis=1)\n",
    "\n",
    "mosquito_distance = lat_long[['location']].copy()\n",
    "mosquito_distance['mosquito_dist'] = min_dist"
   ]
  },
  {
   "cell_type": "code",
   "execution_count": 20,
   "metadata": {
    "ExecuteTime": {
     "end_time": "2016-07-31T23:23:55.399758",
     "start_time": "2016-07-31T23:23:55.381912"
    },
    "run_control": {
     "marked": true
    }
   },
   "outputs": [
    {
     "data": {
      "text/html": [
       "<div>\n",
       "<table border=\"1\" class=\"dataframe\">\n",
       "  <thead>\n",
       "    <tr style=\"text-align: right;\">\n",
       "      <th></th>\n",
       "      <th>location</th>\n",
       "      <th>mosquito_dist</th>\n",
       "    </tr>\n",
       "  </thead>\n",
       "  <tbody>\n",
       "    <tr>\n",
       "      <th>0</th>\n",
       "      <td>Argentina-Buenos_Aires</td>\n",
       "      <td>0.008009</td>\n",
       "    </tr>\n",
       "    <tr>\n",
       "      <th>1</th>\n",
       "      <td>Argentina-CABA</td>\n",
       "      <td>0.008009</td>\n",
       "    </tr>\n",
       "    <tr>\n",
       "      <th>2</th>\n",
       "      <td>Argentina-Cordoba</td>\n",
       "      <td>0.000480</td>\n",
       "    </tr>\n",
       "    <tr>\n",
       "      <th>3</th>\n",
       "      <td>Argentina-Entre_Rios</td>\n",
       "      <td>1.244226</td>\n",
       "    </tr>\n",
       "    <tr>\n",
       "      <th>4</th>\n",
       "      <td>Argentina-Santa_Fe</td>\n",
       "      <td>0.742703</td>\n",
       "    </tr>\n",
       "  </tbody>\n",
       "</table>\n",
       "</div>"
      ],
      "text/plain": [
       "                 location  mosquito_dist\n",
       "0  Argentina-Buenos_Aires       0.008009\n",
       "1          Argentina-CABA       0.008009\n",
       "2       Argentina-Cordoba       0.000480\n",
       "3    Argentina-Entre_Rios       1.244226\n",
       "4      Argentina-Santa_Fe       0.742703"
      ]
     },
     "execution_count": 20,
     "metadata": {},
     "output_type": "execute_result"
    }
   ],
   "source": [
    "mosquito_distance.head()"
   ]
  },
  {
   "cell_type": "code",
   "execution_count": 21,
   "metadata": {
    "collapsed": true
   },
   "outputs": [],
   "source": [
    "save_it(mosquito_distance, '11_feature_engineering_mosquito_distance')"
   ]
  },
  {
   "cell_type": "markdown",
   "metadata": {
    "run_control": {
     "marked": true
    }
   },
   "source": [
    "## Population density"
   ]
  },
  {
   "cell_type": "code",
   "execution_count": 22,
   "metadata": {
    "ExecuteTime": {
     "end_time": "2016-07-31T23:24:00.269818",
     "start_time": "2016-07-31T23:24:00.239691"
    },
    "run_control": {
     "marked": true
    }
   },
   "outputs": [
    {
     "data": {
      "text/html": [
       "<div>\n",
       "<table border=\"1\" class=\"dataframe\">\n",
       "  <thead>\n",
       "    <tr style=\"text-align: right;\">\n",
       "      <th></th>\n",
       "      <th>location</th>\n",
       "      <th>density_per_km</th>\n",
       "    </tr>\n",
       "  </thead>\n",
       "  <tbody>\n",
       "    <tr>\n",
       "      <th>0</th>\n",
       "      <td>Argentina-Buenos_Aires</td>\n",
       "      <td>12346.605469</td>\n",
       "    </tr>\n",
       "  </tbody>\n",
       "</table>\n",
       "</div>"
      ],
      "text/plain": [
       "                 location  density_per_km\n",
       "0  Argentina-Buenos_Aires    12346.605469"
      ]
     },
     "execution_count": 22,
     "metadata": {},
     "output_type": "execute_result"
    }
   ],
   "source": [
    "population = pd.read_pickle('../pkl/06_population_density.pkl')\n",
    "population.head(1)"
   ]
  },
  {
   "cell_type": "code",
   "execution_count": 23,
   "metadata": {
    "collapsed": true
   },
   "outputs": [],
   "source": [
    "save_it(population, '11_feature_engineering_population')"
   ]
  },
  {
   "cell_type": "markdown",
   "metadata": {},
   "source": [
    "## GDP and PPP GDP"
   ]
  },
  {
   "cell_type": "code",
   "execution_count": 24,
   "metadata": {
    "ExecuteTime": {
     "end_time": "2016-07-31T23:34:23.199452",
     "start_time": "2016-07-31T23:34:23.190919"
    }
   },
   "outputs": [],
   "source": [
    "gdp = pd.read_pickle('../pkl/09_GDP_table.pkl')[['country', '2015']]\n",
    "gdp_ppp = pd.read_pickle('../pkl/09_GDP_PPP_table.pkl')[['country', '2015']]"
   ]
  },
  {
   "cell_type": "code",
   "execution_count": 25,
   "metadata": {
    "ExecuteTime": {
     "end_time": "2016-07-31T23:34:23.442555",
     "start_time": "2016-07-31T23:34:23.430502"
    }
   },
   "outputs": [
    {
     "data": {
      "text/html": [
       "<div>\n",
       "<table border=\"1\" class=\"dataframe\">\n",
       "  <thead>\n",
       "    <tr style=\"text-align: right;\">\n",
       "      <th></th>\n",
       "      <th>country</th>\n",
       "      <th>2015</th>\n",
       "    </tr>\n",
       "  </thead>\n",
       "  <tbody>\n",
       "    <tr>\n",
       "      <th>0</th>\n",
       "      <td>United States</td>\n",
       "      <td>17947.0</td>\n",
       "    </tr>\n",
       "  </tbody>\n",
       "</table>\n",
       "</div>"
      ],
      "text/plain": [
       "         country     2015\n",
       "0  United States  17947.0"
      ]
     },
     "execution_count": 25,
     "metadata": {},
     "output_type": "execute_result"
    }
   ],
   "source": [
    "gdp.head(1)"
   ]
  },
  {
   "cell_type": "code",
   "execution_count": 26,
   "metadata": {
    "ExecuteTime": {
     "end_time": "2016-07-31T23:34:49.177074",
     "start_time": "2016-07-31T23:34:49.168739"
    }
   },
   "outputs": [],
   "source": [
    "gdp.rename(columns={'2015':'gdp'}, inplace=True)\n",
    "gdp_ppp.rename(columns={'2015':'gdp_ppp'}, inplace=True)\n",
    "gdp = pd.merge(gdp, gdp_ppp, on='country')"
   ]
  },
  {
   "cell_type": "code",
   "execution_count": 27,
   "metadata": {
    "collapsed": true
   },
   "outputs": [],
   "source": [
    "save_it(gdp, '11_feature_engineering_gdp')"
   ]
  },
  {
   "cell_type": "markdown",
   "metadata": {
    "run_control": {
     "marked": true
    }
   },
   "source": [
    "## Combine dataframes"
   ]
  },
  {
   "cell_type": "code",
   "execution_count": 28,
   "metadata": {},
   "outputs": [
    {
     "name": "stdout",
     "output_type": "stream",
     "text": [
      "(107965, 20)\n",
      "(108373, 21)\n",
      "(109189, 23) 102\n",
      "(110719, 24)\n",
      "(120511, 25)\n",
      "(120511, 27)\n"
     ]
    }
   ],
   "source": [
    "print weather.shape\n",
    "\n",
    "model = pd.merge(weather,\n",
    "                 population,\n",
    "                 on='location', \n",
    "                 how='left')\n",
    "\n",
    "print model.shape\n",
    "\n",
    "model = pd.merge(model,\n",
    "                 airport_distance,\n",
    "                 on='location',\n",
    "                 how='left')\n",
    "\n",
    "print model.shape, model.isnull().sum().max()\n",
    "\n",
    "model = pd.merge(model,\n",
    "                 mosquito_distance,\n",
    "                 on='location',\n",
    "                 how='left')\n",
    "\n",
    "print model.dropna().shape\n",
    "\n",
    "model = pd.merge(model,\n",
    "         location[['location','country']],\n",
    "         on='location',\n",
    "         how='left')\n",
    "\n",
    "print model.dropna().shape\n",
    "\n",
    "model = pd.merge(model,\n",
    "                 gdp,\n",
    "                 on='country',\n",
    "                 how='left')\n",
    "\n",
    "print model.dropna().shape\n",
    "\n",
    "model.drop(['country'], axis=1, inplace=True)\n",
    "\n",
    "save_it(model, '11_features_engineered')"
   ]
  },
  {
   "cell_type": "code",
   "execution_count": 29,
   "metadata": {
    "ExecuteTime": {
     "end_time": "2016-07-31T23:36:10.298159",
     "start_time": "2016-07-31T23:36:10.273810"
    }
   },
   "outputs": [
    {
     "data": {
      "text/html": [
       "<div>\n",
       "<table border=\"1\" class=\"dataframe\">\n",
       "  <thead>\n",
       "    <tr style=\"text-align: right;\">\n",
       "      <th></th>\n",
       "      <th>0</th>\n",
       "    </tr>\n",
       "  </thead>\n",
       "  <tbody>\n",
       "    <tr>\n",
       "      <th>date</th>\n",
       "      <td>2015-11-28 00:00:00</td>\n",
       "    </tr>\n",
       "    <tr>\n",
       "      <th>max_temp</th>\n",
       "      <td>67</td>\n",
       "    </tr>\n",
       "    <tr>\n",
       "      <th>max_temp1</th>\n",
       "      <td>70</td>\n",
       "    </tr>\n",
       "    <tr>\n",
       "      <th>max_temp2</th>\n",
       "      <td>68</td>\n",
       "    </tr>\n",
       "    <tr>\n",
       "      <th>location</th>\n",
       "      <td>United_States-Florida-Columbia_County</td>\n",
       "    </tr>\n",
       "    <tr>\n",
       "      <th>mean_temp</th>\n",
       "      <td>53</td>\n",
       "    </tr>\n",
       "    <tr>\n",
       "      <th>mean_temp1</th>\n",
       "      <td>57</td>\n",
       "    </tr>\n",
       "    <tr>\n",
       "      <th>mean_temp2</th>\n",
       "      <td>56</td>\n",
       "    </tr>\n",
       "    <tr>\n",
       "      <th>min_temp</th>\n",
       "      <td>38</td>\n",
       "    </tr>\n",
       "    <tr>\n",
       "      <th>min_temp1</th>\n",
       "      <td>43</td>\n",
       "    </tr>\n",
       "    <tr>\n",
       "      <th>min_temp2</th>\n",
       "      <td>44</td>\n",
       "    </tr>\n",
       "    <tr>\n",
       "      <th>dew_point</th>\n",
       "      <td>41</td>\n",
       "    </tr>\n",
       "    <tr>\n",
       "      <th>dew_point1</th>\n",
       "      <td>50</td>\n",
       "    </tr>\n",
       "    <tr>\n",
       "      <th>dew_point2</th>\n",
       "      <td>47</td>\n",
       "    </tr>\n",
       "    <tr>\n",
       "      <th>precipitation</th>\n",
       "      <td>0</td>\n",
       "    </tr>\n",
       "    <tr>\n",
       "      <th>precipitation1</th>\n",
       "      <td>2.05</td>\n",
       "    </tr>\n",
       "    <tr>\n",
       "      <th>precipitation2</th>\n",
       "      <td>2.32</td>\n",
       "    </tr>\n",
       "    <tr>\n",
       "      <th>wind</th>\n",
       "      <td>4</td>\n",
       "    </tr>\n",
       "    <tr>\n",
       "      <th>wind1</th>\n",
       "      <td>5</td>\n",
       "    </tr>\n",
       "    <tr>\n",
       "      <th>wind2</th>\n",
       "      <td>6</td>\n",
       "    </tr>\n",
       "    <tr>\n",
       "      <th>density_per_km</th>\n",
       "      <td>1096.3</td>\n",
       "    </tr>\n",
       "    <tr>\n",
       "      <th>airport_dist_any</th>\n",
       "      <td>1.26305</td>\n",
       "    </tr>\n",
       "    <tr>\n",
       "      <th>airport_dist_large</th>\n",
       "      <td>1.29325</td>\n",
       "    </tr>\n",
       "    <tr>\n",
       "      <th>mosquito_dist</th>\n",
       "      <td>10.018</td>\n",
       "    </tr>\n",
       "    <tr>\n",
       "      <th>gdp</th>\n",
       "      <td>17947</td>\n",
       "    </tr>\n",
       "    <tr>\n",
       "      <th>gdp_ppp</th>\n",
       "      <td>17947</td>\n",
       "    </tr>\n",
       "  </tbody>\n",
       "</table>\n",
       "</div>"
      ],
      "text/plain": [
       "                                                        0\n",
       "date                                  2015-11-28 00:00:00\n",
       "max_temp                                               67\n",
       "max_temp1                                              70\n",
       "max_temp2                                              68\n",
       "location            United_States-Florida-Columbia_County\n",
       "mean_temp                                              53\n",
       "mean_temp1                                             57\n",
       "mean_temp2                                             56\n",
       "min_temp                                               38\n",
       "min_temp1                                              43\n",
       "min_temp2                                              44\n",
       "dew_point                                              41\n",
       "dew_point1                                             50\n",
       "dew_point2                                             47\n",
       "precipitation                                           0\n",
       "precipitation1                                       2.05\n",
       "precipitation2                                       2.32\n",
       "wind                                                    4\n",
       "wind1                                                   5\n",
       "wind2                                                   6\n",
       "density_per_km                                     1096.3\n",
       "airport_dist_any                                  1.26305\n",
       "airport_dist_large                                1.29325\n",
       "mosquito_dist                                      10.018\n",
       "gdp                                                 17947\n",
       "gdp_ppp                                             17947"
      ]
     },
     "execution_count": 29,
     "metadata": {},
     "output_type": "execute_result"
    }
   ],
   "source": [
    "model.head(1).T"
   ]
  }
 ],
 "metadata": {
  "anaconda-cloud": {},
  "kernelspec": {
   "display_name": "Python 3",
   "language": "python",
   "name": "python3"
  },
  "language_info": {
   "codemirror_mode": {
    "name": "ipython",
    "version": 3
   },
   "file_extension": ".py",
   "mimetype": "text/x-python",
   "name": "python",
   "nbconvert_exporter": "python",
   "pygments_lexer": "ipython3",
   "version": "3.7.3"
  }
 },
 "nbformat": 4,
 "nbformat_minor": 1
}
